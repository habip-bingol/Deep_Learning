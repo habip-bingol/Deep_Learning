{
 "cells": [
  {
   "cell_type": "markdown",
   "metadata": {
    "id": "MjcJfN_2q7xm"
   },
   "source": [
    "___\n",
    "\n",
    "<p style=\"text-align: center;\"><img src=\"https://docs.google.com/uc?id=1lY0Uj5R04yMY3-ZppPWxqCr5pvBLYPnV\" class=\"img-fluid\" alt=\"CLRSWY\"></p>\n",
    "\n",
    "___"
   ]
  },
  {
   "cell_type": "markdown",
   "metadata": {
    "id": "3wG1xZCHq7xs"
   },
   "source": [
    "<h1 style=\"text-align: center;\">Deep Learning<br><br>Session - 5<br><br>CNN Syntax Basics<br><br>MNIST Data<br><h1>"
   ]
  },
  {
   "cell_type": "markdown",
   "metadata": {
    "id": "XhU2dK-SORVC"
   },
   "source": [
    "# Dataset Info"
   ]
  },
  {
   "cell_type": "markdown",
   "metadata": {
    "id": "Kfry5msUq7xt"
   },
   "source": [
    "The MNIST database (Modified National Institute of Standards and Technology database) is a large database of handwritten digits that is commonly used for training various image processing systems. The database is also widely used for training and testing in the field of machine learning. It was created by \"re-mixing\" the samples from NIST's original datasets. The creators felt that since NIST's training dataset was taken from American Census Bureau employees, while the testing dataset was taken from American high school students, it was not well-suited for machine learning experiments. Furthermore, the black and white images from NIST were normalized to fit into a 28x28 pixel bounding box and anti-aliased, which introduced grayscale levels.\n",
    "\n",
    "The MNIST database contains 60,000 training images and 10,000 testing images. Half of the training set and half of the test set were taken from NIST's training dataset, while the other half of the training set and the other half of the test set were taken from NIST's testing dataset. The original creators of the database keep a list of some of the methods tested on it. In their original paper, they use a support-vector machine to get an error rate of 0.8%."
   ]
  },
  {
   "cell_type": "markdown",
   "metadata": {
    "id": "qWeSkNFiq7xu"
   },
   "source": [
    "![3Dto2D](https://upload.wikimedia.org/wikipedia/commons/thumb/2/27/MnistExamples.png/320px-MnistExamples.png)"
   ]
  },
  {
   "cell_type": "code",
   "execution_count": 2,
   "metadata": {
    "ExecuteTime": {
     "end_time": "2022-10-06T15:58:34.219975Z",
     "start_time": "2022-10-06T15:58:31.914904Z"
    },
    "id": "pyjqyftAzSfT"
   },
   "outputs": [],
   "source": [
    "import numpy as np\n",
    "import pandas as pd\n",
    "import matplotlib.pyplot as plt\n",
    "import seaborn as sns\n",
    "\n",
    "import warnings\n",
    "warnings.filterwarnings(\"ignore\")\n",
    "warnings.warn(\"this will not show\")\n",
    "\n",
    "plt.rcParams[\"figure.figsize\"] = (10,6)\n",
    "\n",
    "sns.set_style(\"whitegrid\")\n",
    "pd.set_option('display.float_format', lambda x: '%.3f' % x)\n",
    "\n",
    "# Set it None to display all rows in the dataframe\n",
    "# pd.set_option('display.max_rows', None)\n",
    "\n",
    "# Set it to None to display all columns in the dataframe\n",
    "pd.set_option('display.max_columns', None)"
   ]
  },
  {
   "cell_type": "code",
   "execution_count": 3,
   "metadata": {
    "ExecuteTime": {
     "end_time": "2022-10-06T15:58:41.311376Z",
     "start_time": "2022-10-06T15:58:34.219975Z"
    },
    "colab": {
     "base_uri": "https://localhost:8080/"
    },
    "executionInfo": {
     "elapsed": 872,
     "status": "ok",
     "timestamp": 1664987062694,
     "user": {
      "displayName": "John Bay",
      "userId": "18207726099240828133"
     },
     "user_tz": -180
    },
    "id": "0pKAxOVrq7xx",
    "outputId": "724fcb13-0694-4b7d-d64c-d758cc96cfbe"
   },
   "outputs": [
    {
     "data": {
      "text/plain": [
       "[]"
      ]
     },
     "execution_count": 3,
     "metadata": {},
     "output_type": "execute_result"
    }
   ],
   "source": [
    "import tensorflow as tf\n",
    "\n",
    "tf.config.list_physical_devices(\"GPU\")"
   ]
  },
  {
   "cell_type": "markdown",
   "metadata": {
    "id": "U62Gf7ERq7xz"
   },
   "source": [
    "# Recognizing and Understanding Data"
   ]
  },
  {
   "cell_type": "code",
   "execution_count": 4,
   "metadata": {
    "ExecuteTime": {
     "end_time": "2022-10-06T15:58:46.717835Z",
     "start_time": "2022-10-06T15:58:41.311376Z"
    },
    "id": "xmHOOUQUzYbu"
   },
   "outputs": [
    {
     "name": "stdout",
     "output_type": "stream",
     "text": [
      "Downloading data from https://storage.googleapis.com/tensorflow/tf-keras-datasets/mnist.npz\n",
      "11490434/11490434 [==============================] - 4s 0us/step\n"
     ]
    }
   ],
   "source": [
    "from tensorflow.keras.datasets.mnist import load_data    # To load the MNIST digit dataset\n",
    "\n",
    "(X_train, y_train) , (X_test, y_test) = load_data()      # Loading data"
   ]
  },
  {
   "cell_type": "code",
   "execution_count": 5,
   "metadata": {
    "ExecuteTime": {
     "end_time": "2022-10-06T15:58:46.733161Z",
     "start_time": "2022-10-06T15:58:46.720740Z"
    },
    "colab": {
     "base_uri": "https://localhost:8080/"
    },
    "executionInfo": {
     "elapsed": 13,
     "status": "ok",
     "timestamp": 1664987062695,
     "user": {
      "displayName": "John Bay",
      "userId": "18207726099240828133"
     },
     "user_tz": -180
    },
    "id": "JeiYe7OuzdN6",
    "outputId": "5b50e08f-63c4-41ad-8320-6dd372bb1323"
   },
   "outputs": [
    {
     "name": "stdout",
     "output_type": "stream",
     "text": [
      "There are  60000 images in the training dataset\n",
      "There are  10000 images in the test dataset\n"
     ]
    }
   ],
   "source": [
    "print(\"There are \", len(X_train), \"images in the training dataset\")     \n",
    "print(\"There are \", len(X_test), \"images in the test dataset\")   "
   ]
  },
  {
   "cell_type": "code",
   "execution_count": 6,
   "metadata": {
    "ExecuteTime": {
     "end_time": "2022-10-06T15:58:46.748054Z",
     "start_time": "2022-10-06T15:58:46.734876Z"
    },
    "colab": {
     "base_uri": "https://localhost:8080/"
    },
    "executionInfo": {
     "elapsed": 11,
     "status": "ok",
     "timestamp": 1664987062696,
     "user": {
      "displayName": "John Bay",
      "userId": "18207726099240828133"
     },
     "user_tz": -180
    },
    "id": "9FNlcgiTzj1X",
    "outputId": "3040f17b-bb2a-4cab-c83d-0ce1b2d7c223"
   },
   "outputs": [
    {
     "data": {
      "text/plain": [
       "(28, 28)"
      ]
     },
     "execution_count": 6,
     "metadata": {},
     "output_type": "execute_result"
    }
   ],
   "source": [
    "# Checking the shape of one image\n",
    "X_train[9].shape"
   ]
  },
  {
   "cell_type": "code",
   "execution_count": 7,
   "metadata": {
    "ExecuteTime": {
     "end_time": "2022-10-06T15:58:46.966751Z",
     "start_time": "2022-10-06T15:58:46.750054Z"
    },
    "colab": {
     "base_uri": "https://localhost:8080/",
     "height": 391
    },
    "executionInfo": {
     "elapsed": 491,
     "status": "ok",
     "timestamp": 1664987063179,
     "user": {
      "displayName": "John Bay",
      "userId": "18207726099240828133"
     },
     "user_tz": -180
    },
    "id": "nAlrzyEHzr68",
    "outputId": "4ea62d50-2608-43d3-f00a-53461d4a8a96"
   },
   "outputs": [
    {
     "data": {
      "text/plain": [
       "<matplotlib.image.AxesImage at 0x1231642bac0>"
      ]
     },
     "execution_count": 7,
     "metadata": {},
     "output_type": "execute_result"
    },
    {
     "data": {
      "image/png": "[encoded data removed]",
      "text/plain": [
       "<Figure size 720x432 with 1 Axes>"
      ]
     },
     "metadata": {},
     "output_type": "display_data"
    }
   ],
   "source": [
    "plt.imshow(X_train[9],cmap='gray')\n",
    "# plt.matshow(X_train[9])"
   ]
  },
  {
   "cell_type": "code",
   "execution_count": 8,
   "metadata": {
    "ExecuteTime": {
     "end_time": "2022-10-06T15:58:46.989000Z",
     "start_time": "2022-10-06T15:58:46.967235Z"
    },
    "colab": {
     "base_uri": "https://localhost:8080/"
    },
    "executionInfo": {
     "elapsed": 30,
     "status": "ok",
     "timestamp": 1664987063179,
     "user": {
      "displayName": "John Bay",
      "userId": "18207726099240828133"
     },
     "user_tz": -180
    },
    "id": "fo95HaLhzn9h",
    "outputId": "acab31f8-03f0-41af-d2ef-8854bb2b4cd2"
   },
   "outputs": [
    {
     "data": {
      "text/plain": [
       "array([[  0,   0,   0,   0,   0,   0,   0,   0,   0,   0,   0,   0,   0,\n",
       "          0,   0,   0,   0,   0,   0,   0,   0,   0,   0,   0,   0,   0,\n",
       "          0,   0],\n",
       "       [  0,   0,   0,   0,   0,   0,   0,   0,   0,   0,   0,   0,   0,\n",
       "          0,   0,   0,   0,   0,   0,   0,   0,   0,   0,   0,   0,   0,\n",
       "          0,   0],\n",
       "       [  0,   0,   0,   0,   0,   0,   0,   0,   0,   0,   0,   0,   0,\n",
       "          0,   0,   0,   0,   0,   0,   0,   0,   0,   0,   0,   0,   0,\n",
       "          0,   0],\n",
       "       [  0,   0,   0,   0,   0,   0,   0,   0,   0,   0,   0,   0,   0,\n",
       "          0,   0,   0,   0,   0,   0,   0,   0,   0,   0,   0,   0,   0,\n",
       "          0,   0],\n",
       "       [  0,   0,   0,   0,   0,   0,   0,   0,   0,   0,   0,   0,   0,\n",
       "          0,   0,   0,   0,   0,   0,   0,   0,   0, 189, 190,   0,   0,\n",
       "          0,   0],\n",
       "       [  0,   0,   0,   0,   0,   0,   0,   0,   0,   0,   0,   0,   0,\n",
       "          0,   0,   0,   0,   0,   0,   0,   0, 143, 247, 153,   0,   0,\n",
       "          0,   0],\n",
       "       [  0,   0,   0,   0,   0,   0,   0,   0,   0,   0,   0,   0,   0,\n",
       "          0,   0,   0,   0,   0,   0,   0, 136, 247, 242,  86,   0,   0,\n",
       "          0,   0],\n",
       "       [  0,   0,   0,   0,   0,   0,   0,   0,   0,   0,   0,   0,   0,\n",
       "          0,   0,   0,   0,   0,   0,   0, 192, 252, 187,   0,   0,   0,\n",
       "          0,   0],\n",
       "       [  0,   0,   0,   0,   0,   0,   0,   0,   0,   0,   0,   0,  62,\n",
       "        185,  18,   0,   0,   0,   0,  89, 236, 217,  47,   0,   0,   0,\n",
       "          0,   0],\n",
       "       [  0,   0,   0,   0,   0,   0,   0,   0,   0,   0,   0,   0, 216,\n",
       "        253,  60,   0,   0,   0,   0, 212, 255,  81,   0,   0,   0,   0,\n",
       "          0,   0],\n",
       "       [  0,   0,   0,   0,   0,   0,   0,   0,   0,   0,   0,   0, 206,\n",
       "        252,  68,   0,   0,   0,  48, 242, 253,  89,   0,   0,   0,   0,\n",
       "          0,   0],\n",
       "       [  0,   0,   0,   0,   0,   0,   0,   0,   0,   0,   0, 131, 251,\n",
       "        212,  21,   0,   0,  11, 167, 252, 197,   5,   0,   0,   0,   0,\n",
       "          0,   0],\n",
       "       [  0,   0,   0,   0,   0,   0,   0,   0,   0,   0,  29, 232, 247,\n",
       "         63,   0,   0,   0, 153, 252, 226,   0,   0,   0,   0,   0,   0,\n",
       "          0,   0],\n",
       "       [  0,   0,   0,   0,   0,   0,   0,   0,   0,  45, 219, 252, 143,\n",
       "          0,   0,   0, 116, 249, 252, 103,   0,   0,   0,   0,   0,   0,\n",
       "          0,   0],\n",
       "       [  0,   0,   0,   0,   0,   0,   0,   4,  96, 253, 255, 253, 200,\n",
       "        122,   7,  25, 201, 250, 158,   0,   0,   0,   0,   0,   0,   0,\n",
       "          0,   0],\n",
       "       [  0,   0,   0,   0,   0,   0,   0,  92, 252, 252, 253, 217, 252,\n",
       "        252, 200, 227, 252, 231,   0,   0,   0,   0,   0,   0,   0,   0,\n",
       "          0,   0],\n",
       "       [  0,   0,   0,   0,   0,   0,  87, 251, 247, 231,  65,  48, 189,\n",
       "        252, 252, 253, 252, 251, 227,  35,   0,   0,   0,   0,   0,   0,\n",
       "          0,   0],\n",
       "       [  0,   0,   0,   0,   0,   0, 190, 221,  98,   0,   0,   0,  42,\n",
       "        196, 252, 253, 252, 252, 162,   0,   0,   0,   0,   0,   0,   0,\n",
       "          0,   0],\n",
       "       [  0,   0,   0,   0,   0,   0, 111,  29,   0,   0,   0,   0,  62,\n",
       "        239, 252,  86,  42,  42,  14,   0,   0,   0,   0,   0,   0,   0,\n",
       "          0,   0],\n",
       "       [  0,   0,   0,   0,   0,   0,   0,   0,   0,   0,   0,  15, 148,\n",
       "        253, 218,   0,   0,   0,   0,   0,   0,   0,   0,   0,   0,   0,\n",
       "          0,   0],\n",
       "       [  0,   0,   0,   0,   0,   0,   0,   0,   0,   0,   0, 121, 252,\n",
       "        231,  28,   0,   0,   0,   0,   0,   0,   0,   0,   0,   0,   0,\n",
       "          0,   0],\n",
       "       [  0,   0,   0,   0,   0,   0,   0,   0,   0,   0,  31, 221, 251,\n",
       "        129,   0,   0,   0,   0,   0,   0,   0,   0,   0,   0,   0,   0,\n",
       "          0,   0],\n",
       "       [  0,   0,   0,   0,   0,   0,   0,   0,   0,   0, 218, 252, 160,\n",
       "          0,   0,   0,   0,   0,   0,   0,   0,   0,   0,   0,   0,   0,\n",
       "          0,   0],\n",
       "       [  0,   0,   0,   0,   0,   0,   0,   0,   0,   0, 122, 252,  82,\n",
       "          0,   0,   0,   0,   0,   0,   0,   0,   0,   0,   0,   0,   0,\n",
       "          0,   0],\n",
       "       [  0,   0,   0,   0,   0,   0,   0,   0,   0,   0,   0,   0,   0,\n",
       "          0,   0,   0,   0,   0,   0,   0,   0,   0,   0,   0,   0,   0,\n",
       "          0,   0],\n",
       "       [  0,   0,   0,   0,   0,   0,   0,   0,   0,   0,   0,   0,   0,\n",
       "          0,   0,   0,   0,   0,   0,   0,   0,   0,   0,   0,   0,   0,\n",
       "          0,   0],\n",
       "       [  0,   0,   0,   0,   0,   0,   0,   0,   0,   0,   0,   0,   0,\n",
       "          0,   0,   0,   0,   0,   0,   0,   0,   0,   0,   0,   0,   0,\n",
       "          0,   0],\n",
       "       [  0,   0,   0,   0,   0,   0,   0,   0,   0,   0,   0,   0,   0,\n",
       "          0,   0,   0,   0,   0,   0,   0,   0,   0,   0,   0,   0,   0,\n",
       "          0,   0]], dtype=uint8)"
      ]
     },
     "execution_count": 8,
     "metadata": {},
     "output_type": "execute_result"
    }
   ],
   "source": [
    "X_train[9]"
   ]
  },
  {
   "cell_type": "code",
   "execution_count": 9,
   "metadata": {
    "ExecuteTime": {
     "end_time": "2022-10-06T15:58:47.004288Z",
     "start_time": "2022-10-06T15:58:46.990930Z"
    },
    "colab": {
     "base_uri": "https://localhost:8080/"
    },
    "executionInfo": {
     "elapsed": 27,
     "status": "ok",
     "timestamp": 1664987063184,
     "user": {
      "displayName": "John Bay",
      "userId": "18207726099240828133"
     },
     "user_tz": -180
    },
    "id": "ymYZ0IMzq7x3",
    "outputId": "62a78578-e400-4825-8f37-bedb11c897ec"
   },
   "outputs": [
    {
     "data": {
      "text/plain": [
       "array([5, 0, 4, ..., 5, 6, 8], dtype=uint8)"
      ]
     },
     "execution_count": 9,
     "metadata": {},
     "output_type": "execute_result"
    }
   ],
   "source": [
    "y_train"
   ]
  },
  {
   "cell_type": "code",
   "execution_count": 10,
   "metadata": {
    "ExecuteTime": {
     "end_time": "2022-10-06T15:58:47.019706Z",
     "start_time": "2022-10-06T15:58:47.004288Z"
    },
    "colab": {
     "base_uri": "https://localhost:8080/"
    },
    "executionInfo": {
     "elapsed": 24,
     "status": "ok",
     "timestamp": 1664987063186,
     "user": {
      "displayName": "John Bay",
      "userId": "18207726099240828133"
     },
     "user_tz": -180
    },
    "id": "zP9FMA-D0Dho",
    "outputId": "2bb4c81a-5ec1-4b2a-b885-c44f16657b71"
   },
   "outputs": [
    {
     "data": {
      "text/plain": [
       "4"
      ]
     },
     "execution_count": 10,
     "metadata": {},
     "output_type": "execute_result"
    }
   ],
   "source": [
    "y_train[9]"
   ]
  },
  {
   "cell_type": "code",
   "execution_count": 11,
   "metadata": {
    "ExecuteTime": {
     "end_time": "2022-10-06T15:58:47.751330Z",
     "start_time": "2022-10-06T15:58:47.020891Z"
    },
    "colab": {
     "base_uri": "https://localhost:8080/",
     "height": 315
    },
    "executionInfo": {
     "elapsed": 475,
     "status": "ok",
     "timestamp": 1664987063640,
     "user": {
      "displayName": "John Bay",
      "userId": "18207726099240828133"
     },
     "user_tz": -180
    },
    "id": "IPKvujQwz00v",
    "outputId": "d5bf4729-1ec1-4c57-9f4e-0a03fd4bfe72"
   },
   "outputs": [
    {
     "data": {
      "image/png": "[encoded data removed]",
      "text/plain": [
       "<Figure size 864x360 with 10 Axes>"
      ]
     },
     "metadata": {},
     "output_type": "display_data"
    }
   ],
   "source": [
    "num_rows, num_cols = 2, 5\n",
    "f, ax = plt.subplots(2, 5, figsize=(12,5),\n",
    "                     gridspec_kw={'wspace':0.03, 'hspace':0.02}, \n",
    "                     squeeze=True)\n",
    "\n",
    "for r in range(num_rows):\n",
    "    for c in range(num_cols):\n",
    "      \n",
    "        image_index = r * 5 + c\n",
    "        ax[r,c].axis(\"off\")\n",
    "        ax[r,c].set_title('No. %d' % y_train[image_index])\n",
    "        ax[r,c].imshow( X_train[image_index], cmap='gray')\n",
    "       \n",
    "        \n",
    "plt.tight_layout()\n",
    "plt.show()\n",
    "plt.close()"
   ]
  },
  {
   "cell_type": "markdown",
   "metadata": {
    "id": "-_pXVdp-y8Mo"
   },
   "source": [
    "# Data Preprocessing"
   ]
  },
  {
   "cell_type": "code",
   "execution_count": 12,
   "metadata": {
    "ExecuteTime": {
     "end_time": "2022-10-06T15:58:47.766890Z",
     "start_time": "2022-10-06T15:58:47.752260Z"
    },
    "colab": {
     "base_uri": "https://localhost:8080/"
    },
    "executionInfo": {
     "elapsed": 375,
     "status": "ok",
     "timestamp": 1664987064008,
     "user": {
      "displayName": "John Bay",
      "userId": "18207726099240828133"
     },
     "user_tz": -180
    },
    "id": "_XspA3CDLpm6",
    "outputId": "00aa6026-af7b-4f4b-ff65-1025ac08d29f"
   },
   "outputs": [
    {
     "data": {
      "text/plain": [
       "0"
      ]
     },
     "execution_count": 12,
     "metadata": {},
     "output_type": "execute_result"
    }
   ],
   "source": [
    "X_train[9].min()"
   ]
  },
  {
   "cell_type": "code",
   "execution_count": 13,
   "metadata": {
    "ExecuteTime": {
     "end_time": "2022-10-06T15:58:47.785966Z",
     "start_time": "2022-10-06T15:58:47.768963Z"
    },
    "colab": {
     "base_uri": "https://localhost:8080/"
    },
    "executionInfo": {
     "elapsed": 45,
     "status": "ok",
     "timestamp": 1664987064009,
     "user": {
      "displayName": "John Bay",
      "userId": "18207726099240828133"
     },
     "user_tz": -180
    },
    "id": "XJefIibxLqf2",
    "outputId": "27d3ae12-63c7-4b7d-92f0-da76b42cecd9"
   },
   "outputs": [
    {
     "data": {
      "text/plain": [
       "255"
      ]
     },
     "execution_count": 13,
     "metadata": {},
     "output_type": "execute_result"
    }
   ],
   "source": [
    "X_train[9].max()"
   ]
  },
  {
   "cell_type": "code",
   "execution_count": 14,
   "metadata": {
    "ExecuteTime": {
     "end_time": "2022-10-06T15:58:47.933696Z",
     "start_time": "2022-10-06T15:58:47.788410Z"
    },
    "id": "m_eSMmhJFqRA"
   },
   "outputs": [],
   "source": [
    "# Normalize image pixels\n",
    "X_train = X_train.astype('float32')\n",
    "X_test = X_test.astype('float32')\n",
    "X_train /= 255\n",
    "X_test /= 255"
   ]
  },
  {
   "cell_type": "code",
   "execution_count": 15,
   "metadata": {
    "ExecuteTime": {
     "end_time": "2022-10-06T15:58:47.949599Z",
     "start_time": "2022-10-06T15:58:47.934847Z"
    },
    "colab": {
     "base_uri": "https://localhost:8080/"
    },
    "executionInfo": {
     "elapsed": 50,
     "status": "ok",
     "timestamp": 1664987064016,
     "user": {
      "displayName": "John Bay",
      "userId": "18207726099240828133"
     },
     "user_tz": -180
    },
    "id": "-NqymetKL1Lb",
    "outputId": "0a1320db-7dc5-42fb-b1cf-89ed323b1e22"
   },
   "outputs": [
    {
     "data": {
      "text/plain": [
       "0.0"
      ]
     },
     "execution_count": 15,
     "metadata": {},
     "output_type": "execute_result"
    }
   ],
   "source": [
    "X_train[9].min()"
   ]
  },
  {
   "cell_type": "code",
   "execution_count": 16,
   "metadata": {
    "ExecuteTime": {
     "end_time": "2022-10-06T15:58:47.969527Z",
     "start_time": "2022-10-06T15:58:47.951714Z"
    },
    "colab": {
     "base_uri": "https://localhost:8080/"
    },
    "executionInfo": {
     "elapsed": 48,
     "status": "ok",
     "timestamp": 1664987064017,
     "user": {
      "displayName": "John Bay",
      "userId": "18207726099240828133"
     },
     "user_tz": -180
    },
    "id": "SOU_kW9nL1OD",
    "outputId": "eaa03692-5aa3-44d6-f0fc-bd3dbb98ad23"
   },
   "outputs": [
    {
     "data": {
      "text/plain": [
       "1.0"
      ]
     },
     "execution_count": 16,
     "metadata": {},
     "output_type": "execute_result"
    }
   ],
   "source": [
    "X_train[9].max()"
   ]
  },
  {
   "cell_type": "code",
   "execution_count": 17,
   "metadata": {
    "ExecuteTime": {
     "end_time": "2022-10-06T15:58:48.183069Z",
     "start_time": "2022-10-06T15:58:47.970648Z"
    },
    "colab": {
     "base_uri": "https://localhost:8080/",
     "height": 391
    },
    "executionInfo": {
     "elapsed": 56,
     "status": "ok",
     "timestamp": 1664987064030,
     "user": {
      "displayName": "John Bay",
      "userId": "18207726099240828133"
     },
     "user_tz": -180
    },
    "id": "Jrp0SbiHL7aA",
    "outputId": "8d7a9daa-8ec4-4d3e-dced-906ec4176417"
   },
   "outputs": [
    {
     "data": {
      "text/plain": [
       "<matplotlib.image.AxesImage at 0x1231f1b1fd0>"
      ]
     },
     "execution_count": 17,
     "metadata": {},
     "output_type": "execute_result"
    },
    {
     "data": {
      "image/png": "[encoded data removed]",
      "text/plain": [
       "<Figure size 720x432 with 1 Axes>"
      ]
     },
     "metadata": {},
     "output_type": "display_data"
    }
   ],
   "source": [
    "plt.imshow(X_train[9],cmap='gray')"
   ]
  },
  {
   "cell_type": "code",
   "execution_count": 18,
   "metadata": {
    "ExecuteTime": {
     "end_time": "2022-10-06T15:58:48.198664Z",
     "start_time": "2022-10-06T15:58:48.185702Z"
    },
    "colab": {
     "base_uri": "https://localhost:8080/"
    },
    "executionInfo": {
     "elapsed": 55,
     "status": "ok",
     "timestamp": 1664987064032,
     "user": {
      "displayName": "John Bay",
      "userId": "18207726099240828133"
     },
     "user_tz": -180
    },
    "id": "sIlFJOZgq7x8",
    "outputId": "3e735d4a-a7e3-4094-804c-4cdb54efa418"
   },
   "outputs": [
    {
     "data": {
      "text/plain": [
       "((60000, 28, 28), (10000, 28, 28))"
      ]
     },
     "execution_count": 18,
     "metadata": {},
     "output_type": "execute_result"
    }
   ],
   "source": [
    "X_train.shape, X_test.shape"
   ]
  },
  {
   "cell_type": "code",
   "execution_count": 19,
   "metadata": {
    "ExecuteTime": {
     "end_time": "2022-10-06T15:58:48.220255Z",
     "start_time": "2022-10-06T15:58:48.200153Z"
    },
    "colab": {
     "base_uri": "https://localhost:8080/"
    },
    "executionInfo": {
     "elapsed": 51,
     "status": "ok",
     "timestamp": 1664987064033,
     "user": {
      "displayName": "John Bay",
      "userId": "18207726099240828133"
     },
     "user_tz": -180
    },
    "id": "FE-tDzMkq7x8",
    "outputId": "387adb7a-58dd-4a07-9400-622e2a78bd43"
   },
   "outputs": [
    {
     "data": {
      "text/plain": [
       "(60000, 28, 28, 1)"
      ]
     },
     "execution_count": 19,
     "metadata": {},
     "output_type": "execute_result"
    }
   ],
   "source": [
    "X_train.reshape(60000, 28, 28, 1).shape"
   ]
  },
  {
   "cell_type": "code",
   "execution_count": 20,
   "metadata": {
    "ExecuteTime": {
     "end_time": "2022-10-06T15:58:48.245606Z",
     "start_time": "2022-10-06T15:58:48.220754Z"
    },
    "id": "uk7qzToCFp-s"
   },
   "outputs": [],
   "source": [
    "X_train = X_train.reshape(X_train.shape[0],28, 28, 1) \n",
    "X_test = X_test.reshape(X_test.shape[0], 28, 28, 1)"
   ]
  },
  {
   "cell_type": "code",
   "execution_count": 21,
   "metadata": {
    "ExecuteTime": {
     "end_time": "2022-10-06T15:58:48.266343Z",
     "start_time": "2022-10-06T15:58:48.248809Z"
    },
    "colab": {
     "base_uri": "https://localhost:8080/"
    },
    "executionInfo": {
     "elapsed": 51,
     "status": "ok",
     "timestamp": 1664987064036,
     "user": {
      "displayName": "John Bay",
      "userId": "18207726099240828133"
     },
     "user_tz": -180
    },
    "id": "5nLub1tMFqOc",
    "outputId": "d0cc8255-f055-4f37-9208-f0c69f32386d"
   },
   "outputs": [
    {
     "data": {
      "text/plain": [
       "((60000, 28, 28, 1), (10000, 28, 28, 1))"
      ]
     },
     "execution_count": 21,
     "metadata": {},
     "output_type": "execute_result"
    }
   ],
   "source": [
    "X_train.shape, X_test.shape"
   ]
  },
  {
   "cell_type": "code",
   "execution_count": 22,
   "metadata": {
    "ExecuteTime": {
     "end_time": "2022-10-06T15:58:48.295648Z",
     "start_time": "2022-10-06T15:58:48.269360Z"
    },
    "colab": {
     "base_uri": "https://localhost:8080/"
    },
    "executionInfo": {
     "elapsed": 56,
     "status": "ok",
     "timestamp": 1664987064046,
     "user": {
      "displayName": "John Bay",
      "userId": "18207726099240828133"
     },
     "user_tz": -180
    },
    "id": "7r8BUJwuL-a6",
    "outputId": "21f2b818-dc99-4dc5-c60d-3f9d321c673f"
   },
   "outputs": [
    {
     "data": {
      "text/plain": [
       "array([5, 0, 4, ..., 5, 6, 8], dtype=uint8)"
      ]
     },
     "execution_count": 22,
     "metadata": {},
     "output_type": "execute_result"
    }
   ],
   "source": [
    "y_train"
   ]
  },
  {
   "cell_type": "code",
   "execution_count": 23,
   "metadata": {
    "ExecuteTime": {
     "end_time": "2022-10-06T15:58:48.311190Z",
     "start_time": "2022-10-06T15:58:48.299160Z"
    },
    "colab": {
     "base_uri": "https://localhost:8080/"
    },
    "executionInfo": {
     "elapsed": 53,
     "status": "ok",
     "timestamp": 1664987064046,
     "user": {
      "displayName": "John Bay",
      "userId": "18207726099240828133"
     },
     "user_tz": -180
    },
    "id": "KVAd2P3Cq7x9",
    "outputId": "4db27a7a-0a7a-4036-b006-0f2b12c9b2e8"
   },
   "outputs": [
    {
     "data": {
      "text/plain": [
       "(60000,)"
      ]
     },
     "execution_count": 23,
     "metadata": {},
     "output_type": "execute_result"
    }
   ],
   "source": [
    "y_train.shape"
   ]
  },
  {
   "cell_type": "code",
   "execution_count": 24,
   "metadata": {
    "ExecuteTime": {
     "end_time": "2022-10-06T15:58:48.324994Z",
     "start_time": "2022-10-06T15:58:48.313315Z"
    },
    "id": "z3CBRoZ1GWHh"
   },
   "outputs": [],
   "source": [
    "from tensorflow.keras.utils import to_categorical"
   ]
  },
  {
   "cell_type": "code",
   "execution_count": 25,
   "metadata": {
    "ExecuteTime": {
     "end_time": "2022-10-06T15:58:48.347797Z",
     "start_time": "2022-10-06T15:58:48.326863Z"
    },
    "colab": {
     "base_uri": "https://localhost:8080/"
    },
    "executionInfo": {
     "elapsed": 18,
     "status": "ok",
     "timestamp": 1664987064442,
     "user": {
      "displayName": "John Bay",
      "userId": "18207726099240828133"
     },
     "user_tz": -180
    },
    "id": "rwav3vH5FqT9",
    "outputId": "4e2bc6ae-25fd-488d-d343-8a8c742c4334"
   },
   "outputs": [
    {
     "data": {
      "text/plain": [
       "(60000, 10)"
      ]
     },
     "execution_count": 25,
     "metadata": {},
     "output_type": "execute_result"
    }
   ],
   "source": [
    "Y_train = to_categorical(y_train, 10) \n",
    "Y_test = to_categorical(y_test, 10)\n",
    "Y_train.shape"
   ]
  },
  {
   "cell_type": "code",
   "execution_count": 26,
   "metadata": {
    "ExecuteTime": {
     "end_time": "2022-10-06T15:58:48.360789Z",
     "start_time": "2022-10-06T15:58:48.349951Z"
    },
    "colab": {
     "base_uri": "https://localhost:8080/"
    },
    "executionInfo": {
     "elapsed": 18,
     "status": "ok",
     "timestamp": 1664987064444,
     "user": {
      "displayName": "John Bay",
      "userId": "18207726099240828133"
     },
     "user_tz": -180
    },
    "id": "7ksNIyqiq7x-",
    "outputId": "806f84cf-4961-4e12-9679-71deeaa6209f"
   },
   "outputs": [
    {
     "data": {
      "text/plain": [
       "4"
      ]
     },
     "execution_count": 26,
     "metadata": {},
     "output_type": "execute_result"
    }
   ],
   "source": [
    "y_train[9]"
   ]
  },
  {
   "cell_type": "code",
   "execution_count": 27,
   "metadata": {
    "ExecuteTime": {
     "end_time": "2022-10-06T15:58:48.378903Z",
     "start_time": "2022-10-06T15:58:48.362724Z"
    },
    "colab": {
     "base_uri": "https://localhost:8080/"
    },
    "executionInfo": {
     "elapsed": 14,
     "status": "ok",
     "timestamp": 1664987064445,
     "user": {
      "displayName": "John Bay",
      "userId": "18207726099240828133"
     },
     "user_tz": -180
    },
    "id": "Wb9d9jiVq7x-",
    "outputId": "aadcd9f2-4c58-4f83-883a-d2c0f9e24706"
   },
   "outputs": [
    {
     "data": {
      "text/plain": [
       "array([0., 0., 0., 0., 1., 0., 0., 0., 0., 0.], dtype=float32)"
      ]
     },
     "execution_count": 27,
     "metadata": {},
     "output_type": "execute_result"
    }
   ],
   "source": [
    "Y_train[9]"
   ]
  },
  {
   "cell_type": "markdown",
   "metadata": {
    "id": "lMdC_HMuq7x_"
   },
   "source": [
    "# Modeling"
   ]
  },
  {
   "cell_type": "code",
   "execution_count": 28,
   "metadata": {
    "ExecuteTime": {
     "end_time": "2022-10-06T15:58:48.389447Z",
     "start_time": "2022-10-06T15:58:48.380034Z"
    },
    "id": "EAvdD1-IHYaV"
   },
   "outputs": [],
   "source": [
    "from tensorflow.keras.models import Sequential\n",
    "from tensorflow.keras.layers import Dense, Conv2D, MaxPool2D, Flatten"
   ]
  },
  {
   "cell_type": "code",
   "execution_count": 29,
   "metadata": {
    "ExecuteTime": {
     "end_time": "2022-10-06T15:58:48.543744Z",
     "start_time": "2022-10-06T15:58:48.389447Z"
    },
    "id": "1XKYFc5cGD92"
   },
   "outputs": [],
   "source": [
    "model = Sequential()\n",
    "\n",
    "model.add(Conv2D(filters=32, kernel_size=(3,3), input_shape=(28, 28, 1), activation='relu')) # stride = 1, padding = valid \n",
    "\n",
    "model.add(MaxPool2D(pool_size=(2, 2))) # stride = pool size, padding = valid\n",
    "\n",
    "model.add(Flatten())\n",
    "\n",
    "model.add(Dense(128, activation='relu'))\n",
    "\n",
    "model.add(Dense(10, activation='softmax'))\n",
    "\n",
    "model.compile(loss='categorical_crossentropy',\n",
    "              optimizer='adam',\n",
    "              metrics=['accuracy'])"
   ]
  },
  {
   "cell_type": "code",
   "execution_count": 30,
   "metadata": {
    "ExecuteTime": {
     "end_time": "2022-10-06T15:58:48.570509Z",
     "start_time": "2022-10-06T15:58:48.545584Z"
    },
    "colab": {
     "base_uri": "https://localhost:8080/"
    },
    "executionInfo": {
     "elapsed": 20,
     "status": "ok",
     "timestamp": 1664987067586,
     "user": {
      "displayName": "John Bay",
      "userId": "18207726099240828133"
     },
     "user_tz": -180
    },
    "id": "7dlzbf8cLVu0",
    "outputId": "e3e5359e-8c79-456b-eb85-1990c715ff77"
   },
   "outputs": [
    {
     "name": "stdout",
     "output_type": "stream",
     "text": [
      "Model: \"sequential\"\n",
      "_________________________________________________________________\n",
      " Layer (type)                Output Shape              Param #   \n",
      "=================================================================\n",
      " conv2d (Conv2D)             (None, 26, 26, 32)        320       \n",
      "                                                                 \n",
      " max_pooling2d (MaxPooling2D  (None, 13, 13, 32)       0         \n",
      " )                                                               \n",
      "                                                                 \n",
      " flatten (Flatten)           (None, 5408)              0         \n",
      "                                                                 \n",
      " dense (Dense)               (None, 128)               692352    \n",
      "                                                                 \n",
      " dense_1 (Dense)             (None, 10)                1290      \n",
      "                                                                 \n",
      "=================================================================\n",
      "Total params: 693,962\n",
      "Trainable params: 693,962\n",
      "Non-trainable params: 0\n",
      "_________________________________________________________________\n"
     ]
    }
   ],
   "source": [
    "model.summary()"
   ]
  },
  {
   "cell_type": "raw",
   "metadata": {
    "id": "5ziovqNAq7yB"
   },
   "source": [
    "Number of parameter in CL\n",
    "\n",
    "((n x m x l) + 1) x k\n",
    "\n",
    "n x m = filter shape\n",
    "l = number of input channel (feature maps as input)\n",
    "k = number of output channel (feature maps as output)"
   ]
  },
  {
   "cell_type": "code",
   "execution_count": 31,
   "metadata": {
    "ExecuteTime": {
     "end_time": "2022-10-06T15:58:48.585058Z",
     "start_time": "2022-10-06T15:58:48.571010Z"
    },
    "colab": {
     "base_uri": "https://localhost:8080/"
    },
    "executionInfo": {
     "elapsed": 13,
     "status": "ok",
     "timestamp": 1664987067588,
     "user": {
      "displayName": "John Bay",
      "userId": "18207726099240828133"
     },
     "user_tz": -180
    },
    "id": "zzUePEhGq7yB",
    "outputId": "b2815131-d04f-41b6-dbff-9c6426228658"
   },
   "outputs": [
    {
     "data": {
      "text/plain": [
       "320"
      ]
     },
     "execution_count": 31,
     "metadata": {},
     "output_type": "execute_result"
    }
   ],
   "source": [
    "((3 * 3 * 1) + 1) * 32"
   ]
  },
  {
   "cell_type": "code",
   "execution_count": 32,
   "metadata": {
    "ExecuteTime": {
     "end_time": "2022-10-06T15:58:48.601183Z",
     "start_time": "2022-10-06T15:58:48.585058Z"
    },
    "id": "hOuwgRVZGEAu"
   },
   "outputs": [],
   "source": [
    "from tensorflow.keras.callbacks import EarlyStopping"
   ]
  },
  {
   "cell_type": "code",
   "execution_count": 33,
   "metadata": {
    "ExecuteTime": {
     "end_time": "2022-10-06T15:58:48.618322Z",
     "start_time": "2022-10-06T15:58:48.603376Z"
    },
    "id": "rtIURzRFGEDN"
   },
   "outputs": [],
   "source": [
    "early_stop = EarlyStopping(monitor='val_accuracy',mode=\"max\", patience=2, restore_best_weights = True)"
   ]
  },
  {
   "cell_type": "code",
   "execution_count": 34,
   "metadata": {
    "ExecuteTime": {
     "end_time": "2022-10-06T16:01:58.547282Z",
     "start_time": "2022-10-06T15:58:48.619648Z"
    },
    "colab": {
     "base_uri": "https://localhost:8080/"
    },
    "executionInfo": {
     "elapsed": 49803,
     "status": "ok",
     "timestamp": 1664987117384,
     "user": {
      "displayName": "John Bay",
      "userId": "18207726099240828133"
     },
     "user_tz": -180
    },
    "id": "-IDJimxdKq-k",
    "outputId": "c7930fc0-f44b-45b1-f4e9-b56fa2888710"
   },
   "outputs": [
    {
     "name": "stdout",
     "output_type": "stream",
     "text": [
      "Epoch 1/10\n",
      "1875/1875 [==============================] - 27s 14ms/step - loss: 0.1508 - accuracy: 0.9560 - val_loss: 0.0605 - val_accuracy: 0.9805\n",
      "Epoch 2/10\n",
      "1875/1875 [==============================] - 23s 12ms/step - loss: 0.0507 - accuracy: 0.9846 - val_loss: 0.0485 - val_accuracy: 0.9846\n",
      "Epoch 3/10\n",
      "1875/1875 [==============================] - 22s 12ms/step - loss: 0.0312 - accuracy: 0.9902 - val_loss: 0.0429 - val_accuracy: 0.9856\n",
      "Epoch 4/10\n",
      "1875/1875 [==============================] - 21s 11ms/step - loss: 0.0206 - accuracy: 0.9938 - val_loss: 0.0448 - val_accuracy: 0.9858\n",
      "Epoch 5/10\n",
      "1875/1875 [==============================] - 17s 9ms/step - loss: 0.0142 - accuracy: 0.9953 - val_loss: 0.0426 - val_accuracy: 0.9874\n",
      "Epoch 6/10\n",
      "1875/1875 [==============================] - 19s 10ms/step - loss: 0.0099 - accuracy: 0.9969 - val_loss: 0.0487 - val_accuracy: 0.9865\n",
      "Epoch 7/10\n",
      "1875/1875 [==============================] - 19s 10ms/step - loss: 0.0076 - accuracy: 0.9973 - val_loss: 0.0523 - val_accuracy: 0.9878\n",
      "Epoch 8/10\n",
      "1875/1875 [==============================] - 21s 11ms/step - loss: 0.0062 - accuracy: 0.9979 - val_loss: 0.0488 - val_accuracy: 0.9875\n",
      "Epoch 9/10\n",
      "1875/1875 [==============================] - 21s 11ms/step - loss: 0.0044 - accuracy: 0.9987 - val_loss: 0.0509 - val_accuracy: 0.9878\n"
     ]
    },
    {
     "data": {
      "text/plain": [
       "<keras.callbacks.History at 0x1231f657d60>"
      ]
     },
     "execution_count": 34,
     "metadata": {},
     "output_type": "execute_result"
    }
   ],
   "source": [
    "model.fit(X_train, Y_train, batch_size=32, epochs=10, validation_data=(X_test,Y_test),callbacks=[early_stop]) \n"
   ]
  },
  {
   "cell_type": "code",
   "execution_count": 35,
   "metadata": {
    "ExecuteTime": {
     "end_time": "2022-10-06T16:01:58.562572Z",
     "start_time": "2022-10-06T16:01:58.549923Z"
    },
    "colab": {
     "base_uri": "https://localhost:8080/"
    },
    "executionInfo": {
     "elapsed": 41,
     "status": "ok",
     "timestamp": 1664987117384,
     "user": {
      "displayName": "John Bay",
      "userId": "18207726099240828133"
     },
     "user_tz": -180
    },
    "id": "1q4GlXAMpyvL",
    "outputId": "61c2e216-dff6-47c5-ddfc-5a88903a44d5"
   },
   "outputs": [
    {
     "data": {
      "text/plain": [
       "(60000, 28, 28, 1)"
      ]
     },
     "execution_count": 35,
     "metadata": {},
     "output_type": "execute_result"
    }
   ],
   "source": [
    "X_train.shape"
   ]
  },
  {
   "cell_type": "code",
   "execution_count": 36,
   "metadata": {
    "ExecuteTime": {
     "end_time": "2022-10-06T16:01:58.577495Z",
     "start_time": "2022-10-06T16:01:58.565540Z"
    },
    "colab": {
     "base_uri": "https://localhost:8080/"
    },
    "executionInfo": {
     "elapsed": 34,
     "status": "ok",
     "timestamp": 1664987117385,
     "user": {
      "displayName": "John Bay",
      "userId": "18207726099240828133"
     },
     "user_tz": -180
    },
    "id": "TTtNlBsOp2vs",
    "outputId": "55c9d282-6f39-4121-ceef-3711ae9d35a5"
   },
   "outputs": [
    {
     "data": {
      "text/plain": [
       "(60000, 10)"
      ]
     },
     "execution_count": 36,
     "metadata": {},
     "output_type": "execute_result"
    }
   ],
   "source": [
    "Y_train.shape"
   ]
  },
  {
   "cell_type": "code",
   "execution_count": 37,
   "metadata": {
    "ExecuteTime": {
     "end_time": "2022-10-06T16:01:58.593106Z",
     "start_time": "2022-10-06T16:01:58.579640Z"
    },
    "colab": {
     "base_uri": "https://localhost:8080/"
    },
    "executionInfo": {
     "elapsed": 31,
     "status": "ok",
     "timestamp": 1664987117385,
     "user": {
      "displayName": "John Bay",
      "userId": "18207726099240828133"
     },
     "user_tz": -180
    },
    "id": "wNmOLqBv1Kqn",
    "outputId": "f56ac1b6-9fe3-4bad-af95-a6c4900517e4"
   },
   "outputs": [
    {
     "data": {
      "text/plain": [
       "['loss', 'accuracy']"
      ]
     },
     "execution_count": 37,
     "metadata": {},
     "output_type": "execute_result"
    }
   ],
   "source": [
    "model.metrics_names"
   ]
  },
  {
   "cell_type": "code",
   "execution_count": 38,
   "metadata": {
    "ExecuteTime": {
     "end_time": "2022-10-06T16:01:58.624276Z",
     "start_time": "2022-10-06T16:01:58.595278Z"
    },
    "colab": {
     "base_uri": "https://localhost:8080/"
    },
    "executionInfo": {
     "elapsed": 29,
     "status": "ok",
     "timestamp": 1664987117386,
     "user": {
      "displayName": "John Bay",
      "userId": "18207726099240828133"
     },
     "user_tz": -180
    },
    "id": "2zYPEYGK2qyc",
    "outputId": "c59d0ca5-db73-4770-a1b5-c3e937dc0f6d"
   },
   "outputs": [
    {
     "data": {
      "text/html": [
       "<div>\n",
       "<style scoped>\n",
       "    .dataframe tbody tr th:only-of-type {\n",
       "        vertical-align: middle;\n",
       "    }\n",
       "\n",
       "    .dataframe tbody tr th {\n",
       "        vertical-align: top;\n",
       "    }\n",
       "\n",
       "    .dataframe thead th {\n",
       "        text-align: right;\n",
       "    }\n",
       "</style>\n",
       "<table border=\"1\" class=\"dataframe\">\n",
       "  <thead>\n",
       "    <tr style=\"text-align: right;\">\n",
       "      <th></th>\n",
       "      <th>loss</th>\n",
       "      <th>accuracy</th>\n",
       "      <th>val_loss</th>\n",
       "      <th>val_accuracy</th>\n",
       "    </tr>\n",
       "  </thead>\n",
       "  <tbody>\n",
       "    <tr>\n",
       "      <th>0</th>\n",
       "      <td>0.151</td>\n",
       "      <td>0.956</td>\n",
       "      <td>0.060</td>\n",
       "      <td>0.980</td>\n",
       "    </tr>\n",
       "    <tr>\n",
       "      <th>1</th>\n",
       "      <td>0.051</td>\n",
       "      <td>0.985</td>\n",
       "      <td>0.048</td>\n",
       "      <td>0.985</td>\n",
       "    </tr>\n",
       "    <tr>\n",
       "      <th>2</th>\n",
       "      <td>0.031</td>\n",
       "      <td>0.990</td>\n",
       "      <td>0.043</td>\n",
       "      <td>0.986</td>\n",
       "    </tr>\n",
       "    <tr>\n",
       "      <th>3</th>\n",
       "      <td>0.021</td>\n",
       "      <td>0.994</td>\n",
       "      <td>0.045</td>\n",
       "      <td>0.986</td>\n",
       "    </tr>\n",
       "    <tr>\n",
       "      <th>4</th>\n",
       "      <td>0.014</td>\n",
       "      <td>0.995</td>\n",
       "      <td>0.043</td>\n",
       "      <td>0.987</td>\n",
       "    </tr>\n",
       "  </tbody>\n",
       "</table>\n",
       "</div>"
      ],
      "text/plain": [
       "   loss  accuracy  val_loss  val_accuracy\n",
       "0 0.151     0.956     0.060         0.980\n",
       "1 0.051     0.985     0.048         0.985\n",
       "2 0.031     0.990     0.043         0.986\n",
       "3 0.021     0.994     0.045         0.986\n",
       "4 0.014     0.995     0.043         0.987"
      ]
     },
     "execution_count": 38,
     "metadata": {},
     "output_type": "execute_result"
    }
   ],
   "source": [
    "summary = pd.DataFrame(model.history.history)\n",
    "summary.head()"
   ]
  },
  {
   "cell_type": "code",
   "execution_count": 39,
   "metadata": {
    "ExecuteTime": {
     "end_time": "2022-10-06T16:01:58.873438Z",
     "start_time": "2022-10-06T16:01:58.626643Z"
    },
    "id": "7cigrrimq7yC"
   },
   "outputs": [
    {
     "data": {
      "image/png": "[encoded data removed]",
      "text/plain": [
       "<Figure size 720x432 with 1 Axes>"
      ]
     },
     "metadata": {},
     "output_type": "display_data"
    }
   ],
   "source": [
    "summary.plot();"
   ]
  },
  {
   "cell_type": "code",
   "execution_count": 40,
   "metadata": {
    "ExecuteTime": {
     "end_time": "2022-10-06T16:01:59.061786Z",
     "start_time": "2022-10-06T16:01:58.876096Z"
    },
    "id": "W8tAgvwGq7yC"
   },
   "outputs": [
    {
     "data": {
      "image/png": "[encoded data removed]",
      "text/plain": [
       "<Figure size 720x432 with 1 Axes>"
      ]
     },
     "metadata": {},
     "output_type": "display_data"
    }
   ],
   "source": [
    "summary[[\"loss\", \"val_loss\"]].plot();"
   ]
  },
  {
   "cell_type": "code",
   "execution_count": 41,
   "metadata": {
    "ExecuteTime": {
     "end_time": "2022-10-06T16:01:59.247607Z",
     "start_time": "2022-10-06T16:01:59.064274Z"
    },
    "id": "1sj58xlyq7yD"
   },
   "outputs": [
    {
     "data": {
      "image/png": "[encoded data removed]",
      "text/plain": [
       "<Figure size 720x432 with 1 Axes>"
      ]
     },
     "metadata": {},
     "output_type": "display_data"
    }
   ],
   "source": [
    "summary[[\"accuracy\", \"val_accuracy\"]].plot();"
   ]
  },
  {
   "cell_type": "markdown",
   "metadata": {
    "id": "UEcpbjixq7yD"
   },
   "source": [
    "# Evaluation on Test Data"
   ]
  },
  {
   "cell_type": "code",
   "execution_count": 42,
   "metadata": {
    "ExecuteTime": {
     "end_time": "2022-10-06T16:01:59.572946Z",
     "start_time": "2022-10-06T16:01:59.250047Z"
    },
    "id": "3qZywTaf4Nay"
   },
   "outputs": [],
   "source": [
    "from sklearn.metrics import classification_report, confusion_matrix,multilabel_confusion_matrix"
   ]
  },
  {
   "cell_type": "code",
   "execution_count": 43,
   "metadata": {
    "ExecuteTime": {
     "end_time": "2022-10-06T16:02:00.529984Z",
     "start_time": "2022-10-06T16:01:59.574746Z"
    },
    "id": "1naFYlgT35-S"
   },
   "outputs": [
    {
     "name": "stdout",
     "output_type": "stream",
     "text": [
      "313/313 [==============================] - 1s 3ms/step - loss: 0.0523 - accuracy: 0.9878\n"
     ]
    },
    {
     "data": {
      "text/plain": [
       "[0.05234503000974655, 0.9878000020980835]"
      ]
     },
     "execution_count": 43,
     "metadata": {},
     "output_type": "execute_result"
    }
   ],
   "source": [
    "model.evaluate(X_test,Y_test)"
   ]
  },
  {
   "cell_type": "code",
   "execution_count": 44,
   "metadata": {
    "ExecuteTime": {
     "end_time": "2022-10-06T16:02:01.580879Z",
     "start_time": "2022-10-06T16:02:00.532405Z"
    },
    "id": "3DyaGeFU46Hv"
   },
   "outputs": [
    {
     "name": "stdout",
     "output_type": "stream",
     "text": [
      "Test loss: 0.05234503000974655\n",
      "Test accuracy: 0.9878000020980835\n"
     ]
    }
   ],
   "source": [
    "score = model.evaluate(X_test, Y_test, verbose=0)\n",
    "print('Test loss:', score[0])\n",
    "print('Test accuracy:', score[1])"
   ]
  },
  {
   "cell_type": "code",
   "execution_count": 45,
   "metadata": {
    "ExecuteTime": {
     "end_time": "2022-10-06T16:02:03.132049Z",
     "start_time": "2022-10-06T16:02:01.584092Z"
    },
    "id": "IOAxLbRQ4cMe"
   },
   "outputs": [
    {
     "name": "stdout",
     "output_type": "stream",
     "text": [
      "313/313 [==============================] - 1s 4ms/step\n"
     ]
    },
    {
     "data": {
      "text/plain": [
       "array([[8.2264160e-13, 1.6666987e-12, 5.0356976e-12, ..., 1.0000000e+00,\n",
       "        3.3892457e-12, 2.7775717e-09],\n",
       "       [3.1413467e-09, 9.4746179e-07, 9.9999905e-01, ..., 9.9088885e-17,\n",
       "        2.3396092e-12, 3.6587833e-13],\n",
       "       [5.3649249e-08, 9.9999487e-01, 2.8655438e-07, ..., 2.1032224e-06,\n",
       "        1.9270681e-06, 1.8406052e-08],\n",
       "       ...,\n",
       "       [1.4668196e-19, 5.9575614e-13, 3.0215140e-16, ..., 2.9163214e-09,\n",
       "        2.3862654e-08, 1.2212548e-07],\n",
       "       [9.0489638e-12, 4.7281818e-13, 1.3364142e-15, ..., 3.7959145e-12,\n",
       "        3.7493795e-05, 2.7057709e-11],\n",
       "       [6.5813557e-12, 3.4352244e-13, 1.7656183e-14, ..., 4.8255464e-17,\n",
       "        6.8071965e-11, 5.3364084e-15]], dtype=float32)"
      ]
     },
     "execution_count": 45,
     "metadata": {},
     "output_type": "execute_result"
    }
   ],
   "source": [
    "pred_prob = model.predict(X_test)\n",
    "pred_prob"
   ]
  },
  {
   "cell_type": "code",
   "execution_count": 46,
   "metadata": {
    "ExecuteTime": {
     "end_time": "2022-10-06T16:02:03.147060Z",
     "start_time": "2022-10-06T16:02:03.134161Z"
    },
    "id": "k2kpyVAFq7yE"
   },
   "outputs": [
    {
     "data": {
      "text/plain": [
       "(10000, 10)"
      ]
     },
     "execution_count": 46,
     "metadata": {},
     "output_type": "execute_result"
    }
   ],
   "source": [
    "pred_prob.shape"
   ]
  },
  {
   "cell_type": "code",
   "execution_count": 47,
   "metadata": {
    "ExecuteTime": {
     "end_time": "2022-10-06T16:02:03.162355Z",
     "start_time": "2022-10-06T16:02:03.148984Z"
    },
    "id": "5Hc9CVZEHPkX"
   },
   "outputs": [
    {
     "data": {
      "text/plain": [
       "array([8.2264160e-13, 1.6666987e-12, 5.0356976e-12, 2.0585203e-10,\n",
       "       2.3251107e-14, 1.3260660e-12, 1.1952890e-20, 1.0000000e+00,\n",
       "       3.3892457e-12, 2.7775717e-09], dtype=float32)"
      ]
     },
     "execution_count": 47,
     "metadata": {},
     "output_type": "execute_result"
    }
   ],
   "source": [
    "pred_prob[0]"
   ]
  },
  {
   "cell_type": "code",
   "execution_count": 48,
   "metadata": {
    "ExecuteTime": {
     "end_time": "2022-10-06T16:02:03.177537Z",
     "start_time": "2022-10-06T16:02:03.163915Z"
    },
    "id": "5SU04Ba_q7yF"
   },
   "outputs": [
    {
     "data": {
      "text/plain": [
       "7"
      ]
     },
     "execution_count": 48,
     "metadata": {},
     "output_type": "execute_result"
    }
   ],
   "source": [
    "np.argmax(pred_prob[0])"
   ]
  },
  {
   "cell_type": "code",
   "execution_count": 49,
   "metadata": {
    "ExecuteTime": {
     "end_time": "2022-10-06T16:02:03.192935Z",
     "start_time": "2022-10-06T16:02:03.179566Z"
    },
    "id": "P54bs5fIQ1EU"
   },
   "outputs": [
    {
     "data": {
      "text/plain": [
       "array([7, 2, 1, ..., 4, 5, 6], dtype=int64)"
      ]
     },
     "execution_count": 49,
     "metadata": {},
     "output_type": "execute_result"
    }
   ],
   "source": [
    "y_pred = np.argmax(pred_prob, axis=1)\n",
    "y_pred"
   ]
  },
  {
   "cell_type": "code",
   "execution_count": 50,
   "metadata": {
    "ExecuteTime": {
     "end_time": "2022-10-06T16:02:03.208877Z",
     "start_time": "2022-10-06T16:02:03.194936Z"
    },
    "id": "Ci5uKY1_HPkY"
   },
   "outputs": [
    {
     "data": {
      "text/plain": [
       "(10000,)"
      ]
     },
     "execution_count": 50,
     "metadata": {},
     "output_type": "execute_result"
    }
   ],
   "source": [
    "y_pred.shape"
   ]
  },
  {
   "cell_type": "code",
   "execution_count": 51,
   "metadata": {
    "ExecuteTime": {
     "end_time": "2022-10-06T16:02:03.255658Z",
     "start_time": "2022-10-06T16:02:03.209882Z"
    },
    "id": "HUl6w6Jf423N"
   },
   "outputs": [
    {
     "name": "stdout",
     "output_type": "stream",
     "text": [
      "              precision    recall  f1-score   support\n",
      "\n",
      "           0       0.99      1.00      0.99       980\n",
      "           1       0.99      1.00      0.99      1135\n",
      "           2       0.99      0.98      0.99      1032\n",
      "           3       0.99      0.99      0.99      1010\n",
      "           4       0.99      0.99      0.99       982\n",
      "           5       0.99      0.99      0.99       892\n",
      "           6       1.00      0.98      0.99       958\n",
      "           7       0.99      0.97      0.98      1028\n",
      "           8       0.98      0.99      0.99       974\n",
      "           9       0.97      0.99      0.98      1009\n",
      "\n",
      "    accuracy                           0.99     10000\n",
      "   macro avg       0.99      0.99      0.99     10000\n",
      "weighted avg       0.99      0.99      0.99     10000\n",
      "\n"
     ]
    }
   ],
   "source": [
    "print(classification_report(y_test, y_pred))"
   ]
  },
  {
   "cell_type": "code",
   "execution_count": 52,
   "metadata": {
    "ExecuteTime": {
     "end_time": "2022-10-06T16:02:03.270378Z",
     "start_time": "2022-10-06T16:02:03.256638Z"
    },
    "id": "weQW_anSNmj8"
   },
   "outputs": [
    {
     "name": "stdout",
     "output_type": "stream",
     "text": [
      "[[ 976    1    0    1    0    1    0    1    0    0]\n",
      " [   0 1131    1    0    1    0    1    0    1    0]\n",
      " [   3    2 1015    0    0    0    0    7    3    2]\n",
      " [   0    0    2 1002    0    3    0    1    2    0]\n",
      " [   0    0    0    0  969    0    1    0    2   10]\n",
      " [   0    0    0    6    0  885    1    0    0    0]\n",
      " [   7    2    0    0    2    2  942    0    3    0]\n",
      " [   1    3    5    2    0    0    0 1002    2   13]\n",
      " [   2    0    1    2    0    1    0    2  962    4]\n",
      " [   1    3    0    0    5    3    0    0    3  994]]\n"
     ]
    }
   ],
   "source": [
    "print(confusion_matrix(y_test, y_pred))"
   ]
  },
  {
   "cell_type": "code",
   "execution_count": 53,
   "metadata": {
    "ExecuteTime": {
     "end_time": "2022-10-06T16:02:03.813753Z",
     "start_time": "2022-10-06T16:02:03.272522Z"
    },
    "id": "eJMTHZuMSVsT"
   },
   "outputs": [
    {
     "data": {
      "text/plain": [
       "<AxesSubplot:>"
      ]
     },
     "execution_count": 53,
     "metadata": {},
     "output_type": "execute_result"
    },
    {
     "data": {
      "image/png": "[encoded data removed]",
      "text/plain": [
       "<Figure size 1080x720 with 2 Axes>"
      ]
     },
     "metadata": {},
     "output_type": "display_data"
    }
   ],
   "source": [
    "plt.figure(figsize=(15,10))\n",
    "sns.heatmap(confusion_matrix(y_test, y_pred), annot=True, cmap=\"Blues\", linewidths=.5, linecolor='black', fmt='g', annot_kws = {\"size\": 15})"
   ]
  },
  {
   "cell_type": "code",
   "execution_count": 54,
   "metadata": {
    "ExecuteTime": {
     "end_time": "2022-10-06T16:02:03.829606Z",
     "start_time": "2022-10-06T16:02:03.815274Z"
    },
    "id": "-6wHt1Stq7yK"
   },
   "outputs": [
    {
     "data": {
      "text/plain": [
       "array([False, False, False, ..., False, False, False])"
      ]
     },
     "execution_count": 54,
     "metadata": {},
     "output_type": "execute_result"
    }
   ],
   "source": [
    "y_test != y_pred"
   ]
  },
  {
   "cell_type": "code",
   "execution_count": 55,
   "metadata": {
    "ExecuteTime": {
     "end_time": "2022-10-06T16:02:03.845440Z",
     "start_time": "2022-10-06T16:02:03.831994Z"
    },
    "id": "NEfpBMxNq7yK"
   },
   "outputs": [
    {
     "data": {
      "text/plain": [
       "122"
      ]
     },
     "execution_count": 55,
     "metadata": {},
     "output_type": "execute_result"
    }
   ],
   "source": [
    "(y_test != y_pred).sum()"
   ]
  },
  {
   "cell_type": "markdown",
   "metadata": {
    "id": "8FZSZfp2q7yL"
   },
   "source": [
    "# Prediction"
   ]
  },
  {
   "cell_type": "code",
   "execution_count": 56,
   "metadata": {
    "ExecuteTime": {
     "end_time": "2022-10-06T16:02:03.861017Z",
     "start_time": "2022-10-06T16:02:03.847868Z"
    },
    "id": "WduIUJj64rIp"
   },
   "outputs": [],
   "source": [
    "my_number = X_test[3]"
   ]
  },
  {
   "cell_type": "code",
   "execution_count": 57,
   "metadata": {
    "ExecuteTime": {
     "end_time": "2022-10-06T16:02:03.876556Z",
     "start_time": "2022-10-06T16:02:03.864562Z"
    },
    "id": "tDzJimh6q7yL"
   },
   "outputs": [
    {
     "data": {
      "text/plain": [
       "(28, 28, 1)"
      ]
     },
     "execution_count": 57,
     "metadata": {},
     "output_type": "execute_result"
    }
   ],
   "source": [
    "my_number.shape"
   ]
  },
  {
   "cell_type": "code",
   "execution_count": 58,
   "metadata": {
    "ExecuteTime": {
     "end_time": "2022-10-06T16:02:04.062153Z",
     "start_time": "2022-10-06T16:02:03.878321Z"
    },
    "id": "18_nBUbAN1fh"
   },
   "outputs": [
    {
     "data": {
      "image/png": "[encoded data removed]",
      "text/plain": [
       "<Figure size 720x432 with 1 Axes>"
      ]
     },
     "metadata": {},
     "output_type": "display_data"
    }
   ],
   "source": [
    "plt.imshow(my_number.reshape(28,28));"
   ]
  },
  {
   "cell_type": "code",
   "execution_count": 59,
   "metadata": {
    "ExecuteTime": {
     "end_time": "2022-10-06T16:02:04.155209Z",
     "start_time": "2022-10-06T16:02:04.063743Z"
    },
    "id": "1DCFzSFtOGZF"
   },
   "outputs": [
    {
     "name": "stdout",
     "output_type": "stream",
     "text": [
      "1/1 [==============================] - 0s 24ms/step\n"
     ]
    },
    {
     "data": {
      "text/plain": [
       "array([[1.0000000e+00, 5.6557079e-09, 2.0574242e-11, 4.7674972e-14,\n",
       "        1.3736549e-10, 1.6552405e-11, 8.5923348e-09, 5.1922044e-10,\n",
       "        2.5160798e-09, 3.0645972e-09]], dtype=float32)"
      ]
     },
     "execution_count": 59,
     "metadata": {},
     "output_type": "execute_result"
    }
   ],
   "source": [
    "pred_prob = model.predict(my_number.reshape(1,28,28,1))\n",
    "pred_prob"
   ]
  },
  {
   "cell_type": "code",
   "execution_count": 60,
   "metadata": {
    "ExecuteTime": {
     "end_time": "2022-10-06T16:02:04.170493Z",
     "start_time": "2022-10-06T16:02:04.157663Z"
    },
    "id": "zetmO1KEN4ro"
   },
   "outputs": [
    {
     "data": {
      "text/plain": [
       "0"
      ]
     },
     "execution_count": 60,
     "metadata": {},
     "output_type": "execute_result"
    }
   ],
   "source": [
    "# SHAPE --> (num_images,width,height,color_channels)\n",
    "y_pred = np.argmax(pred_prob)\n",
    "y_pred"
   ]
  },
  {
   "cell_type": "code",
   "execution_count": 61,
   "metadata": {
    "ExecuteTime": {
     "end_time": "2022-10-06T16:02:04.215584Z",
     "start_time": "2022-10-06T16:02:04.172495Z"
    },
    "id": "OuF9luxd1p56"
   },
   "outputs": [],
   "source": [
    "model.save(\"cnn-1.h5\")"
   ]
  },
  {
   "cell_type": "markdown",
   "metadata": {
    "id": "6eu9uga5x3dS"
   },
   "source": [
    "# Using"
   ]
  },
  {
   "cell_type": "code",
   "execution_count": 62,
   "metadata": {
    "ExecuteTime": {
     "end_time": "2022-10-06T16:02:04.384796Z",
     "start_time": "2022-10-06T16:02:04.217761Z"
    },
    "id": "ip1QdUmtkWWx"
   },
   "outputs": [],
   "source": [
    "model=tf.keras.models.load_model('cnn-1.h5')"
   ]
  },
  {
   "cell_type": "code",
   "execution_count": 63,
   "metadata": {
    "ExecuteTime": {
     "end_time": "2022-10-06T16:02:04.523866Z",
     "start_time": "2022-10-06T16:02:04.386923Z"
    },
    "id": "KM_yvYZUkdro"
   },
   "outputs": [
    {
     "name": "stdout",
     "output_type": "stream",
     "text": [
      "1/1 [==============================] - 0s 69ms/step\n"
     ]
    }
   ],
   "source": [
    "pred=model.predict(np.expand_dims(X_test[24],axis=0))"
   ]
  },
  {
   "cell_type": "code",
   "execution_count": 64,
   "metadata": {
    "ExecuteTime": {
     "end_time": "2022-10-06T16:02:04.539308Z",
     "start_time": "2022-10-06T16:02:04.525449Z"
    },
    "id": "r2_GU2pile0u"
   },
   "outputs": [
    {
     "data": {
      "text/plain": [
       "4"
      ]
     },
     "execution_count": 64,
     "metadata": {},
     "output_type": "execute_result"
    }
   ],
   "source": [
    "np.argmax(pred)"
   ]
  },
  {
   "cell_type": "code",
   "execution_count": 65,
   "metadata": {
    "ExecuteTime": {
     "end_time": "2022-10-06T16:02:04.691983Z",
     "start_time": "2022-10-06T16:02:04.540833Z"
    },
    "id": "5oyYgdmillYZ"
   },
   "outputs": [
    {
     "data": {
      "text/plain": [
       "<matplotlib.image.AxesImage at 0x123320c20a0>"
      ]
     },
     "execution_count": 65,
     "metadata": {},
     "output_type": "execute_result"
    },
    {
     "data": {
      "image/png": "[encoded data removed]",
      "text/plain": [
       "<Figure size 720x432 with 1 Axes>"
      ]
     },
     "metadata": {},
     "output_type": "display_data"
    }
   ],
   "source": [
    "plt.imshow(X_test[24].reshape(28,28))"
   ]
  },
  {
   "cell_type": "markdown",
   "metadata": {
    "id": "4xHIWlhcq7yN"
   },
   "source": [
    "___\n",
    "\n",
    "<p style=\"text-align: center;\"><img src=\"https://docs.google.com/uc?id=1lY0Uj5R04yMY3-ZppPWxqCr5pvBLYPnV\" class=\"img-fluid\" alt=\"CLRSWY\"></p>\n",
    "\n",
    "___"
   ]
  }
 ],
 "metadata": {
  "accelerator": "GPU",
  "colab": {
   "collapsed_sections": [],
   "provenance": []
  },
  "gpuClass": "standard",
  "hide_input": false,
  "kernelspec": {
   "display_name": "Python 3 (ipykernel)",
   "language": "python",
   "name": "python3"
  },
  "language_info": {
   "codemirror_mode": {
    "name": "ipython",
    "version": 3
   },
   "file_extension": ".py",
   "mimetype": "text/x-python",
   "name": "python",
   "nbconvert_exporter": "python",
   "pygments_lexer": "ipython3",
   "version": "3.9.12"
  },
  "toc": {
   "base_numbering": 1,
   "nav_menu": {},
   "number_sections": false,
   "sideBar": true,
   "skip_h1_title": false,
   "title_cell": "Table of Contents",
   "title_sidebar": "Contents",
   "toc_cell": false,
   "toc_position": {},
   "toc_section_display": true,
   "toc_window_display": false
  }
 },
 "nbformat": 4,
 "nbformat_minor": 1
}
