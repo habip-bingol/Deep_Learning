{
 "cells": [
  {
   "cell_type": "markdown",
   "metadata": {},
   "source": [
    "___\n",
    "\n",
    "<p style=\"text-align: center;\"><img src=\"https://docs.google.com/uc?id=1lY0Uj5R04yMY3-ZppPWxqCr5pvBLYPnV\" class=\"img-fluid\" alt=\"CLRSWY\"></p>\n",
    "\n",
    "___"
   ]
  },
  {
   "cell_type": "markdown",
   "metadata": {},
   "source": [
    "<h1 style=\"text-align: center;\">Deep Learning<br><br>Session - 2<br><br>Installing Tensorflow & Keras Syntax Basics<br><br>Fake Reg<br><h1>"
   ]
  },
  {
   "cell_type": "code",
   "execution_count": 1,
   "metadata": {
    "ExecuteTime": {
     "end_time": "2022-09-30T13:36:54.155912Z",
     "start_time": "2022-09-30T13:36:51.847774Z"
    }
   },
   "outputs": [],
   "source": [
    "import numpy as np\n",
    "import pandas as pd\n",
    "import matplotlib.pyplot as plt\n",
    "import seaborn as sns\n",
    "\n",
    "import warnings \n",
    "warnings.filterwarnings(\"ignore\")\n",
    "warnings.warn(\"this will not show\")\n",
    "\n",
    "plt.rcParams[\"figure.figsize\"] = (10,6)\n",
    "\n",
    "sns.set_style(\"whitegrid\")\n",
    "pd.set_option(\"display.float_format\", lambda x : \"%.3f\" %x)\n",
    "\n"
   ]
  },
  {
   "cell_type": "code",
   "execution_count": 2,
   "metadata": {
    "ExecuteTime": {
     "end_time": "2022-09-30T13:37:11.575341Z",
     "start_time": "2022-09-30T13:37:11.559685Z"
    }
   },
   "outputs": [],
   "source": [
    "df = pd.read_csv(\"fake_reg.csv\")"
   ]
  },
  {
   "cell_type": "code",
   "execution_count": 3,
   "metadata": {
    "ExecuteTime": {
     "end_time": "2022-09-30T13:37:14.945634Z",
     "start_time": "2022-09-30T13:37:14.919740Z"
    }
   },
   "outputs": [
    {
     "data": {
      "text/html": [
       "<div>\n",
       "<style scoped>\n",
       "    .dataframe tbody tr th:only-of-type {\n",
       "        vertical-align: middle;\n",
       "    }\n",
       "\n",
       "    .dataframe tbody tr th {\n",
       "        vertical-align: top;\n",
       "    }\n",
       "\n",
       "    .dataframe thead th {\n",
       "        text-align: right;\n",
       "    }\n",
       "</style>\n",
       "<table border=\"1\" class=\"dataframe\">\n",
       "  <thead>\n",
       "    <tr style=\"text-align: right;\">\n",
       "      <th></th>\n",
       "      <th>price</th>\n",
       "      <th>feature1</th>\n",
       "      <th>feature2</th>\n",
       "    </tr>\n",
       "  </thead>\n",
       "  <tbody>\n",
       "    <tr>\n",
       "      <th>0</th>\n",
       "      <td>461.528</td>\n",
       "      <td>999.788</td>\n",
       "      <td>999.766</td>\n",
       "    </tr>\n",
       "    <tr>\n",
       "      <th>1</th>\n",
       "      <td>548.130</td>\n",
       "      <td>998.862</td>\n",
       "      <td>1001.042</td>\n",
       "    </tr>\n",
       "    <tr>\n",
       "      <th>2</th>\n",
       "      <td>410.297</td>\n",
       "      <td>1000.070</td>\n",
       "      <td>998.844</td>\n",
       "    </tr>\n",
       "    <tr>\n",
       "      <th>3</th>\n",
       "      <td>540.382</td>\n",
       "      <td>999.952</td>\n",
       "      <td>1000.441</td>\n",
       "    </tr>\n",
       "    <tr>\n",
       "      <th>4</th>\n",
       "      <td>546.025</td>\n",
       "      <td>1000.446</td>\n",
       "      <td>1000.339</td>\n",
       "    </tr>\n",
       "  </tbody>\n",
       "</table>\n",
       "</div>"
      ],
      "text/plain": [
       "    price  feature1  feature2\n",
       "0 461.528   999.788   999.766\n",
       "1 548.130   998.862  1001.042\n",
       "2 410.297  1000.070   998.844\n",
       "3 540.382   999.952  1000.441\n",
       "4 546.025  1000.446  1000.339"
      ]
     },
     "execution_count": 3,
     "metadata": {},
     "output_type": "execute_result"
    }
   ],
   "source": [
    "df.head()"
   ]
  },
  {
   "cell_type": "code",
   "execution_count": 4,
   "metadata": {
    "ExecuteTime": {
     "end_time": "2022-09-30T13:37:21.872509Z",
     "start_time": "2022-09-30T13:37:21.847186Z"
    }
   },
   "outputs": [
    {
     "name": "stdout",
     "output_type": "stream",
     "text": [
      "<class 'pandas.core.frame.DataFrame'>\n",
      "RangeIndex: 1000 entries, 0 to 999\n",
      "Data columns (total 3 columns):\n",
      " #   Column    Non-Null Count  Dtype  \n",
      "---  ------    --------------  -----  \n",
      " 0   price     1000 non-null   float64\n",
      " 1   feature1  1000 non-null   float64\n",
      " 2   feature2  1000 non-null   float64\n",
      "dtypes: float64(3)\n",
      "memory usage: 23.6 KB\n"
     ]
    }
   ],
   "source": [
    "df.info()"
   ]
  },
  {
   "cell_type": "code",
   "execution_count": 5,
   "metadata": {
    "ExecuteTime": {
     "end_time": "2022-09-30T13:37:32.201305Z",
     "start_time": "2022-09-30T13:37:32.191616Z"
    }
   },
   "outputs": [
    {
     "data": {
      "text/plain": [
       "price       0\n",
       "feature1    0\n",
       "feature2    0\n",
       "dtype: int64"
      ]
     },
     "execution_count": 5,
     "metadata": {},
     "output_type": "execute_result"
    }
   ],
   "source": [
    "df.isnull().sum()"
   ]
  },
  {
   "cell_type": "code",
   "execution_count": 8,
   "metadata": {
    "ExecuteTime": {
     "end_time": "2022-09-30T13:38:05.209412Z",
     "start_time": "2022-09-30T13:38:05.191187Z"
    }
   },
   "outputs": [
    {
     "data": {
      "text/html": [
       "<div>\n",
       "<style scoped>\n",
       "    .dataframe tbody tr th:only-of-type {\n",
       "        vertical-align: middle;\n",
       "    }\n",
       "\n",
       "    .dataframe tbody tr th {\n",
       "        vertical-align: top;\n",
       "    }\n",
       "\n",
       "    .dataframe thead th {\n",
       "        text-align: right;\n",
       "    }\n",
       "</style>\n",
       "<table border=\"1\" class=\"dataframe\">\n",
       "  <thead>\n",
       "    <tr style=\"text-align: right;\">\n",
       "      <th></th>\n",
       "      <th>count</th>\n",
       "      <th>mean</th>\n",
       "      <th>std</th>\n",
       "      <th>min</th>\n",
       "      <th>25%</th>\n",
       "      <th>50%</th>\n",
       "      <th>75%</th>\n",
       "      <th>max</th>\n",
       "    </tr>\n",
       "  </thead>\n",
       "  <tbody>\n",
       "    <tr>\n",
       "      <th>price</th>\n",
       "      <td>1000.000</td>\n",
       "      <td>498.673</td>\n",
       "      <td>93.785</td>\n",
       "      <td>223.347</td>\n",
       "      <td>433.026</td>\n",
       "      <td>502.382</td>\n",
       "      <td>564.922</td>\n",
       "      <td>774.408</td>\n",
       "    </tr>\n",
       "    <tr>\n",
       "      <th>feature1</th>\n",
       "      <td>1000.000</td>\n",
       "      <td>1000.014</td>\n",
       "      <td>0.974</td>\n",
       "      <td>997.058</td>\n",
       "      <td>999.332</td>\n",
       "      <td>1000.010</td>\n",
       "      <td>1000.638</td>\n",
       "      <td>1003.208</td>\n",
       "    </tr>\n",
       "    <tr>\n",
       "      <th>feature2</th>\n",
       "      <td>1000.000</td>\n",
       "      <td>999.980</td>\n",
       "      <td>0.948</td>\n",
       "      <td>996.996</td>\n",
       "      <td>999.316</td>\n",
       "      <td>1000.002</td>\n",
       "      <td>1000.645</td>\n",
       "      <td>1002.666</td>\n",
       "    </tr>\n",
       "  </tbody>\n",
       "</table>\n",
       "</div>"
      ],
      "text/plain": [
       "            count     mean    std     min     25%      50%      75%      max\n",
       "price    1000.000  498.673 93.785 223.347 433.026  502.382  564.922  774.408\n",
       "feature1 1000.000 1000.014  0.974 997.058 999.332 1000.010 1000.638 1003.208\n",
       "feature2 1000.000  999.980  0.948 996.996 999.316 1000.002 1000.645 1002.666"
      ]
     },
     "execution_count": 8,
     "metadata": {},
     "output_type": "execute_result"
    }
   ],
   "source": [
    "df.describe().T"
   ]
  },
  {
   "cell_type": "code",
   "execution_count": 7,
   "metadata": {
    "ExecuteTime": {
     "end_time": "2022-09-30T13:37:56.002226Z",
     "start_time": "2022-09-30T13:37:55.983750Z"
    }
   },
   "outputs": [
    {
     "data": {
      "text/plain": [
       "(1000, 3)"
      ]
     },
     "execution_count": 7,
     "metadata": {},
     "output_type": "execute_result"
    }
   ],
   "source": [
    "df.shape"
   ]
  },
  {
   "cell_type": "code",
   "execution_count": 9,
   "metadata": {
    "ExecuteTime": {
     "end_time": "2022-09-30T13:38:20.870241Z",
     "start_time": "2022-09-30T13:38:20.855777Z"
    }
   },
   "outputs": [
    {
     "data": {
      "text/html": [
       "<div>\n",
       "<style scoped>\n",
       "    .dataframe tbody tr th:only-of-type {\n",
       "        vertical-align: middle;\n",
       "    }\n",
       "\n",
       "    .dataframe tbody tr th {\n",
       "        vertical-align: top;\n",
       "    }\n",
       "\n",
       "    .dataframe thead th {\n",
       "        text-align: right;\n",
       "    }\n",
       "</style>\n",
       "<table border=\"1\" class=\"dataframe\">\n",
       "  <thead>\n",
       "    <tr style=\"text-align: right;\">\n",
       "      <th></th>\n",
       "      <th>price</th>\n",
       "      <th>feature1</th>\n",
       "      <th>feature2</th>\n",
       "    </tr>\n",
       "  </thead>\n",
       "  <tbody>\n",
       "    <tr>\n",
       "      <th>price</th>\n",
       "      <td>1.000</td>\n",
       "      <td>0.444</td>\n",
       "      <td>0.908</td>\n",
       "    </tr>\n",
       "    <tr>\n",
       "      <th>feature1</th>\n",
       "      <td>0.444</td>\n",
       "      <td>1.000</td>\n",
       "      <td>0.031</td>\n",
       "    </tr>\n",
       "    <tr>\n",
       "      <th>feature2</th>\n",
       "      <td>0.908</td>\n",
       "      <td>0.031</td>\n",
       "      <td>1.000</td>\n",
       "    </tr>\n",
       "  </tbody>\n",
       "</table>\n",
       "</div>"
      ],
      "text/plain": [
       "          price  feature1  feature2\n",
       "price     1.000     0.444     0.908\n",
       "feature1  0.444     1.000     0.031\n",
       "feature2  0.908     0.031     1.000"
      ]
     },
     "execution_count": 9,
     "metadata": {},
     "output_type": "execute_result"
    }
   ],
   "source": [
    "df.corr()"
   ]
  },
  {
   "cell_type": "code",
   "execution_count": 10,
   "metadata": {
    "ExecuteTime": {
     "end_time": "2022-09-30T13:38:36.029423Z",
     "start_time": "2022-09-30T13:38:34.039815Z"
    }
   },
   "outputs": [
    {
     "data": {
      "text/plain": [
       "<seaborn.axisgrid.PairGrid at 0x1da9a250f10>"
      ]
     },
     "execution_count": 10,
     "metadata": {},
     "output_type": "execute_result"
    },
    {
     "data": {
      "image/png": "[encoded data removed]",
      "text/plain": [
       "<Figure size 540x540 with 12 Axes>"
      ]
     },
     "metadata": {},
     "output_type": "display_data"
    }
   ],
   "source": [
    "sns.pairplot(df)"
   ]
  },
  {
   "cell_type": "code",
   "execution_count": 12,
   "metadata": {
    "ExecuteTime": {
     "end_time": "2022-09-30T13:38:55.181316Z",
     "start_time": "2022-09-30T13:38:54.967845Z"
    }
   },
   "outputs": [
    {
     "data": {
      "text/plain": [
       "<AxesSubplot:>"
      ]
     },
     "execution_count": 12,
     "metadata": {},
     "output_type": "execute_result"
    },
    {
     "data": {
      "image/png": "[encoded data removed]",
      "text/plain": [
       "<Figure size 720x432 with 2 Axes>"
      ]
     },
     "metadata": {},
     "output_type": "display_data"
    }
   ],
   "source": [
    "sns.heatmap(df.corr(), annot=True)"
   ]
  },
  {
   "cell_type": "markdown",
   "metadata": {},
   "source": [
    "## Preprocessing of Data\n",
    "- Train | Test Split, Scalling"
   ]
  },
  {
   "cell_type": "code",
   "execution_count": 13,
   "metadata": {
    "ExecuteTime": {
     "end_time": "2022-09-30T13:40:02.858035Z",
     "start_time": "2022-09-30T13:40:02.840325Z"
    }
   },
   "outputs": [],
   "source": [
    "X = df.drop(columns=\"price\")\n",
    "y=df.price"
   ]
  },
  {
   "cell_type": "code",
   "execution_count": 14,
   "metadata": {
    "ExecuteTime": {
     "end_time": "2022-09-30T13:40:09.138774Z",
     "start_time": "2022-09-30T13:40:09.127492Z"
    }
   },
   "outputs": [
    {
     "data": {
      "text/html": [
       "<div>\n",
       "<style scoped>\n",
       "    .dataframe tbody tr th:only-of-type {\n",
       "        vertical-align: middle;\n",
       "    }\n",
       "\n",
       "    .dataframe tbody tr th {\n",
       "        vertical-align: top;\n",
       "    }\n",
       "\n",
       "    .dataframe thead th {\n",
       "        text-align: right;\n",
       "    }\n",
       "</style>\n",
       "<table border=\"1\" class=\"dataframe\">\n",
       "  <thead>\n",
       "    <tr style=\"text-align: right;\">\n",
       "      <th></th>\n",
       "      <th>feature1</th>\n",
       "      <th>feature2</th>\n",
       "    </tr>\n",
       "  </thead>\n",
       "  <tbody>\n",
       "    <tr>\n",
       "      <th>0</th>\n",
       "      <td>999.788</td>\n",
       "      <td>999.766</td>\n",
       "    </tr>\n",
       "    <tr>\n",
       "      <th>1</th>\n",
       "      <td>998.862</td>\n",
       "      <td>1001.042</td>\n",
       "    </tr>\n",
       "    <tr>\n",
       "      <th>2</th>\n",
       "      <td>1000.070</td>\n",
       "      <td>998.844</td>\n",
       "    </tr>\n",
       "    <tr>\n",
       "      <th>3</th>\n",
       "      <td>999.952</td>\n",
       "      <td>1000.441</td>\n",
       "    </tr>\n",
       "    <tr>\n",
       "      <th>4</th>\n",
       "      <td>1000.446</td>\n",
       "      <td>1000.339</td>\n",
       "    </tr>\n",
       "    <tr>\n",
       "      <th>...</th>\n",
       "      <td>...</td>\n",
       "      <td>...</td>\n",
       "    </tr>\n",
       "    <tr>\n",
       "      <th>995</th>\n",
       "      <td>1000.019</td>\n",
       "      <td>999.673</td>\n",
       "    </tr>\n",
       "    <tr>\n",
       "      <th>996</th>\n",
       "      <td>998.855</td>\n",
       "      <td>1000.020</td>\n",
       "    </tr>\n",
       "    <tr>\n",
       "      <th>997</th>\n",
       "      <td>1001.452</td>\n",
       "      <td>998.848</td>\n",
       "    </tr>\n",
       "    <tr>\n",
       "      <th>998</th>\n",
       "      <td>1000.771</td>\n",
       "      <td>998.563</td>\n",
       "    </tr>\n",
       "    <tr>\n",
       "      <th>999</th>\n",
       "      <td>999.232</td>\n",
       "      <td>1001.451</td>\n",
       "    </tr>\n",
       "  </tbody>\n",
       "</table>\n",
       "<p>1000 rows × 2 columns</p>\n",
       "</div>"
      ],
      "text/plain": [
       "     feature1  feature2\n",
       "0     999.788   999.766\n",
       "1     998.862  1001.042\n",
       "2    1000.070   998.844\n",
       "3     999.952  1000.441\n",
       "4    1000.446  1000.339\n",
       "..        ...       ...\n",
       "995  1000.019   999.673\n",
       "996   998.855  1000.020\n",
       "997  1001.452   998.848\n",
       "998  1000.771   998.563\n",
       "999   999.232  1001.451\n",
       "\n",
       "[1000 rows x 2 columns]"
      ]
     },
     "execution_count": 14,
     "metadata": {},
     "output_type": "execute_result"
    }
   ],
   "source": [
    "X "
   ]
  },
  {
   "cell_type": "code",
   "execution_count": 15,
   "metadata": {
    "ExecuteTime": {
     "end_time": "2022-09-30T13:40:13.864079Z",
     "start_time": "2022-09-30T13:40:13.854408Z"
    }
   },
   "outputs": [
    {
     "data": {
      "text/plain": [
       "0     461.528\n",
       "1     548.130\n",
       "2     410.297\n",
       "3     540.382\n",
       "4     546.025\n",
       "        ...  \n",
       "995   476.526\n",
       "996   457.313\n",
       "997   456.721\n",
       "998   403.316\n",
       "999   599.367\n",
       "Name: price, Length: 1000, dtype: float64"
      ]
     },
     "execution_count": 15,
     "metadata": {},
     "output_type": "execute_result"
    }
   ],
   "source": [
    "y"
   ]
  },
  {
   "cell_type": "code",
   "execution_count": 16,
   "metadata": {
    "ExecuteTime": {
     "end_time": "2022-09-30T13:41:16.753533Z",
     "start_time": "2022-09-30T13:41:16.745663Z"
    }
   },
   "outputs": [],
   "source": [
    "from sklearn.model_selection import train_test_split\n",
    "X_train, X_test, y_train, y_test = train_test_split(X , y , test_size=0.3, random_state=42)"
   ]
  },
  {
   "cell_type": "code",
   "execution_count": 17,
   "metadata": {
    "ExecuteTime": {
     "end_time": "2022-09-30T13:41:23.814340Z",
     "start_time": "2022-09-30T13:41:23.799768Z"
    }
   },
   "outputs": [
    {
     "data": {
      "text/plain": [
       "(700, 2)"
      ]
     },
     "execution_count": 17,
     "metadata": {},
     "output_type": "execute_result"
    }
   ],
   "source": [
    "X_train.shape"
   ]
  },
  {
   "cell_type": "code",
   "execution_count": 18,
   "metadata": {
    "ExecuteTime": {
     "end_time": "2022-09-30T13:41:37.991082Z",
     "start_time": "2022-09-30T13:41:37.983880Z"
    }
   },
   "outputs": [
    {
     "data": {
      "text/plain": [
       "(300, 2)"
      ]
     },
     "execution_count": 18,
     "metadata": {},
     "output_type": "execute_result"
    }
   ],
   "source": [
    "X_test.shape"
   ]
  },
  {
   "cell_type": "code",
   "execution_count": 19,
   "metadata": {
    "ExecuteTime": {
     "end_time": "2022-09-30T13:41:44.256744Z",
     "start_time": "2022-09-30T13:41:44.239166Z"
    }
   },
   "outputs": [
    {
     "data": {
      "text/plain": [
       "(700,)"
      ]
     },
     "execution_count": 19,
     "metadata": {},
     "output_type": "execute_result"
    }
   ],
   "source": [
    "y_train.shape"
   ]
  },
  {
   "cell_type": "code",
   "execution_count": 20,
   "metadata": {
    "ExecuteTime": {
     "end_time": "2022-09-30T13:41:53.772023Z",
     "start_time": "2022-09-30T13:41:53.767511Z"
    }
   },
   "outputs": [
    {
     "data": {
      "text/plain": [
       "(300,)"
      ]
     },
     "execution_count": 20,
     "metadata": {},
     "output_type": "execute_result"
    }
   ],
   "source": [
    "y_test.shape"
   ]
  },
  {
   "cell_type": "code",
   "execution_count": 21,
   "metadata": {
    "ExecuteTime": {
     "end_time": "2022-09-30T13:43:55.099431Z",
     "start_time": "2022-09-30T13:43:55.089025Z"
    }
   },
   "outputs": [],
   "source": [
    "from sklearn.preprocessing import MinMaxScaler\n",
    "\n",
    "scaler = MinMaxScaler()\n",
    "\n",
    "X_train = scaler.fit_transform(X_train)\n",
    "X_test = scaler.transform(X_test)"
   ]
  },
  {
   "cell_type": "markdown",
   "metadata": {},
   "source": [
    "## Modelling"
   ]
  },
  {
   "cell_type": "code",
   "execution_count": 22,
   "metadata": {
    "ExecuteTime": {
     "end_time": "2022-09-30T13:44:35.842839Z",
     "start_time": "2022-09-30T13:44:30.375669Z"
    }
   },
   "outputs": [],
   "source": [
    "import tensorflow as tf"
   ]
  },
  {
   "cell_type": "code",
   "execution_count": 23,
   "metadata": {
    "ExecuteTime": {
     "end_time": "2022-09-30T13:45:58.560059Z",
     "start_time": "2022-09-30T13:45:58.544383Z"
    }
   },
   "outputs": [],
   "source": [
    "from tensorflow.keras.models import Sequential\n",
    "from tensorflow.keras.layers import Input, Dense, Activation"
   ]
  },
  {
   "cell_type": "code",
   "execution_count": 25,
   "metadata": {
    "ExecuteTime": {
     "end_time": "2022-09-30T13:46:32.008211Z",
     "start_time": "2022-09-30T13:46:31.993059Z"
    },
    "scrolled": false
   },
   "outputs": [],
   "source": [
    "# help(Sequential)"
   ]
  },
  {
   "cell_type": "code",
   "execution_count": 27,
   "metadata": {
    "ExecuteTime": {
     "end_time": "2022-09-30T13:46:47.234470Z",
     "start_time": "2022-09-30T13:46:47.231313Z"
    }
   },
   "outputs": [],
   "source": [
    "# help(Dense)"
   ]
  },
  {
   "cell_type": "code",
   "execution_count": 34,
   "metadata": {
    "ExecuteTime": {
     "end_time": "2022-09-30T13:52:37.025613Z",
     "start_time": "2022-09-30T13:52:36.969570Z"
    }
   },
   "outputs": [],
   "source": [
    "model = Sequential()\n",
    "\n",
    "model.add(Dense(units=4, activation=\"relu\", input_dim = X_train.shape[1]))\n",
    "model.add(Dense(units=4, activation=\"relu\"))\n",
    "model.add(Dense(units=4, activation=\"relu\"))\n",
    "model.add(Dense(units=1))"
   ]
  },
  {
   "cell_type": "code",
   "execution_count": 35,
   "metadata": {
    "ExecuteTime": {
     "end_time": "2022-09-30T13:52:38.908324Z",
     "start_time": "2022-09-30T13:52:38.879667Z"
    }
   },
   "outputs": [
    {
     "name": "stdout",
     "output_type": "stream",
     "text": [
      "Model: \"sequential_3\"\n",
      "_________________________________________________________________\n",
      " Layer (type)                Output Shape              Param #   \n",
      "=================================================================\n",
      " dense_8 (Dense)             (None, 4)                 12        \n",
      "                                                                 \n",
      " dense_9 (Dense)             (None, 4)                 20        \n",
      "                                                                 \n",
      " dense_10 (Dense)            (None, 4)                 20        \n",
      "                                                                 \n",
      " dense_11 (Dense)            (None, 1)                 5         \n",
      "                                                                 \n",
      "=================================================================\n",
      "Total params: 57\n",
      "Trainable params: 57\n",
      "Non-trainable params: 0\n",
      "_________________________________________________________________\n"
     ]
    }
   ],
   "source": [
    "model.summary()"
   ]
  },
  {
   "cell_type": "code",
   "execution_count": 36,
   "metadata": {
    "ExecuteTime": {
     "end_time": "2022-09-30T13:53:03.692227Z",
     "start_time": "2022-09-30T13:53:03.665214Z"
    }
   },
   "outputs": [
    {
     "data": {
      "text/plain": [
       "[<tf.Variable 'dense_8/kernel:0' shape=(2, 4) dtype=float32, numpy=\n",
       " array([[-0.14647293,  0.9237454 , -0.88449526, -0.08494425],\n",
       "        [ 0.03964043,  0.39374948, -0.8467822 ,  0.0214026 ]],\n",
       "       dtype=float32)>,\n",
       " <tf.Variable 'dense_8/bias:0' shape=(4,) dtype=float32, numpy=array([0., 0., 0., 0.], dtype=float32)>,\n",
       " <tf.Variable 'dense_9/kernel:0' shape=(4, 4) dtype=float32, numpy=\n",
       " array([[-0.33679628,  0.02319556, -0.2930699 , -0.3605066 ],\n",
       "        [ 0.1388449 ,  0.11909175, -0.33644813, -0.25422567],\n",
       "        [ 0.4193458 ,  0.6319539 , -0.3774988 ,  0.6559289 ],\n",
       "        [ 0.46085054, -0.13394505, -0.7662995 ,  0.16340739]],\n",
       "       dtype=float32)>,\n",
       " <tf.Variable 'dense_9/bias:0' shape=(4,) dtype=float32, numpy=array([0., 0., 0., 0.], dtype=float32)>,\n",
       " <tf.Variable 'dense_10/kernel:0' shape=(4, 4) dtype=float32, numpy=\n",
       " array([[-0.1535238 ,  0.3819911 ,  0.8367278 ,  0.31758016],\n",
       "        [ 0.39993805, -0.3495404 , -0.31820536, -0.4744546 ],\n",
       "        [-0.13862836,  0.6786136 ,  0.3746329 , -0.8288109 ],\n",
       "        [ 0.22438425,  0.74175876, -0.35702068, -0.548271  ]],\n",
       "       dtype=float32)>,\n",
       " <tf.Variable 'dense_10/bias:0' shape=(4,) dtype=float32, numpy=array([0., 0., 0., 0.], dtype=float32)>,\n",
       " <tf.Variable 'dense_11/kernel:0' shape=(4, 1) dtype=float32, numpy=\n",
       " array([[-0.53510785],\n",
       "        [ 0.7154021 ],\n",
       "        [ 0.6252086 ],\n",
       "        [-0.3920986 ]], dtype=float32)>,\n",
       " <tf.Variable 'dense_11/bias:0' shape=(1,) dtype=float32, numpy=array([0.], dtype=float32)>]"
      ]
     },
     "execution_count": 36,
     "metadata": {},
     "output_type": "execute_result"
    }
   ],
   "source": [
    "model.weights"
   ]
  },
  {
   "cell_type": "markdown",
   "metadata": {},
   "source": [
    "### Choosing an optimizer and loss\n",
    "\n",
    "Keep in mind what kind of problem you are trying to solve:\n",
    "\n",
    "    # For a multi-class classification problem\n",
    "    model.compile(optimizer='rmsprop',\n",
    "                  loss='categorical_crossentropy',\n",
    "                  metrics=['accuracy'])\n",
    "\n",
    "    # For a binary classification problem\n",
    "    model.compile(optimizer='rmsprop',\n",
    "                  loss='binary_crossentropy',\n",
    "                  metrics=['accuracy'])\n",
    "\n",
    "    # For a mean squared error regression problem\n",
    "    model.compile(optimizer='rmsprop',\n",
    "                  loss='mse')"
   ]
  },
  {
   "cell_type": "code",
   "execution_count": 37,
   "metadata": {
    "ExecuteTime": {
     "end_time": "2022-09-30T13:53:46.125769Z",
     "start_time": "2022-09-30T13:53:46.103401Z"
    }
   },
   "outputs": [],
   "source": [
    "model.compile(optimizer=\"rmsprop\", loss=\"mse\")"
   ]
  },
  {
   "cell_type": "code",
   "execution_count": 38,
   "metadata": {
    "ExecuteTime": {
     "end_time": "2022-09-30T13:54:38.272788Z",
     "start_time": "2022-09-30T13:54:30.088225Z"
    }
   },
   "outputs": [
    {
     "name": "stdout",
     "output_type": "stream",
     "text": [
      "Epoch 1/250\n",
      "22/22 [==============================] - 1s 1ms/step - loss: 256596.6094\n",
      "Epoch 2/250\n",
      "22/22 [==============================] - 0s 1ms/step - loss: 256434.3750\n",
      "Epoch 3/250\n",
      "22/22 [==============================] - 0s 1ms/step - loss: 256276.1406\n",
      "Epoch 4/250\n",
      "22/22 [==============================] - 0s 997us/step - loss: 256105.9375\n",
      "Epoch 5/250\n",
      "22/22 [==============================] - 0s 1ms/step - loss: 255917.9219\n",
      "Epoch 6/250\n",
      "22/22 [==============================] - 0s 1ms/step - loss: 255709.6875\n",
      "Epoch 7/250\n",
      "22/22 [==============================] - 0s 1ms/step - loss: 255479.5938\n",
      "Epoch 8/250\n",
      "22/22 [==============================] - 0s 1ms/step - loss: 255226.8125\n",
      "Epoch 9/250\n",
      "22/22 [==============================] - 0s 1ms/step - loss: 254950.7031\n",
      "Epoch 10/250\n",
      "22/22 [==============================] - 0s 1ms/step - loss: 254646.2188\n",
      "Epoch 11/250\n",
      "22/22 [==============================] - 0s 1ms/step - loss: 254313.5312\n",
      "Epoch 12/250\n",
      "22/22 [==============================] - 0s 1ms/step - loss: 253953.8438\n",
      "Epoch 13/250\n",
      "22/22 [==============================] - 0s 2ms/step - loss: 253563.4219\n",
      "Epoch 14/250\n",
      "22/22 [==============================] - 0s 2ms/step - loss: 253138.1719\n",
      "Epoch 15/250\n",
      "22/22 [==============================] - 0s 2ms/step - loss: 252680.2969\n",
      "Epoch 16/250\n",
      "22/22 [==============================] - 0s 2ms/step - loss: 252185.6250\n",
      "Epoch 17/250\n",
      "22/22 [==============================] - 0s 2ms/step - loss: 251653.1406\n",
      "Epoch 18/250\n",
      "22/22 [==============================] - 0s 1ms/step - loss: 251082.3750\n",
      "Epoch 19/250\n",
      "22/22 [==============================] - 0s 1ms/step - loss: 250473.8125\n",
      "Epoch 20/250\n",
      "22/22 [==============================] - 0s 891us/step - loss: 249815.6406\n",
      "Epoch 21/250\n",
      "22/22 [==============================] - 0s 867us/step - loss: 249112.6406\n",
      "Epoch 22/250\n",
      "22/22 [==============================] - 0s 893us/step - loss: 248365.1875\n",
      "Epoch 23/250\n",
      "22/22 [==============================] - 0s 772us/step - loss: 247572.1406\n",
      "Epoch 24/250\n",
      "22/22 [==============================] - 0s 838us/step - loss: 246722.1562\n",
      "Epoch 25/250\n",
      "22/22 [==============================] - 0s 892us/step - loss: 245824.2969\n",
      "Epoch 26/250\n",
      "22/22 [==============================] - 0s 983us/step - loss: 244870.1250\n",
      "Epoch 27/250\n",
      "22/22 [==============================] - 0s 888us/step - loss: 243857.0000\n",
      "Epoch 28/250\n",
      "22/22 [==============================] - 0s 884us/step - loss: 242789.0938\n",
      "Epoch 29/250\n",
      "22/22 [==============================] - 0s 849us/step - loss: 241659.0156\n",
      "Epoch 30/250\n",
      "22/22 [==============================] - 0s 827us/step - loss: 240465.4688\n",
      "Epoch 31/250\n",
      "22/22 [==============================] - 0s 996us/step - loss: 239207.0000\n",
      "Epoch 32/250\n",
      "22/22 [==============================] - 0s 751us/step - loss: 237890.7188\n",
      "Epoch 33/250\n",
      "22/22 [==============================] - 0s 826us/step - loss: 236499.4531\n",
      "Epoch 34/250\n",
      "22/22 [==============================] - 0s 862us/step - loss: 235035.8438\n",
      "Epoch 35/250\n",
      "22/22 [==============================] - 0s 888us/step - loss: 233501.9219\n",
      "Epoch 36/250\n",
      "22/22 [==============================] - 0s 875us/step - loss: 231897.2500\n",
      "Epoch 37/250\n",
      "22/22 [==============================] - 0s 1ms/step - loss: 230215.4531\n",
      "Epoch 38/250\n",
      "22/22 [==============================] - 0s 847us/step - loss: 228449.1406\n",
      "Epoch 39/250\n",
      "22/22 [==============================] - 0s 1ms/step - loss: 226605.5312\n",
      "Epoch 40/250\n",
      "22/22 [==============================] - 0s 859us/step - loss: 224679.7500\n",
      "Epoch 41/250\n",
      "22/22 [==============================] - 0s 909us/step - loss: 222680.1875\n",
      "Epoch 42/250\n",
      "22/22 [==============================] - 0s 893us/step - loss: 220599.0625\n",
      "Epoch 43/250\n",
      "22/22 [==============================] - 0s 826us/step - loss: 218426.9062\n",
      "Epoch 44/250\n",
      "22/22 [==============================] - 0s 853us/step - loss: 216158.1562\n",
      "Epoch 45/250\n",
      "22/22 [==============================] - 0s 776us/step - loss: 213802.5625\n",
      "Epoch 46/250\n",
      "22/22 [==============================] - 0s 818us/step - loss: 211363.8906\n",
      "Epoch 47/250\n",
      "22/22 [==============================] - 0s 835us/step - loss: 208843.6875\n",
      "Epoch 48/250\n",
      "22/22 [==============================] - 0s 787us/step - loss: 206226.4844\n",
      "Epoch 49/250\n",
      "22/22 [==============================] - 0s 924us/step - loss: 203505.2188\n",
      "Epoch 50/250\n",
      "22/22 [==============================] - 0s 765us/step - loss: 200701.7344\n",
      "Epoch 51/250\n",
      "22/22 [==============================] - 0s 798us/step - loss: 197804.7500\n",
      "Epoch 52/250\n",
      "22/22 [==============================] - 0s 740us/step - loss: 194814.8125\n",
      "Epoch 53/250\n",
      "22/22 [==============================] - 0s 818us/step - loss: 191726.8438\n",
      "Epoch 54/250\n",
      "22/22 [==============================] - 0s 830us/step - loss: 188526.5312\n",
      "Epoch 55/250\n",
      "22/22 [==============================] - 0s 1ms/step - loss: 185248.2344\n",
      "Epoch 56/250\n",
      "22/22 [==============================] - 0s 840us/step - loss: 181885.6406\n",
      "Epoch 57/250\n",
      "22/22 [==============================] - 0s 767us/step - loss: 178424.7812\n",
      "Epoch 58/250\n",
      "22/22 [==============================] - 0s 810us/step - loss: 174857.3906\n",
      "Epoch 59/250\n",
      "22/22 [==============================] - 0s 794us/step - loss: 171198.6406\n",
      "Epoch 60/250\n",
      "22/22 [==============================] - 0s 866us/step - loss: 167440.9844\n",
      "Epoch 61/250\n",
      "22/22 [==============================] - 0s 855us/step - loss: 163614.7031\n",
      "Epoch 62/250\n",
      "22/22 [==============================] - 0s 820us/step - loss: 159683.5781\n",
      "Epoch 63/250\n",
      "22/22 [==============================] - 0s 946us/step - loss: 155694.7812\n",
      "Epoch 64/250\n",
      "22/22 [==============================] - 0s 891us/step - loss: 151599.0781\n",
      "Epoch 65/250\n",
      "22/22 [==============================] - 0s 827us/step - loss: 147417.0781\n",
      "Epoch 66/250\n",
      "22/22 [==============================] - 0s 825us/step - loss: 143157.0312\n",
      "Epoch 67/250\n",
      "22/22 [==============================] - 0s 840us/step - loss: 138851.7031\n",
      "Epoch 68/250\n",
      "22/22 [==============================] - 0s 956us/step - loss: 134449.8125\n",
      "Epoch 69/250\n",
      "22/22 [==============================] - 0s 935us/step - loss: 129983.3281\n",
      "Epoch 70/250\n",
      "22/22 [==============================] - 0s 884us/step - loss: 125462.5156\n",
      "Epoch 71/250\n",
      "22/22 [==============================] - 0s 988us/step - loss: 120902.9141\n",
      "Epoch 72/250\n",
      "22/22 [==============================] - 0s 897us/step - loss: 116276.7734\n",
      "Epoch 73/250\n",
      "22/22 [==============================] - 0s 900us/step - loss: 111585.4844\n",
      "Epoch 74/250\n",
      "22/22 [==============================] - 0s 909us/step - loss: 106858.7344\n",
      "Epoch 75/250\n",
      "22/22 [==============================] - 0s 884us/step - loss: 102091.9688\n",
      "Epoch 76/250\n",
      "22/22 [==============================] - 0s 824us/step - loss: 97297.3594\n",
      "Epoch 77/250\n",
      "22/22 [==============================] - 0s 782us/step - loss: 92506.1406\n",
      "Epoch 78/250\n",
      "22/22 [==============================] - 0s 832us/step - loss: 87700.6797\n",
      "Epoch 79/250\n",
      "22/22 [==============================] - 0s 879us/step - loss: 82888.1250\n",
      "Epoch 80/250\n",
      "22/22 [==============================] - 0s 930us/step - loss: 78073.1406\n",
      "Epoch 81/250\n",
      "22/22 [==============================] - 0s 794us/step - loss: 73285.5781\n",
      "Epoch 82/250\n",
      "22/22 [==============================] - 0s 1ms/step - loss: 68533.6328\n",
      "Epoch 83/250\n",
      "22/22 [==============================] - 0s 982us/step - loss: 63818.6211\n",
      "Epoch 84/250\n",
      "22/22 [==============================] - 0s 1ms/step - loss: 59173.3555\n",
      "Epoch 85/250\n",
      "22/22 [==============================] - 0s 979us/step - loss: 54560.3594\n",
      "Epoch 86/250\n",
      "22/22 [==============================] - 0s 986us/step - loss: 50037.4062\n",
      "Epoch 87/250\n",
      "22/22 [==============================] - 0s 815us/step - loss: 45654.1172\n",
      "Epoch 88/250\n",
      "22/22 [==============================] - 0s 813us/step - loss: 41364.3047\n",
      "Epoch 89/250\n",
      "22/22 [==============================] - 0s 824us/step - loss: 37216.8047\n",
      "Epoch 90/250\n",
      "22/22 [==============================] - 0s 884us/step - loss: 33177.7031\n",
      "Epoch 91/250\n",
      "22/22 [==============================] - 0s 973us/step - loss: 29271.1738\n",
      "Epoch 92/250\n",
      "22/22 [==============================] - 0s 804us/step - loss: 25585.1309\n",
      "Epoch 93/250\n",
      "22/22 [==============================] - 0s 894us/step - loss: 22100.8516\n",
      "Epoch 94/250\n",
      "22/22 [==============================] - 0s 786us/step - loss: 18825.3281\n"
     ]
    },
    {
     "name": "stdout",
     "output_type": "stream",
     "text": [
      "Epoch 95/250\n",
      "22/22 [==============================] - 0s 888us/step - loss: 15799.5674\n",
      "Epoch 96/250\n",
      "22/22 [==============================] - 0s 891us/step - loss: 12992.0430\n",
      "Epoch 97/250\n",
      "22/22 [==============================] - 0s 955us/step - loss: 10478.2510\n",
      "Epoch 98/250\n",
      "22/22 [==============================] - 0s 847us/step - loss: 8310.1562\n",
      "Epoch 99/250\n",
      "22/22 [==============================] - 0s 967us/step - loss: 6423.2949\n",
      "Epoch 100/250\n",
      "22/22 [==============================] - 0s 1ms/step - loss: 4850.6191\n",
      "Epoch 101/250\n",
      "22/22 [==============================] - 0s 1ms/step - loss: 3667.2776\n",
      "Epoch 102/250\n",
      "22/22 [==============================] - 0s 1ms/step - loss: 2828.9292\n",
      "Epoch 103/250\n",
      "22/22 [==============================] - 0s 1ms/step - loss: 2334.1960\n",
      "Epoch 104/250\n",
      "22/22 [==============================] - 0s 1ms/step - loss: 2106.4966\n",
      "Epoch 105/250\n",
      "22/22 [==============================] - 0s 988us/step - loss: 2061.7383\n",
      "Epoch 106/250\n",
      "22/22 [==============================] - 0s 1ms/step - loss: 2040.2056\n",
      "Epoch 107/250\n",
      "22/22 [==============================] - 0s 1ms/step - loss: 2011.9041\n",
      "Epoch 108/250\n",
      "22/22 [==============================] - 0s 1ms/step - loss: 1984.6932\n",
      "Epoch 109/250\n",
      "22/22 [==============================] - 0s 1ms/step - loss: 1959.4141\n",
      "Epoch 110/250\n",
      "22/22 [==============================] - 0s 1ms/step - loss: 1933.4459\n",
      "Epoch 111/250\n",
      "22/22 [==============================] - 0s 988us/step - loss: 1907.6987\n",
      "Epoch 112/250\n",
      "22/22 [==============================] - 0s 865us/step - loss: 1882.0748\n",
      "Epoch 113/250\n",
      "22/22 [==============================] - 0s 873us/step - loss: 1857.3596\n",
      "Epoch 114/250\n",
      "22/22 [==============================] - 0s 1ms/step - loss: 1829.5699\n",
      "Epoch 115/250\n",
      "22/22 [==============================] - 0s 1ms/step - loss: 1803.2473\n",
      "Epoch 116/250\n",
      "22/22 [==============================] - 0s 1ms/step - loss: 1777.9680\n",
      "Epoch 117/250\n",
      "22/22 [==============================] - 0s 1ms/step - loss: 1751.6207\n",
      "Epoch 118/250\n",
      "22/22 [==============================] - 0s 1ms/step - loss: 1729.9741\n",
      "Epoch 119/250\n",
      "22/22 [==============================] - 0s 1ms/step - loss: 1702.7000\n",
      "Epoch 120/250\n",
      "22/22 [==============================] - 0s 2ms/step - loss: 1678.6864\n",
      "Epoch 121/250\n",
      "22/22 [==============================] - 0s 1ms/step - loss: 1653.0275\n",
      "Epoch 122/250\n",
      "22/22 [==============================] - 0s 1ms/step - loss: 1628.4915\n",
      "Epoch 123/250\n",
      "22/22 [==============================] - 0s 875us/step - loss: 1603.4700\n",
      "Epoch 124/250\n",
      "22/22 [==============================] - 0s 836us/step - loss: 1577.8743\n",
      "Epoch 125/250\n",
      "22/22 [==============================] - 0s 831us/step - loss: 1551.8268\n",
      "Epoch 126/250\n",
      "22/22 [==============================] - 0s 988us/step - loss: 1528.5841\n",
      "Epoch 127/250\n",
      "22/22 [==============================] - 0s 890us/step - loss: 1503.7438\n",
      "Epoch 128/250\n",
      "22/22 [==============================] - 0s 1ms/step - loss: 1480.4819\n",
      "Epoch 129/250\n",
      "22/22 [==============================] - 0s 1ms/step - loss: 1452.3848\n",
      "Epoch 130/250\n",
      "22/22 [==============================] - 0s 1ms/step - loss: 1428.8948\n",
      "Epoch 131/250\n",
      "22/22 [==============================] - 0s 986us/step - loss: 1407.2721\n",
      "Epoch 132/250\n",
      "22/22 [==============================] - 0s 1ms/step - loss: 1383.0702\n",
      "Epoch 133/250\n",
      "22/22 [==============================] - 0s 1ms/step - loss: 1358.0430\n",
      "Epoch 134/250\n",
      "22/22 [==============================] - 0s 1ms/step - loss: 1333.8723\n",
      "Epoch 135/250\n",
      "22/22 [==============================] - 0s 1ms/step - loss: 1316.5477\n",
      "Epoch 136/250\n",
      "22/22 [==============================] - 0s 1ms/step - loss: 1291.9882\n",
      "Epoch 137/250\n",
      "22/22 [==============================] - 0s 2ms/step - loss: 1270.6719\n",
      "Epoch 138/250\n",
      "22/22 [==============================] - 0s 902us/step - loss: 1247.2518\n",
      "Epoch 139/250\n",
      "22/22 [==============================] - 0s 1ms/step - loss: 1225.0305\n",
      "Epoch 140/250\n",
      "22/22 [==============================] - 0s 1ms/step - loss: 1201.6661\n",
      "Epoch 141/250\n",
      "22/22 [==============================] - 0s 1ms/step - loss: 1182.5393\n",
      "Epoch 142/250\n",
      "22/22 [==============================] - 0s 1ms/step - loss: 1159.8726\n",
      "Epoch 143/250\n",
      "22/22 [==============================] - 0s 1ms/step - loss: 1135.9685\n",
      "Epoch 144/250\n",
      "22/22 [==============================] - 0s 1ms/step - loss: 1114.1777\n",
      "Epoch 145/250\n",
      "22/22 [==============================] - 0s 932us/step - loss: 1089.2148\n",
      "Epoch 146/250\n",
      "22/22 [==============================] - 0s 1ms/step - loss: 1066.9252\n",
      "Epoch 147/250\n",
      "22/22 [==============================] - 0s 835us/step - loss: 1045.7322\n",
      "Epoch 148/250\n",
      "22/22 [==============================] - 0s 962us/step - loss: 1025.7946\n",
      "Epoch 149/250\n",
      "22/22 [==============================] - 0s 884us/step - loss: 1004.6722\n",
      "Epoch 150/250\n",
      "22/22 [==============================] - 0s 958us/step - loss: 983.8073\n",
      "Epoch 151/250\n",
      "22/22 [==============================] - 0s 902us/step - loss: 963.9589\n",
      "Epoch 152/250\n",
      "22/22 [==============================] - 0s 906us/step - loss: 942.8191\n",
      "Epoch 153/250\n",
      "22/22 [==============================] - 0s 786us/step - loss: 923.2930\n",
      "Epoch 154/250\n",
      "22/22 [==============================] - 0s 925us/step - loss: 904.0180\n",
      "Epoch 155/250\n",
      "22/22 [==============================] - 0s 978us/step - loss: 885.3364\n",
      "Epoch 156/250\n",
      "22/22 [==============================] - 0s 1ms/step - loss: 866.6640\n",
      "Epoch 157/250\n",
      "22/22 [==============================] - 0s 1ms/step - loss: 848.9913\n",
      "Epoch 158/250\n",
      "22/22 [==============================] - 0s 1ms/step - loss: 824.8771\n",
      "Epoch 159/250\n",
      "22/22 [==============================] - 0s 1ms/step - loss: 806.8254\n",
      "Epoch 160/250\n",
      "22/22 [==============================] - 0s 1ms/step - loss: 785.9103\n",
      "Epoch 161/250\n",
      "22/22 [==============================] - 0s 1ms/step - loss: 767.0228\n",
      "Epoch 162/250\n",
      "22/22 [==============================] - 0s 2ms/step - loss: 748.5893\n",
      "Epoch 163/250\n",
      "22/22 [==============================] - 0s 2ms/step - loss: 732.7243\n",
      "Epoch 164/250\n",
      "22/22 [==============================] - 0s 2ms/step - loss: 714.4506\n",
      "Epoch 165/250\n",
      "22/22 [==============================] - 0s 1ms/step - loss: 695.9176\n",
      "Epoch 166/250\n",
      "22/22 [==============================] - 0s 1ms/step - loss: 677.9047\n",
      "Epoch 167/250\n",
      "22/22 [==============================] - 0s 1ms/step - loss: 661.6969\n",
      "Epoch 168/250\n",
      "22/22 [==============================] - 0s 2ms/step - loss: 643.8382\n",
      "Epoch 169/250\n",
      "22/22 [==============================] - 0s 2ms/step - loss: 624.8666\n",
      "Epoch 170/250\n",
      "22/22 [==============================] - 0s 1ms/step - loss: 607.7557\n",
      "Epoch 171/250\n",
      "22/22 [==============================] - 0s 1ms/step - loss: 591.0498\n",
      "Epoch 172/250\n",
      "22/22 [==============================] - 0s 1ms/step - loss: 574.6719\n",
      "Epoch 173/250\n",
      "22/22 [==============================] - 0s 1ms/step - loss: 556.6091\n",
      "Epoch 174/250\n",
      "22/22 [==============================] - 0s 1ms/step - loss: 538.2390\n",
      "Epoch 175/250\n",
      "22/22 [==============================] - 0s 863us/step - loss: 523.7441\n",
      "Epoch 176/250\n",
      "22/22 [==============================] - 0s 723us/step - loss: 507.7585\n",
      "Epoch 177/250\n",
      "22/22 [==============================] - 0s 1ms/step - loss: 491.0902\n",
      "Epoch 178/250\n",
      "22/22 [==============================] - 0s 1ms/step - loss: 474.7179\n",
      "Epoch 179/250\n",
      "22/22 [==============================] - 0s 889us/step - loss: 459.4755\n",
      "Epoch 180/250\n",
      "22/22 [==============================] - 0s 1ms/step - loss: 444.1684\n",
      "Epoch 181/250\n",
      "22/22 [==============================] - 0s 1ms/step - loss: 426.8875\n",
      "Epoch 182/250\n",
      "22/22 [==============================] - 0s 1ms/step - loss: 411.4280\n",
      "Epoch 183/250\n",
      "22/22 [==============================] - 0s 1ms/step - loss: 396.1395\n",
      "Epoch 184/250\n",
      "22/22 [==============================] - 0s 1ms/step - loss: 384.8087\n",
      "Epoch 185/250\n",
      "22/22 [==============================] - 0s 1ms/step - loss: 370.4655\n",
      "Epoch 186/250\n",
      "22/22 [==============================] - 0s 1ms/step - loss: 355.9605\n",
      "Epoch 187/250\n",
      "22/22 [==============================] - 0s 1ms/step - loss: 341.9327\n",
      "Epoch 188/250\n",
      "22/22 [==============================] - 0s 1ms/step - loss: 327.9876\n",
      "Epoch 189/250\n",
      "22/22 [==============================] - 0s 1ms/step - loss: 314.2074\n",
      "Epoch 190/250\n",
      "22/22 [==============================] - 0s 1ms/step - loss: 302.8036\n",
      "Epoch 191/250\n"
     ]
    },
    {
     "name": "stdout",
     "output_type": "stream",
     "text": [
      "22/22 [==============================] - 0s 1ms/step - loss: 291.0442\n",
      "Epoch 192/250\n",
      "22/22 [==============================] - 0s 1ms/step - loss: 279.0876\n",
      "Epoch 193/250\n",
      "22/22 [==============================] - 0s 1ms/step - loss: 267.7600\n",
      "Epoch 194/250\n",
      "22/22 [==============================] - 0s 1ms/step - loss: 256.0653\n",
      "Epoch 195/250\n",
      "22/22 [==============================] - 0s 1ms/step - loss: 243.8311\n",
      "Epoch 196/250\n",
      "22/22 [==============================] - 0s 1ms/step - loss: 231.2526\n",
      "Epoch 197/250\n",
      "22/22 [==============================] - 0s 1ms/step - loss: 219.2075\n",
      "Epoch 198/250\n",
      "22/22 [==============================] - 0s 902us/step - loss: 208.1022\n",
      "Epoch 199/250\n",
      "22/22 [==============================] - 0s 1ms/step - loss: 199.1746\n",
      "Epoch 200/250\n",
      "22/22 [==============================] - 0s 1ms/step - loss: 189.1162\n",
      "Epoch 201/250\n",
      "22/22 [==============================] - 0s 2ms/step - loss: 178.9116\n",
      "Epoch 202/250\n",
      "22/22 [==============================] - 0s 2ms/step - loss: 170.3964\n",
      "Epoch 203/250\n",
      "22/22 [==============================] - 0s 2ms/step - loss: 160.5627\n",
      "Epoch 204/250\n",
      "22/22 [==============================] - 0s 2ms/step - loss: 154.1842\n",
      "Epoch 205/250\n",
      "22/22 [==============================] - 0s 2ms/step - loss: 145.4705\n",
      "Epoch 206/250\n",
      "22/22 [==============================] - 0s 2ms/step - loss: 137.7803\n",
      "Epoch 207/250\n",
      "22/22 [==============================] - 0s 1ms/step - loss: 130.5803\n",
      "Epoch 208/250\n",
      "22/22 [==============================] - 0s 1ms/step - loss: 122.4122\n",
      "Epoch 209/250\n",
      "22/22 [==============================] - 0s 1ms/step - loss: 114.5592\n",
      "Epoch 210/250\n",
      "22/22 [==============================] - 0s 1ms/step - loss: 108.8683\n",
      "Epoch 211/250\n",
      "22/22 [==============================] - 0s 1ms/step - loss: 102.2685\n",
      "Epoch 212/250\n",
      "22/22 [==============================] - 0s 2ms/step - loss: 95.8735\n",
      "Epoch 213/250\n",
      "22/22 [==============================] - 0s 1ms/step - loss: 90.1271\n",
      "Epoch 214/250\n",
      "22/22 [==============================] - 0s 1ms/step - loss: 85.1374\n",
      "Epoch 215/250\n",
      "22/22 [==============================] - 0s 1ms/step - loss: 79.9685\n",
      "Epoch 216/250\n",
      "22/22 [==============================] - 0s 1ms/step - loss: 74.9237\n",
      "Epoch 217/250\n",
      "22/22 [==============================] - 0s 1ms/step - loss: 70.6203\n",
      "Epoch 218/250\n",
      "22/22 [==============================] - 0s 2ms/step - loss: 66.6685\n",
      "Epoch 219/250\n",
      "22/22 [==============================] - 0s 2ms/step - loss: 61.9360\n",
      "Epoch 220/250\n",
      "22/22 [==============================] - 0s 1ms/step - loss: 58.1712\n",
      "Epoch 221/250\n",
      "22/22 [==============================] - 0s 2ms/step - loss: 54.7910\n",
      "Epoch 222/250\n",
      "22/22 [==============================] - 0s 2ms/step - loss: 51.8114\n",
      "Epoch 223/250\n",
      "22/22 [==============================] - 0s 1ms/step - loss: 49.2202\n",
      "Epoch 224/250\n",
      "22/22 [==============================] - 0s 1ms/step - loss: 46.2138\n",
      "Epoch 225/250\n",
      "22/22 [==============================] - 0s 1ms/step - loss: 43.0386\n",
      "Epoch 226/250\n",
      "22/22 [==============================] - 0s 1ms/step - loss: 40.1159\n",
      "Epoch 227/250\n",
      "22/22 [==============================] - 0s 1ms/step - loss: 38.6771\n",
      "Epoch 228/250\n",
      "22/22 [==============================] - 0s 1ms/step - loss: 36.7582\n",
      "Epoch 229/250\n",
      "22/22 [==============================] - 0s 975us/step - loss: 35.2770\n",
      "Epoch 230/250\n",
      "22/22 [==============================] - 0s 1ms/step - loss: 33.5690\n",
      "Epoch 231/250\n",
      "22/22 [==============================] - 0s 862us/step - loss: 32.4908\n",
      "Epoch 232/250\n",
      "22/22 [==============================] - 0s 1ms/step - loss: 31.3921\n",
      "Epoch 233/250\n",
      "22/22 [==============================] - 0s 1ms/step - loss: 30.4461\n",
      "Epoch 234/250\n",
      "22/22 [==============================] - 0s 1ms/step - loss: 29.3357\n",
      "Epoch 235/250\n",
      "22/22 [==============================] - 0s 1ms/step - loss: 28.5748\n",
      "Epoch 236/250\n",
      "22/22 [==============================] - 0s 1ms/step - loss: 27.7904\n",
      "Epoch 237/250\n",
      "22/22 [==============================] - 0s 1ms/step - loss: 27.3434\n",
      "Epoch 238/250\n",
      "22/22 [==============================] - 0s 972us/step - loss: 26.5647\n",
      "Epoch 239/250\n",
      "22/22 [==============================] - 0s 1ms/step - loss: 26.4430\n",
      "Epoch 240/250\n",
      "22/22 [==============================] - 0s 1ms/step - loss: 25.9577\n",
      "Epoch 241/250\n",
      "22/22 [==============================] - 0s 1ms/step - loss: 25.8655\n",
      "Epoch 242/250\n",
      "22/22 [==============================] - 0s 1ms/step - loss: 25.5490\n",
      "Epoch 243/250\n",
      "22/22 [==============================] - 0s 1ms/step - loss: 25.3354\n",
      "Epoch 244/250\n",
      "22/22 [==============================] - 0s 1ms/step - loss: 25.0205\n",
      "Epoch 245/250\n",
      "22/22 [==============================] - 0s 1ms/step - loss: 24.9218\n",
      "Epoch 246/250\n",
      "22/22 [==============================] - 0s 1ms/step - loss: 24.7176\n",
      "Epoch 247/250\n",
      "22/22 [==============================] - 0s 1ms/step - loss: 24.9153\n",
      "Epoch 248/250\n",
      "22/22 [==============================] - 0s 1ms/step - loss: 24.5803\n",
      "Epoch 249/250\n",
      "22/22 [==============================] - 0s 1ms/step - loss: 24.3867\n",
      "Epoch 250/250\n",
      "22/22 [==============================] - 0s 1ms/step - loss: 24.2564\n"
     ]
    },
    {
     "data": {
      "text/plain": [
       "<keras.callbacks.History at 0x1daafd6f9d0>"
      ]
     },
     "execution_count": 38,
     "metadata": {},
     "output_type": "execute_result"
    }
   ],
   "source": [
    "model.fit(X_train, y_train, batch_size=32, epochs=250)"
   ]
  },
  {
   "cell_type": "code",
   "execution_count": 39,
   "metadata": {
    "ExecuteTime": {
     "end_time": "2022-09-30T13:54:46.757033Z",
     "start_time": "2022-09-30T13:54:46.736125Z"
    }
   },
   "outputs": [
    {
     "data": {
      "text/plain": [
       "[<tf.Variable 'dense_8/kernel:0' shape=(2, 4) dtype=float32, numpy=\n",
       " array([[-0.15374371,  2.649114  , -0.88449526,  1.6357363 ],\n",
       "        [ 0.02577145,  4.526019  , -0.8467822 ,  4.1467924 ]],\n",
       "       dtype=float32)>,\n",
       " <tf.Variable 'dense_8/bias:0' shape=(4,) dtype=float32, numpy=array([-0.01427992,  0.8742325 ,  0.        ,  0.8676059 ], dtype=float32)>,\n",
       " <tf.Variable 'dense_9/kernel:0' shape=(4, 4) dtype=float32, numpy=\n",
       " array([[-0.3256916 ,  0.0193071 , -0.2930699 , -0.3605066 ],\n",
       "        [ 2.7328107 ,  0.06576585, -0.33644813, -0.25422567],\n",
       "        [ 0.4193458 ,  0.6319539 , -0.3774988 ,  0.6559289 ],\n",
       "        [ 3.089719  , -0.21196137, -0.7662995 ,  0.16340739]],\n",
       "       dtype=float32)>,\n",
       " <tf.Variable 'dense_9/bias:0' shape=(4,) dtype=float32, numpy=array([ 0.84416026, -0.04900851,  0.        ,  0.        ], dtype=float32)>,\n",
       " <tf.Variable 'dense_10/kernel:0' shape=(4, 4) dtype=float32, numpy=\n",
       " array([[-0.16457048,  2.8800292 ,  3.3356252 ,  0.00733396],\n",
       "        [ 0.3896632 , -0.30952087, -0.27814665, -0.52690876],\n",
       "        [-0.13862836,  0.6786136 ,  0.3746329 , -0.8288109 ],\n",
       "        [ 0.22438425,  0.74175876, -0.35702068, -0.548271  ]],\n",
       "       dtype=float32)>,\n",
       " <tf.Variable 'dense_10/bias:0' shape=(4,) dtype=float32, numpy=array([-0.01007324,  0.8305714 ,  0.83145535, -0.28840217], dtype=float32)>,\n",
       " <tf.Variable 'dense_11/kernel:0' shape=(4, 1) dtype=float32, numpy=\n",
       " array([[-0.5284516 ],\n",
       "        [ 3.1850054 ],\n",
       "        [ 3.0920734 ],\n",
       "        [-0.12043237]], dtype=float32)>,\n",
       " <tf.Variable 'dense_11/bias:0' shape=(1,) dtype=float32, numpy=array([0.8180128], dtype=float32)>]"
      ]
     },
     "execution_count": 39,
     "metadata": {},
     "output_type": "execute_result"
    }
   ],
   "source": [
    "model.weights"
   ]
  },
  {
   "cell_type": "code",
   "execution_count": 41,
   "metadata": {
    "ExecuteTime": {
     "end_time": "2022-09-30T13:55:09.462323Z",
     "start_time": "2022-09-30T13:55:09.447905Z"
    }
   },
   "outputs": [
    {
     "data": {
      "text/plain": [
       "{'loss': [256596.609375,\n",
       "  256434.375,\n",
       "  256276.140625,\n",
       "  256105.9375,\n",
       "  255917.921875,\n",
       "  255709.6875,\n",
       "  255479.59375,\n",
       "  255226.8125,\n",
       "  254950.703125,\n",
       "  254646.21875,\n",
       "  254313.53125,\n",
       "  253953.84375,\n",
       "  253563.421875,\n",
       "  253138.171875,\n",
       "  252680.296875,\n",
       "  252185.625,\n",
       "  251653.140625,\n",
       "  251082.375,\n",
       "  250473.8125,\n",
       "  249815.640625,\n",
       "  249112.640625,\n",
       "  248365.1875,\n",
       "  247572.140625,\n",
       "  246722.15625,\n",
       "  245824.296875,\n",
       "  244870.125,\n",
       "  243857.0,\n",
       "  242789.09375,\n",
       "  241659.015625,\n",
       "  240465.46875,\n",
       "  239207.0,\n",
       "  237890.71875,\n",
       "  236499.453125,\n",
       "  235035.84375,\n",
       "  233501.921875,\n",
       "  231897.25,\n",
       "  230215.453125,\n",
       "  228449.140625,\n",
       "  226605.53125,\n",
       "  224679.75,\n",
       "  222680.1875,\n",
       "  220599.0625,\n",
       "  218426.90625,\n",
       "  216158.15625,\n",
       "  213802.5625,\n",
       "  211363.890625,\n",
       "  208843.6875,\n",
       "  206226.484375,\n",
       "  203505.21875,\n",
       "  200701.734375,\n",
       "  197804.75,\n",
       "  194814.8125,\n",
       "  191726.84375,\n",
       "  188526.53125,\n",
       "  185248.234375,\n",
       "  181885.640625,\n",
       "  178424.78125,\n",
       "  174857.390625,\n",
       "  171198.640625,\n",
       "  167440.984375,\n",
       "  163614.703125,\n",
       "  159683.578125,\n",
       "  155694.78125,\n",
       "  151599.078125,\n",
       "  147417.078125,\n",
       "  143157.03125,\n",
       "  138851.703125,\n",
       "  134449.8125,\n",
       "  129983.328125,\n",
       "  125462.515625,\n",
       "  120902.9140625,\n",
       "  116276.7734375,\n",
       "  111585.484375,\n",
       "  106858.734375,\n",
       "  102091.96875,\n",
       "  97297.359375,\n",
       "  92506.140625,\n",
       "  87700.6796875,\n",
       "  82888.125,\n",
       "  78073.140625,\n",
       "  73285.578125,\n",
       "  68533.6328125,\n",
       "  63818.62109375,\n",
       "  59173.35546875,\n",
       "  54560.359375,\n",
       "  50037.40625,\n",
       "  45654.1171875,\n",
       "  41364.3046875,\n",
       "  37216.8046875,\n",
       "  33177.703125,\n",
       "  29271.173828125,\n",
       "  25585.130859375,\n",
       "  22100.8515625,\n",
       "  18825.328125,\n",
       "  15799.5673828125,\n",
       "  12992.04296875,\n",
       "  10478.2509765625,\n",
       "  8310.15625,\n",
       "  6423.294921875,\n",
       "  4850.619140625,\n",
       "  3667.277587890625,\n",
       "  2828.92919921875,\n",
       "  2334.196044921875,\n",
       "  2106.49658203125,\n",
       "  2061.73828125,\n",
       "  2040.20556640625,\n",
       "  2011.904052734375,\n",
       "  1984.6932373046875,\n",
       "  1959.4140625,\n",
       "  1933.4459228515625,\n",
       "  1907.69873046875,\n",
       "  1882.0748291015625,\n",
       "  1857.359619140625,\n",
       "  1829.5699462890625,\n",
       "  1803.247314453125,\n",
       "  1777.968017578125,\n",
       "  1751.6207275390625,\n",
       "  1729.97412109375,\n",
       "  1702.699951171875,\n",
       "  1678.6864013671875,\n",
       "  1653.0274658203125,\n",
       "  1628.491455078125,\n",
       "  1603.469970703125,\n",
       "  1577.874267578125,\n",
       "  1551.8267822265625,\n",
       "  1528.5841064453125,\n",
       "  1503.7437744140625,\n",
       "  1480.48193359375,\n",
       "  1452.384765625,\n",
       "  1428.894775390625,\n",
       "  1407.2720947265625,\n",
       "  1383.0701904296875,\n",
       "  1358.04296875,\n",
       "  1333.872314453125,\n",
       "  1316.5477294921875,\n",
       "  1291.9881591796875,\n",
       "  1270.671875,\n",
       "  1247.2518310546875,\n",
       "  1225.030517578125,\n",
       "  1201.6661376953125,\n",
       "  1182.539306640625,\n",
       "  1159.87255859375,\n",
       "  1135.968505859375,\n",
       "  1114.177734375,\n",
       "  1089.21484375,\n",
       "  1066.9251708984375,\n",
       "  1045.732177734375,\n",
       "  1025.7945556640625,\n",
       "  1004.6722412109375,\n",
       "  983.8073120117188,\n",
       "  963.9589233398438,\n",
       "  942.819091796875,\n",
       "  923.29296875,\n",
       "  904.0180053710938,\n",
       "  885.33642578125,\n",
       "  866.6640014648438,\n",
       "  848.9912719726562,\n",
       "  824.8770751953125,\n",
       "  806.8253784179688,\n",
       "  785.9102783203125,\n",
       "  767.0228271484375,\n",
       "  748.5892944335938,\n",
       "  732.7243041992188,\n",
       "  714.4506225585938,\n",
       "  695.9176025390625,\n",
       "  677.9047241210938,\n",
       "  661.6968994140625,\n",
       "  643.8381958007812,\n",
       "  624.8665771484375,\n",
       "  607.7557373046875,\n",
       "  591.0498046875,\n",
       "  574.6719360351562,\n",
       "  556.609130859375,\n",
       "  538.2389526367188,\n",
       "  523.7440795898438,\n",
       "  507.7585144042969,\n",
       "  491.0902099609375,\n",
       "  474.7178649902344,\n",
       "  459.47552490234375,\n",
       "  444.16839599609375,\n",
       "  426.887451171875,\n",
       "  411.42803955078125,\n",
       "  396.1394958496094,\n",
       "  384.80865478515625,\n",
       "  370.4655456542969,\n",
       "  355.9604797363281,\n",
       "  341.9327087402344,\n",
       "  327.9875793457031,\n",
       "  314.2074279785156,\n",
       "  302.8035583496094,\n",
       "  291.0441589355469,\n",
       "  279.087646484375,\n",
       "  267.760009765625,\n",
       "  256.0652770996094,\n",
       "  243.83111572265625,\n",
       "  231.2526092529297,\n",
       "  219.20745849609375,\n",
       "  208.10215759277344,\n",
       "  199.17462158203125,\n",
       "  189.1162109375,\n",
       "  178.91160583496094,\n",
       "  170.39637756347656,\n",
       "  160.56272888183594,\n",
       "  154.18423461914062,\n",
       "  145.47048950195312,\n",
       "  137.7802734375,\n",
       "  130.58026123046875,\n",
       "  122.4122085571289,\n",
       "  114.55915069580078,\n",
       "  108.86834716796875,\n",
       "  102.26853942871094,\n",
       "  95.87352752685547,\n",
       "  90.1270980834961,\n",
       "  85.13739776611328,\n",
       "  79.96845245361328,\n",
       "  74.92371368408203,\n",
       "  70.6203384399414,\n",
       "  66.66852569580078,\n",
       "  61.93601608276367,\n",
       "  58.17119598388672,\n",
       "  54.7910270690918,\n",
       "  51.811405181884766,\n",
       "  49.22019577026367,\n",
       "  46.21384811401367,\n",
       "  43.0385627746582,\n",
       "  40.11590576171875,\n",
       "  38.677101135253906,\n",
       "  36.75819396972656,\n",
       "  35.27701187133789,\n",
       "  33.5689811706543,\n",
       "  32.490821838378906,\n",
       "  31.392118453979492,\n",
       "  30.446136474609375,\n",
       "  29.335731506347656,\n",
       "  28.574766159057617,\n",
       "  27.790382385253906,\n",
       "  27.3433780670166,\n",
       "  26.564653396606445,\n",
       "  26.442977905273438,\n",
       "  25.95774269104004,\n",
       "  25.86549186706543,\n",
       "  25.54903793334961,\n",
       "  25.335363388061523,\n",
       "  25.02054214477539,\n",
       "  24.921838760375977,\n",
       "  24.717594146728516,\n",
       "  24.915285110473633,\n",
       "  24.58028793334961,\n",
       "  24.38670539855957,\n",
       "  24.256427764892578]}"
      ]
     },
     "execution_count": 41,
     "metadata": {},
     "output_type": "execute_result"
    }
   ],
   "source": [
    "model.history.history"
   ]
  },
  {
   "cell_type": "code",
   "execution_count": 43,
   "metadata": {
    "ExecuteTime": {
     "end_time": "2022-09-30T13:56:14.443769Z",
     "start_time": "2022-09-30T13:56:14.248331Z"
    }
   },
   "outputs": [
    {
     "data": {
      "text/plain": [
       "<AxesSubplot:>"
      ]
     },
     "execution_count": 43,
     "metadata": {},
     "output_type": "execute_result"
    },
    {
     "data": {
      "image/png": "[encoded data removed]",
      "text/plain": [
       "<Figure size 720x432 with 1 Axes>"
      ]
     },
     "metadata": {},
     "output_type": "display_data"
    }
   ],
   "source": [
    "loss_df = pd.DataFrame(model.history.history)\n",
    "loss_df.plot()"
   ]
  },
  {
   "cell_type": "markdown",
   "metadata": {},
   "source": [
    "## Model Performance"
   ]
  },
  {
   "cell_type": "code",
   "execution_count": 44,
   "metadata": {
    "ExecuteTime": {
     "end_time": "2022-09-30T13:56:55.148466Z",
     "start_time": "2022-09-30T13:56:55.137481Z"
    }
   },
   "outputs": [],
   "source": [
    "from sklearn.metrics import mean_squared_error, mean_absolute_error, r2_score"
   ]
  },
  {
   "cell_type": "code",
   "execution_count": 49,
   "metadata": {
    "ExecuteTime": {
     "end_time": "2022-09-30T13:57:39.285860Z",
     "start_time": "2022-09-30T13:57:39.191770Z"
    }
   },
   "outputs": [
    {
     "data": {
      "text/plain": [
       "25.384363174438477"
      ]
     },
     "execution_count": 49,
     "metadata": {},
     "output_type": "execute_result"
    }
   ],
   "source": [
    "model.evaluate(X_train, y_train, verbose=0)"
   ]
  },
  {
   "cell_type": "code",
   "execution_count": 50,
   "metadata": {
    "ExecuteTime": {
     "end_time": "2022-09-30T13:57:52.818677Z",
     "start_time": "2022-09-30T13:57:52.713114Z"
    }
   },
   "outputs": [
    {
     "data": {
      "text/plain": [
       "25.8080997467041"
      ]
     },
     "execution_count": 50,
     "metadata": {},
     "output_type": "execute_result"
    }
   ],
   "source": [
    "model.evaluate(X_test, y_test, verbose=0)"
   ]
  },
  {
   "cell_type": "code",
   "execution_count": 64,
   "metadata": {
    "ExecuteTime": {
     "end_time": "2022-09-30T14:04:26.373382Z",
     "start_time": "2022-09-30T14:04:26.216561Z"
    }
   },
   "outputs": [
    {
     "name": "stdout",
     "output_type": "stream",
     "text": [
      "10/10 [==============================] - 0s 1ms/step\n"
     ]
    },
    {
     "data": {
      "text/plain": [
       "(300, 1)"
      ]
     },
     "execution_count": 64,
     "metadata": {},
     "output_type": "execute_result"
    }
   ],
   "source": [
    "y_pred = model.predict(X_test)\n",
    "y_pred.shape"
   ]
  },
  {
   "cell_type": "code",
   "execution_count": 63,
   "metadata": {
    "ExecuteTime": {
     "end_time": "2022-09-30T14:04:13.657844Z",
     "start_time": "2022-09-30T14:04:13.640523Z"
    }
   },
   "outputs": [
    {
     "data": {
      "text/html": [
       "<div>\n",
       "<style scoped>\n",
       "    .dataframe tbody tr th:only-of-type {\n",
       "        vertical-align: middle;\n",
       "    }\n",
       "\n",
       "    .dataframe tbody tr th {\n",
       "        vertical-align: top;\n",
       "    }\n",
       "\n",
       "    .dataframe thead th {\n",
       "        text-align: right;\n",
       "    }\n",
       "</style>\n",
       "<table border=\"1\" class=\"dataframe\">\n",
       "  <thead>\n",
       "    <tr style=\"text-align: right;\">\n",
       "      <th></th>\n",
       "      <th>Actual</th>\n",
       "      <th>Predict</th>\n",
       "    </tr>\n",
       "  </thead>\n",
       "  <tbody>\n",
       "    <tr>\n",
       "      <th>679</th>\n",
       "      <td>466.000</td>\n",
       "      <td>465.971</td>\n",
       "    </tr>\n",
       "    <tr>\n",
       "      <th>60</th>\n",
       "      <td>355.795</td>\n",
       "      <td>345.970</td>\n",
       "    </tr>\n",
       "    <tr>\n",
       "      <th>899</th>\n",
       "      <td>429.215</td>\n",
       "      <td>436.764</td>\n",
       "    </tr>\n",
       "    <tr>\n",
       "      <th>975</th>\n",
       "      <td>447.053</td>\n",
       "      <td>445.232</td>\n",
       "    </tr>\n",
       "    <tr>\n",
       "      <th>346</th>\n",
       "      <td>439.497</td>\n",
       "      <td>442.012</td>\n",
       "    </tr>\n",
       "    <tr>\n",
       "      <th>261</th>\n",
       "      <td>531.662</td>\n",
       "      <td>540.479</td>\n",
       "    </tr>\n",
       "    <tr>\n",
       "      <th>799</th>\n",
       "      <td>528.440</td>\n",
       "      <td>514.211</td>\n",
       "    </tr>\n",
       "    <tr>\n",
       "      <th>731</th>\n",
       "      <td>581.248</td>\n",
       "      <td>584.325</td>\n",
       "    </tr>\n",
       "    <tr>\n",
       "      <th>260</th>\n",
       "      <td>275.333</td>\n",
       "      <td>282.080</td>\n",
       "    </tr>\n",
       "    <tr>\n",
       "      <th>110</th>\n",
       "      <td>390.209</td>\n",
       "      <td>392.399</td>\n",
       "    </tr>\n",
       "  </tbody>\n",
       "</table>\n",
       "</div>"
      ],
      "text/plain": [
       "     Actual  Predict\n",
       "679 466.000  465.971\n",
       "60  355.795  345.970\n",
       "899 429.215  436.764\n",
       "975 447.053  445.232\n",
       "346 439.497  442.012\n",
       "261 531.662  540.479\n",
       "799 528.440  514.211\n",
       "731 581.248  584.325\n",
       "260 275.333  282.080\n",
       "110 390.209  392.399"
      ]
     },
     "execution_count": 63,
     "metadata": {},
     "output_type": "execute_result"
    }
   ],
   "source": [
    "my_dict = {\"Actual\" : y_test, \"Predict\" : y_pred.reshape(-1,)}\n",
    "compare = pd.DataFrame(my_dict)\n",
    "compare.sample(10)"
   ]
  },
  {
   "cell_type": "code",
   "execution_count": 65,
   "metadata": {
    "ExecuteTime": {
     "end_time": "2022-09-30T14:05:23.723853Z",
     "start_time": "2022-09-30T14:05:23.513517Z"
    }
   },
   "outputs": [
    {
     "data": {
      "text/plain": [
       "<AxesSubplot:xlabel='Actual', ylabel='Predict'>"
      ]
     },
     "execution_count": 65,
     "metadata": {},
     "output_type": "execute_result"
    },
    {
     "data": {
      "image/png": "[encoded data removed]",
      "text/plain": [
       "<Figure size 720x432 with 1 Axes>"
      ]
     },
     "metadata": {},
     "output_type": "display_data"
    }
   ],
   "source": [
    "sns.scatterplot(x=compare.Actual, y= compare.Predict)"
   ]
  },
  {
   "cell_type": "code",
   "execution_count": 67,
   "metadata": {
    "ExecuteTime": {
     "end_time": "2022-09-30T14:07:11.094537Z",
     "start_time": "2022-09-30T14:07:11.080017Z"
    }
   },
   "outputs": [],
   "source": [
    "def eval_metric(actual, pred):\n",
    "    mae = mean_absolute_error(actual, pred)\n",
    "    mse = mean_squared_error(actual,pred)\n",
    "    rmse = np.sqrt(mse)\n",
    "    score = r2_score(actual,pred)\n",
    "    return print(\"r2_score:\", score, \"\\nmae:\", mae, \"\\nmse:\", mse, \"\\nrmse:\", rmse)"
   ]
  },
  {
   "cell_type": "code",
   "execution_count": 68,
   "metadata": {
    "ExecuteTime": {
     "end_time": "2022-09-30T14:07:16.807507Z",
     "start_time": "2022-09-30T14:07:16.800374Z"
    }
   },
   "outputs": [
    {
     "name": "stdout",
     "output_type": "stream",
     "text": [
      "r2_score: 0.9970646030122714 \n",
      "mae: 4.085959336240858 \n",
      "mse: 25.808103266666606 \n",
      "rmse: 5.080167641590837\n"
     ]
    }
   ],
   "source": [
    "eval_metric(y_test, y_pred)"
   ]
  },
  {
   "cell_type": "markdown",
   "metadata": {},
   "source": [
    "## Final Model and Model Deployment"
   ]
  },
  {
   "cell_type": "markdown",
   "metadata": {},
   "source": [
    "### Final Model Training"
   ]
  },
  {
   "cell_type": "code",
   "execution_count": 73,
   "metadata": {
    "ExecuteTime": {
     "end_time": "2022-09-30T14:09:17.378867Z",
     "start_time": "2022-09-30T14:09:17.361305Z"
    }
   },
   "outputs": [],
   "source": [
    "scaler = MinMaxScaler().fit(X)"
   ]
  },
  {
   "cell_type": "code",
   "execution_count": 74,
   "metadata": {
    "ExecuteTime": {
     "end_time": "2022-09-30T14:10:02.454382Z",
     "start_time": "2022-09-30T14:10:02.449524Z"
    }
   },
   "outputs": [],
   "source": [
    "import pickle\n",
    "pickle.dump(scaler, open(\"scaler_fake_reg\", \"wb\"))"
   ]
  },
  {
   "cell_type": "code",
   "execution_count": 75,
   "metadata": {
    "ExecuteTime": {
     "end_time": "2022-09-30T14:10:03.997936Z",
     "start_time": "2022-09-30T14:10:03.977231Z"
    }
   },
   "outputs": [],
   "source": [
    "X_scaled = scaler.fit_transform(X)"
   ]
  },
  {
   "cell_type": "code",
   "execution_count": 76,
   "metadata": {
    "ExecuteTime": {
     "end_time": "2022-09-30T14:10:29.554707Z",
     "start_time": "2022-09-30T14:10:16.976464Z"
    }
   },
   "outputs": [
    {
     "name": "stdout",
     "output_type": "stream",
     "text": [
      "Epoch 1/250\n",
      "32/32 [==============================] - 1s 1ms/step - loss: 257336.6719\n",
      "Epoch 2/250\n",
      "32/32 [==============================] - 0s 1ms/step - loss: 257221.5938\n",
      "Epoch 3/250\n",
      "32/32 [==============================] - 0s 958us/step - loss: 257087.8125\n",
      "Epoch 4/250\n",
      "32/32 [==============================] - 0s 1ms/step - loss: 256928.3906\n",
      "Epoch 5/250\n",
      "32/32 [==============================] - 0s 1ms/step - loss: 256738.7188\n",
      "Epoch 6/250\n",
      "32/32 [==============================] - 0s 1ms/step - loss: 256515.3281\n",
      "Epoch 7/250\n",
      "32/32 [==============================] - 0s 1ms/step - loss: 256255.1562\n",
      "Epoch 8/250\n",
      "32/32 [==============================] - 0s 1ms/step - loss: 255955.2656\n",
      "Epoch 9/250\n",
      "32/32 [==============================] - 0s 1ms/step - loss: 255606.6094\n",
      "Epoch 10/250\n",
      "32/32 [==============================] - 0s 1ms/step - loss: 255209.6875\n",
      "Epoch 11/250\n",
      "32/32 [==============================] - 0s 1ms/step - loss: 254758.1875\n",
      "Epoch 12/250\n",
      "32/32 [==============================] - 0s 1ms/step - loss: 254245.4219\n",
      "Epoch 13/250\n",
      "32/32 [==============================] - 0s 1ms/step - loss: 253666.4219\n",
      "Epoch 14/250\n",
      "32/32 [==============================] - 0s 1ms/step - loss: 253020.2656\n",
      "Epoch 15/250\n",
      "32/32 [==============================] - 0s 1ms/step - loss: 252298.8438\n",
      "Epoch 16/250\n",
      "32/32 [==============================] - 0s 1ms/step - loss: 251499.8594\n",
      "Epoch 17/250\n",
      "32/32 [==============================] - 0s 1ms/step - loss: 250607.7656\n",
      "Epoch 18/250\n",
      "32/32 [==============================] - 0s 2ms/step - loss: 249625.5781\n",
      "Epoch 19/250\n",
      "32/32 [==============================] - 0s 2ms/step - loss: 248548.5781\n",
      "Epoch 20/250\n",
      "32/32 [==============================] - 0s 1ms/step - loss: 247366.7656\n",
      "Epoch 21/250\n",
      "32/32 [==============================] - 0s 1ms/step - loss: 246077.7344\n",
      "Epoch 22/250\n",
      "32/32 [==============================] - 0s 2ms/step - loss: 244667.9062\n",
      "Epoch 23/250\n",
      "32/32 [==============================] - 0s 2ms/step - loss: 243137.0781\n",
      "Epoch 24/250\n",
      "32/32 [==============================] - 0s 2ms/step - loss: 241477.8750\n",
      "Epoch 25/250\n",
      "32/32 [==============================] - 0s 2ms/step - loss: 239690.8750\n",
      "Epoch 26/250\n",
      "32/32 [==============================] - 0s 2ms/step - loss: 237760.2500\n",
      "Epoch 27/250\n",
      "32/32 [==============================] - 0s 2ms/step - loss: 235686.4688\n",
      "Epoch 28/250\n",
      "32/32 [==============================] - 0s 2ms/step - loss: 233454.2500\n",
      "Epoch 29/250\n",
      "32/32 [==============================] - 0s 2ms/step - loss: 231067.7969\n",
      "Epoch 30/250\n",
      "32/32 [==============================] - 0s 1ms/step - loss: 228525.9219\n",
      "Epoch 31/250\n",
      "32/32 [==============================] - 0s 2ms/step - loss: 225813.3594\n",
      "Epoch 32/250\n",
      "32/32 [==============================] - 0s 2ms/step - loss: 222916.2969\n",
      "Epoch 33/250\n",
      "32/32 [==============================] - 0s 2ms/step - loss: 219841.7344\n",
      "Epoch 34/250\n",
      "32/32 [==============================] - 0s 1ms/step - loss: 216602.0625\n",
      "Epoch 35/250\n",
      "32/32 [==============================] - 0s 1ms/step - loss: 213170.0000\n",
      "Epoch 36/250\n",
      "32/32 [==============================] - 0s 2ms/step - loss: 209535.4375\n",
      "Epoch 37/250\n",
      "32/32 [==============================] - 0s 2ms/step - loss: 205707.8438\n",
      "Epoch 38/250\n",
      "32/32 [==============================] - 0s 1ms/step - loss: 201697.1094\n",
      "Epoch 39/250\n",
      "32/32 [==============================] - 0s 1ms/step - loss: 197482.5156\n",
      "Epoch 40/250\n",
      "32/32 [==============================] - 0s 1ms/step - loss: 193057.7812\n",
      "Epoch 41/250\n",
      "32/32 [==============================] - 0s 1ms/step - loss: 188433.8594\n",
      "Epoch 42/250\n",
      "32/32 [==============================] - 0s 1ms/step - loss: 183619.5781\n",
      "Epoch 43/250\n",
      "32/32 [==============================] - 0s 1ms/step - loss: 178605.9844\n",
      "Epoch 44/250\n",
      "32/32 [==============================] - 0s 1ms/step - loss: 173377.3281\n",
      "Epoch 45/250\n",
      "32/32 [==============================] - 0s 1ms/step - loss: 167978.8906\n",
      "Epoch 46/250\n",
      "32/32 [==============================] - 0s 1ms/step - loss: 162410.4062\n",
      "Epoch 47/250\n",
      "32/32 [==============================] - 0s 1ms/step - loss: 156600.0312\n",
      "Epoch 48/250\n",
      "32/32 [==============================] - 0s 1ms/step - loss: 150619.7344\n",
      "Epoch 49/250\n",
      "32/32 [==============================] - 0s 1ms/step - loss: 144483.8906\n",
      "Epoch 50/250\n",
      "32/32 [==============================] - 0s 2ms/step - loss: 138170.5469\n",
      "Epoch 51/250\n",
      "32/32 [==============================] - 0s 2ms/step - loss: 131722.1875\n",
      "Epoch 52/250\n",
      "32/32 [==============================] - 0s 1ms/step - loss: 125155.9922\n",
      "Epoch 53/250\n",
      "32/32 [==============================] - 0s 1ms/step - loss: 118454.8906\n",
      "Epoch 54/250\n",
      "32/32 [==============================] - 0s 1ms/step - loss: 111627.0312\n",
      "Epoch 55/250\n",
      "32/32 [==============================] - 0s 1ms/step - loss: 104733.1953\n",
      "Epoch 56/250\n",
      "32/32 [==============================] - 0s 1ms/step - loss: 97794.1094\n",
      "Epoch 57/250\n",
      "32/32 [==============================] - 0s 1ms/step - loss: 90777.2422\n",
      "Epoch 58/250\n",
      "32/32 [==============================] - 0s 2ms/step - loss: 83790.1562\n",
      "Epoch 59/250\n",
      "32/32 [==============================] - 0s 1ms/step - loss: 76786.3984\n",
      "Epoch 60/250\n",
      "32/32 [==============================] - 0s 1ms/step - loss: 69843.3203\n",
      "Epoch 61/250\n",
      "32/32 [==============================] - 0s 2ms/step - loss: 63004.5742\n",
      "Epoch 62/250\n",
      "32/32 [==============================] - 0s 1ms/step - loss: 56200.5547\n",
      "Epoch 63/250\n",
      "32/32 [==============================] - 0s 1ms/step - loss: 49617.6367\n",
      "Epoch 64/250\n",
      "32/32 [==============================] - 0s 911us/step - loss: 43260.3828\n",
      "Epoch 65/250\n",
      "32/32 [==============================] - 0s 986us/step - loss: 37129.9023\n",
      "Epoch 66/250\n",
      "32/32 [==============================] - 0s 1ms/step - loss: 31318.8535\n",
      "Epoch 67/250\n",
      "32/32 [==============================] - 0s 1ms/step - loss: 25815.9629\n",
      "Epoch 68/250\n",
      "32/32 [==============================] - 0s 2ms/step - loss: 20785.4453\n",
      "Epoch 69/250\n",
      "32/32 [==============================] - 0s 2ms/step - loss: 16198.6221\n",
      "Epoch 70/250\n",
      "32/32 [==============================] - 0s 2ms/step - loss: 12156.7520\n",
      "Epoch 71/250\n",
      "32/32 [==============================] - 0s 1ms/step - loss: 8697.3457\n",
      "Epoch 72/250\n",
      "32/32 [==============================] - 0s 1ms/step - loss: 5933.8818\n",
      "Epoch 73/250\n",
      "32/32 [==============================] - 0s 1ms/step - loss: 3918.0459\n",
      "Epoch 74/250\n",
      "32/32 [==============================] - 0s 1ms/step - loss: 2604.5107\n",
      "Epoch 75/250\n",
      "32/32 [==============================] - 0s 1ms/step - loss: 2015.3618\n",
      "Epoch 76/250\n",
      "32/32 [==============================] - 0s 1ms/step - loss: 1885.7014\n",
      "Epoch 77/250\n",
      "32/32 [==============================] - 0s 1ms/step - loss: 1845.6261\n",
      "Epoch 78/250\n",
      "32/32 [==============================] - 0s 1ms/step - loss: 1808.6299\n",
      "Epoch 79/250\n",
      "32/32 [==============================] - 0s 2ms/step - loss: 1774.8167\n",
      "Epoch 80/250\n",
      "32/32 [==============================] - 0s 1ms/step - loss: 1743.7118\n",
      "Epoch 81/250\n",
      "32/32 [==============================] - 0s 1ms/step - loss: 1709.6873\n",
      "Epoch 82/250\n",
      "32/32 [==============================] - 0s 1ms/step - loss: 1677.4121\n",
      "Epoch 83/250\n",
      "32/32 [==============================] - 0s 1ms/step - loss: 1644.0192\n",
      "Epoch 84/250\n",
      "32/32 [==============================] - 0s 1ms/step - loss: 1609.6765\n",
      "Epoch 85/250\n",
      "32/32 [==============================] - 0s 1ms/step - loss: 1576.7314\n",
      "Epoch 86/250\n",
      "32/32 [==============================] - 0s 1ms/step - loss: 1543.5370\n",
      "Epoch 87/250\n",
      "32/32 [==============================] - 0s 1ms/step - loss: 1514.1702\n",
      "Epoch 88/250\n",
      "32/32 [==============================] - 0s 1ms/step - loss: 1483.4181\n",
      "Epoch 89/250\n",
      "32/32 [==============================] - 0s 1ms/step - loss: 1452.3937\n",
      "Epoch 90/250\n",
      "32/32 [==============================] - 0s 1ms/step - loss: 1420.8276\n",
      "Epoch 91/250\n",
      "32/32 [==============================] - 0s 1ms/step - loss: 1389.9575\n",
      "Epoch 92/250\n",
      "32/32 [==============================] - 0s 1ms/step - loss: 1357.8735\n",
      "Epoch 93/250\n",
      "32/32 [==============================] - 0s 1ms/step - loss: 1326.0471\n",
      "Epoch 94/250\n",
      "32/32 [==============================] - 0s 2ms/step - loss: 1294.9126\n",
      "Epoch 95/250\n",
      "32/32 [==============================] - 0s 2ms/step - loss: 1258.3917\n",
      "Epoch 96/250\n",
      "32/32 [==============================] - 0s 1ms/step - loss: 1231.2985\n",
      "Epoch 97/250\n"
     ]
    },
    {
     "name": "stdout",
     "output_type": "stream",
     "text": [
      "32/32 [==============================] - 0s 1ms/step - loss: 1197.9280\n",
      "Epoch 98/250\n",
      "32/32 [==============================] - 0s 2ms/step - loss: 1166.8287\n",
      "Epoch 99/250\n",
      "32/32 [==============================] - 0s 2ms/step - loss: 1137.4178\n",
      "Epoch 100/250\n",
      "32/32 [==============================] - 0s 2ms/step - loss: 1107.1896\n",
      "Epoch 101/250\n",
      "32/32 [==============================] - 0s 1ms/step - loss: 1079.5885\n",
      "Epoch 102/250\n",
      "32/32 [==============================] - 0s 2ms/step - loss: 1050.6774\n",
      "Epoch 103/250\n",
      "32/32 [==============================] - 0s 1ms/step - loss: 1020.7758\n",
      "Epoch 104/250\n",
      "32/32 [==============================] - 0s 1ms/step - loss: 991.7321\n",
      "Epoch 105/250\n",
      "32/32 [==============================] - 0s 1ms/step - loss: 965.1085\n",
      "Epoch 106/250\n",
      "32/32 [==============================] - 0s 2ms/step - loss: 938.1680\n",
      "Epoch 107/250\n",
      "32/32 [==============================] - 0s 2ms/step - loss: 911.6409\n",
      "Epoch 108/250\n",
      "32/32 [==============================] - 0s 2ms/step - loss: 882.5666\n",
      "Epoch 109/250\n",
      "32/32 [==============================] - 0s 1ms/step - loss: 858.1735\n",
      "Epoch 110/250\n",
      "32/32 [==============================] - 0s 1ms/step - loss: 830.8221\n",
      "Epoch 111/250\n",
      "32/32 [==============================] - 0s 1ms/step - loss: 802.8437\n",
      "Epoch 112/250\n",
      "32/32 [==============================] - 0s 1ms/step - loss: 773.1474\n",
      "Epoch 113/250\n",
      "32/32 [==============================] - 0s 1ms/step - loss: 747.1064\n",
      "Epoch 114/250\n",
      "32/32 [==============================] - 0s 1ms/step - loss: 722.4422\n",
      "Epoch 115/250\n",
      "32/32 [==============================] - 0s 1ms/step - loss: 696.0465\n",
      "Epoch 116/250\n",
      "32/32 [==============================] - 0s 1ms/step - loss: 668.4822\n",
      "Epoch 117/250\n",
      "32/32 [==============================] - 0s 1ms/step - loss: 642.1270\n",
      "Epoch 118/250\n",
      "32/32 [==============================] - 0s 1ms/step - loss: 618.1677\n",
      "Epoch 119/250\n",
      "32/32 [==============================] - 0s 1ms/step - loss: 596.7859\n",
      "Epoch 120/250\n",
      "32/32 [==============================] - 0s 1ms/step - loss: 574.2535\n",
      "Epoch 121/250\n",
      "32/32 [==============================] - 0s 1ms/step - loss: 549.4637\n",
      "Epoch 122/250\n",
      "32/32 [==============================] - 0s 1ms/step - loss: 525.4855\n",
      "Epoch 123/250\n",
      "32/32 [==============================] - 0s 1ms/step - loss: 504.9469\n",
      "Epoch 124/250\n",
      "32/32 [==============================] - 0s 1ms/step - loss: 483.4074\n",
      "Epoch 125/250\n",
      "32/32 [==============================] - 0s 1ms/step - loss: 463.1697\n",
      "Epoch 126/250\n",
      "32/32 [==============================] - 0s 1ms/step - loss: 442.7971\n",
      "Epoch 127/250\n",
      "32/32 [==============================] - 0s 1ms/step - loss: 423.7375\n",
      "Epoch 128/250\n",
      "32/32 [==============================] - 0s 1ms/step - loss: 405.7966\n",
      "Epoch 129/250\n",
      "32/32 [==============================] - 0s 1ms/step - loss: 387.4932\n",
      "Epoch 130/250\n",
      "32/32 [==============================] - 0s 1ms/step - loss: 369.0490\n",
      "Epoch 131/250\n",
      "32/32 [==============================] - 0s 1ms/step - loss: 353.1036\n",
      "Epoch 132/250\n",
      "32/32 [==============================] - 0s 1ms/step - loss: 333.4159\n",
      "Epoch 133/250\n",
      "32/32 [==============================] - 0s 1ms/step - loss: 316.0347\n",
      "Epoch 134/250\n",
      "32/32 [==============================] - 0s 1ms/step - loss: 297.7490\n",
      "Epoch 135/250\n",
      "32/32 [==============================] - 0s 1ms/step - loss: 278.7353\n",
      "Epoch 136/250\n",
      "32/32 [==============================] - 0s 1ms/step - loss: 263.7481\n",
      "Epoch 137/250\n",
      "32/32 [==============================] - 0s 1ms/step - loss: 248.2569\n",
      "Epoch 138/250\n",
      "32/32 [==============================] - 0s 1ms/step - loss: 233.7876\n",
      "Epoch 139/250\n",
      "32/32 [==============================] - 0s 1ms/step - loss: 219.3250\n",
      "Epoch 140/250\n",
      "32/32 [==============================] - 0s 1ms/step - loss: 205.1166\n",
      "Epoch 141/250\n",
      "32/32 [==============================] - 0s 1ms/step - loss: 193.4695\n",
      "Epoch 142/250\n",
      "32/32 [==============================] - 0s 1ms/step - loss: 181.9236\n",
      "Epoch 143/250\n",
      "32/32 [==============================] - 0s 1ms/step - loss: 170.7009\n",
      "Epoch 144/250\n",
      "32/32 [==============================] - 0s 1ms/step - loss: 158.6515\n",
      "Epoch 145/250\n",
      "32/32 [==============================] - 0s 894us/step - loss: 147.2457\n",
      "Epoch 146/250\n",
      "32/32 [==============================] - 0s 793us/step - loss: 137.1562\n",
      "Epoch 147/250\n",
      "32/32 [==============================] - 0s 726us/step - loss: 126.7943\n",
      "Epoch 148/250\n",
      "32/32 [==============================] - 0s 980us/step - loss: 119.3386\n",
      "Epoch 149/250\n",
      "32/32 [==============================] - 0s 1ms/step - loss: 110.7005\n",
      "Epoch 150/250\n",
      "32/32 [==============================] - 0s 2ms/step - loss: 102.8312\n",
      "Epoch 151/250\n",
      "32/32 [==============================] - 0s 1ms/step - loss: 94.4654\n",
      "Epoch 152/250\n",
      "32/32 [==============================] - 0s 1ms/step - loss: 86.4478\n",
      "Epoch 153/250\n",
      "32/32 [==============================] - 0s 1ms/step - loss: 80.1417\n",
      "Epoch 154/250\n",
      "32/32 [==============================] - 0s 1ms/step - loss: 73.9550\n",
      "Epoch 155/250\n",
      "32/32 [==============================] - 0s 1ms/step - loss: 68.3540\n",
      "Epoch 156/250\n",
      "32/32 [==============================] - 0s 1ms/step - loss: 63.0994\n",
      "Epoch 157/250\n",
      "32/32 [==============================] - 0s 1ms/step - loss: 58.0563\n",
      "Epoch 158/250\n",
      "32/32 [==============================] - 0s 1ms/step - loss: 54.0877\n",
      "Epoch 159/250\n",
      "32/32 [==============================] - 0s 1ms/step - loss: 50.1114\n",
      "Epoch 160/250\n",
      "32/32 [==============================] - 0s 2ms/step - loss: 46.6483\n",
      "Epoch 161/250\n",
      "32/32 [==============================] - 0s 1ms/step - loss: 42.6602\n",
      "Epoch 162/250\n",
      "32/32 [==============================] - 0s 2ms/step - loss: 39.9311\n",
      "Epoch 163/250\n",
      "32/32 [==============================] - 0s 1ms/step - loss: 37.5089\n",
      "Epoch 164/250\n",
      "32/32 [==============================] - 0s 1ms/step - loss: 35.5228\n",
      "Epoch 165/250\n",
      "32/32 [==============================] - 0s 1ms/step - loss: 33.7195\n",
      "Epoch 166/250\n",
      "32/32 [==============================] - 0s 1ms/step - loss: 32.2316\n",
      "Epoch 167/250\n",
      "32/32 [==============================] - 0s 1ms/step - loss: 30.7526\n",
      "Epoch 168/250\n",
      "32/32 [==============================] - 0s 1ms/step - loss: 29.5462\n",
      "Epoch 169/250\n",
      "32/32 [==============================] - 0s 1ms/step - loss: 28.6237\n",
      "Epoch 170/250\n",
      "32/32 [==============================] - 0s 1ms/step - loss: 27.9346\n",
      "Epoch 171/250\n",
      "32/32 [==============================] - 0s 2ms/step - loss: 27.1884\n",
      "Epoch 172/250\n",
      "32/32 [==============================] - 0s 1ms/step - loss: 26.5142\n",
      "Epoch 173/250\n",
      "32/32 [==============================] - 0s 1ms/step - loss: 26.2104\n",
      "Epoch 174/250\n",
      "32/32 [==============================] - 0s 1ms/step - loss: 26.3494\n",
      "Epoch 175/250\n",
      "32/32 [==============================] - 0s 1ms/step - loss: 25.6973\n",
      "Epoch 176/250\n",
      "32/32 [==============================] - 0s 1ms/step - loss: 25.7113\n",
      "Epoch 177/250\n",
      "32/32 [==============================] - 0s 1ms/step - loss: 25.2919\n",
      "Epoch 178/250\n",
      "32/32 [==============================] - 0s 1ms/step - loss: 25.0536\n",
      "Epoch 179/250\n",
      "32/32 [==============================] - 0s 1ms/step - loss: 25.2887\n",
      "Epoch 180/250\n",
      "32/32 [==============================] - 0s 1ms/step - loss: 24.9031\n",
      "Epoch 181/250\n",
      "32/32 [==============================] - 0s 1ms/step - loss: 25.1647\n",
      "Epoch 182/250\n",
      "32/32 [==============================] - 0s 1ms/step - loss: 24.8017\n",
      "Epoch 183/250\n",
      "32/32 [==============================] - 0s 1ms/step - loss: 24.8874\n",
      "Epoch 184/250\n",
      "32/32 [==============================] - 0s 1ms/step - loss: 24.5783\n",
      "Epoch 185/250\n",
      "32/32 [==============================] - 0s 2ms/step - loss: 24.6132\n",
      "Epoch 186/250\n",
      "32/32 [==============================] - 0s 2ms/step - loss: 24.8381\n",
      "Epoch 187/250\n",
      "32/32 [==============================] - 0s 2ms/step - loss: 24.6323\n",
      "Epoch 188/250\n",
      "32/32 [==============================] - 0s 2ms/step - loss: 24.6487\n",
      "Epoch 189/250\n",
      "32/32 [==============================] - 0s 2ms/step - loss: 24.7691\n",
      "Epoch 190/250\n",
      "32/32 [==============================] - 0s 2ms/step - loss: 24.5526\n",
      "Epoch 191/250\n",
      "32/32 [==============================] - 0s 1ms/step - loss: 24.5079\n",
      "Epoch 192/250\n",
      "32/32 [==============================] - 0s 1ms/step - loss: 24.6391\n",
      "Epoch 193/250\n",
      "32/32 [==============================] - 0s 1ms/step - loss: 24.7516\n",
      "Epoch 194/250\n",
      "32/32 [==============================] - 0s 2ms/step - loss: 24.5596\n",
      "Epoch 195/250\n"
     ]
    },
    {
     "name": "stdout",
     "output_type": "stream",
     "text": [
      "32/32 [==============================] - 0s 1ms/step - loss: 24.6082\n",
      "Epoch 196/250\n",
      "32/32 [==============================] - 0s 2ms/step - loss: 24.4544\n",
      "Epoch 197/250\n",
      "32/32 [==============================] - 0s 1ms/step - loss: 24.4980\n",
      "Epoch 198/250\n",
      "32/32 [==============================] - 0s 1ms/step - loss: 24.5070\n",
      "Epoch 199/250\n",
      "32/32 [==============================] - 0s 1ms/step - loss: 24.6121\n",
      "Epoch 200/250\n",
      "32/32 [==============================] - 0s 1ms/step - loss: 24.4865\n",
      "Epoch 201/250\n",
      "32/32 [==============================] - 0s 1ms/step - loss: 24.7005\n",
      "Epoch 202/250\n",
      "32/32 [==============================] - 0s 1ms/step - loss: 24.2867\n",
      "Epoch 203/250\n",
      "32/32 [==============================] - 0s 1ms/step - loss: 24.5060\n",
      "Epoch 204/250\n",
      "32/32 [==============================] - 0s 1ms/step - loss: 24.8055\n",
      "Epoch 205/250\n",
      "32/32 [==============================] - 0s 1ms/step - loss: 24.4893\n",
      "Epoch 206/250\n",
      "32/32 [==============================] - 0s 1ms/step - loss: 24.6166\n",
      "Epoch 207/250\n",
      "32/32 [==============================] - 0s 1ms/step - loss: 24.5780\n",
      "Epoch 208/250\n",
      "32/32 [==============================] - 0s 1ms/step - loss: 24.4453\n",
      "Epoch 209/250\n",
      "32/32 [==============================] - 0s 1ms/step - loss: 24.6432\n",
      "Epoch 210/250\n",
      "32/32 [==============================] - 0s 1ms/step - loss: 24.8130\n",
      "Epoch 211/250\n",
      "32/32 [==============================] - 0s 1ms/step - loss: 24.7397\n",
      "Epoch 212/250\n",
      "32/32 [==============================] - 0s 1ms/step - loss: 24.3734\n",
      "Epoch 213/250\n",
      "32/32 [==============================] - 0s 1ms/step - loss: 24.6594\n",
      "Epoch 214/250\n",
      "32/32 [==============================] - 0s 1ms/step - loss: 24.5435\n",
      "Epoch 215/250\n",
      "32/32 [==============================] - 0s 1ms/step - loss: 24.4577\n",
      "Epoch 216/250\n",
      "32/32 [==============================] - 0s 1ms/step - loss: 24.5595\n",
      "Epoch 217/250\n",
      "32/32 [==============================] - 0s 1ms/step - loss: 24.5055\n",
      "Epoch 218/250\n",
      "32/32 [==============================] - 0s 1ms/step - loss: 24.5399\n",
      "Epoch 219/250\n",
      "32/32 [==============================] - 0s 1ms/step - loss: 24.5871\n",
      "Epoch 220/250\n",
      "32/32 [==============================] - 0s 1ms/step - loss: 24.5000\n",
      "Epoch 221/250\n",
      "32/32 [==============================] - 0s 1ms/step - loss: 24.6634\n",
      "Epoch 222/250\n",
      "32/32 [==============================] - 0s 1ms/step - loss: 24.6882\n",
      "Epoch 223/250\n",
      "32/32 [==============================] - 0s 1ms/step - loss: 24.4311\n",
      "Epoch 224/250\n",
      "32/32 [==============================] - 0s 1ms/step - loss: 24.4417\n",
      "Epoch 225/250\n",
      "32/32 [==============================] - 0s 1ms/step - loss: 24.3795\n",
      "Epoch 226/250\n",
      "32/32 [==============================] - 0s 1ms/step - loss: 24.4426\n",
      "Epoch 227/250\n",
      "32/32 [==============================] - 0s 1ms/step - loss: 24.4953\n",
      "Epoch 228/250\n",
      "32/32 [==============================] - 0s 1ms/step - loss: 24.6661\n",
      "Epoch 229/250\n",
      "32/32 [==============================] - 0s 1ms/step - loss: 24.6084\n",
      "Epoch 230/250\n",
      "32/32 [==============================] - 0s 1ms/step - loss: 24.5590\n",
      "Epoch 231/250\n",
      "32/32 [==============================] - 0s 2ms/step - loss: 24.1285\n",
      "Epoch 232/250\n",
      "32/32 [==============================] - 0s 1ms/step - loss: 24.5252\n",
      "Epoch 233/250\n",
      "32/32 [==============================] - 0s 1ms/step - loss: 24.4272\n",
      "Epoch 234/250\n",
      "32/32 [==============================] - 0s 1ms/step - loss: 24.5317\n",
      "Epoch 235/250\n",
      "32/32 [==============================] - 0s 1ms/step - loss: 24.3954\n",
      "Epoch 236/250\n",
      "32/32 [==============================] - 0s 1ms/step - loss: 24.7514\n",
      "Epoch 237/250\n",
      "32/32 [==============================] - 0s 1ms/step - loss: 24.5961\n",
      "Epoch 238/250\n",
      "32/32 [==============================] - 0s 1ms/step - loss: 24.4974\n",
      "Epoch 239/250\n",
      "32/32 [==============================] - 0s 1ms/step - loss: 24.4170\n",
      "Epoch 240/250\n",
      "32/32 [==============================] - 0s 2ms/step - loss: 24.5852\n",
      "Epoch 241/250\n",
      "32/32 [==============================] - 0s 2ms/step - loss: 24.5031\n",
      "Epoch 242/250\n",
      "32/32 [==============================] - 0s 2ms/step - loss: 24.6226\n",
      "Epoch 243/250\n",
      "32/32 [==============================] - 0s 1ms/step - loss: 24.3384\n",
      "Epoch 244/250\n",
      "32/32 [==============================] - 0s 1ms/step - loss: 24.3585\n",
      "Epoch 245/250\n",
      "32/32 [==============================] - 0s 1ms/step - loss: 24.3539\n",
      "Epoch 246/250\n",
      "32/32 [==============================] - 0s 1ms/step - loss: 24.5685\n",
      "Epoch 247/250\n",
      "32/32 [==============================] - 0s 1ms/step - loss: 24.3319\n",
      "Epoch 248/250\n",
      "32/32 [==============================] - 0s 1ms/step - loss: 24.5733\n",
      "Epoch 249/250\n",
      "32/32 [==============================] - 0s 2ms/step - loss: 24.4199\n",
      "Epoch 250/250\n",
      "32/32 [==============================] - 0s 1ms/step - loss: 24.5807\n"
     ]
    },
    {
     "data": {
      "text/plain": [
       "<keras.callbacks.History at 0x1da9f112a30>"
      ]
     },
     "execution_count": 76,
     "metadata": {},
     "output_type": "execute_result"
    }
   ],
   "source": [
    "final_model = Sequential()\n",
    "\n",
    "final_model.add(Dense(units = 4, activation = \"relu\"))     # input_dim = 2 or input_dim = X_train.shape[1]\n",
    "final_model.add(Dense(units = 4, activation = \"relu\"))\n",
    "final_model.add(Dense(units = 4, activation = \"relu\"))\n",
    "final_model.add(Dense(1))\n",
    "\n",
    "final_model.compile(optimizer = \"rmsprop\", loss = \"mse\")\n",
    "\n",
    "final_model.fit(x = X_scaled, y = y, batch_size = 32, epochs = 250)\n",
    "\n",
    "# input_dim = 2 or input_dim = X_train.shape[1] : Bunu kullanmazsam final_model.summary() dediğimde hata verir\n",
    "# .. ama fit yapıp sonra final_model.summary() yaparsam hata vermez çünkü fit kısmında \"X_scaled\" dan input size ı görüyor\n",
    "# .. o yüzden input_dim = 2 or input_dim = X_train.shape[1] yazmadık"
   ]
  },
  {
   "cell_type": "code",
   "execution_count": 77,
   "metadata": {
    "ExecuteTime": {
     "end_time": "2022-09-30T14:10:31.637240Z",
     "start_time": "2022-09-30T14:10:31.609080Z"
    }
   },
   "outputs": [
    {
     "name": "stdout",
     "output_type": "stream",
     "text": [
      "Model: \"sequential_4\"\n",
      "_________________________________________________________________\n",
      " Layer (type)                Output Shape              Param #   \n",
      "=================================================================\n",
      " dense_12 (Dense)            (None, 4)                 12        \n",
      "                                                                 \n",
      " dense_13 (Dense)            (None, 4)                 20        \n",
      "                                                                 \n",
      " dense_14 (Dense)            (None, 4)                 20        \n",
      "                                                                 \n",
      " dense_15 (Dense)            (None, 1)                 5         \n",
      "                                                                 \n",
      "=================================================================\n",
      "Total params: 57\n",
      "Trainable params: 57\n",
      "Non-trainable params: 0\n",
      "_________________________________________________________________\n"
     ]
    }
   ],
   "source": [
    "final_model.summary()"
   ]
  },
  {
   "cell_type": "markdown",
   "metadata": {},
   "source": [
    "### Saving a Model"
   ]
  },
  {
   "cell_type": "markdown",
   "metadata": {},
   "source": [
    "You can save a TensorFlow/Keras model using [`model.save()`](https://www.tensorflow.org/tutorials/keras/save_and_load#save_the_entire_model).\n",
    "\n",
    "Keras saves models by inspecting their architectures. This technique saves everything:\n",
    "\n",
    "- The weight values\n",
    "- The model's architecture\n",
    "- The model's training configuration (what you pass to the .compile() method)\n",
    "- The optimizer and its state, if any (this enables you to restart training where you left off)\n",
    "\n",
    "There are two ways to save a model in TensorFlow:\n",
    "1. The [SavedModel format](https://www.tensorflow.org/tutorials/keras/save_and_load#savedmodel_format) (default).\n",
    "2. The [HDF5 format](https://www.tensorflow.org/tutorials/keras/save_and_load#hdf5_format).\n",
    "\n"
   ]
  },
  {
   "cell_type": "code",
   "execution_count": 78,
   "metadata": {
    "ExecuteTime": {
     "end_time": "2022-09-30T14:11:08.392999Z",
     "start_time": "2022-09-30T14:11:08.305121Z"
    }
   },
   "outputs": [],
   "source": [
    "final_model.save(\"model_fake_reg.h5\")"
   ]
  },
  {
   "cell_type": "code",
   "execution_count": null,
   "metadata": {},
   "outputs": [],
   "source": [
    "# Loading Model"
   ]
  },
  {
   "cell_type": "code",
   "execution_count": 79,
   "metadata": {
    "ExecuteTime": {
     "end_time": "2022-09-30T14:11:36.409243Z",
     "start_time": "2022-09-30T14:11:36.392139Z"
    }
   },
   "outputs": [],
   "source": [
    "from tensorflow.keras.models import load_model"
   ]
  },
  {
   "cell_type": "code",
   "execution_count": 80,
   "metadata": {
    "ExecuteTime": {
     "end_time": "2022-09-30T14:11:51.874300Z",
     "start_time": "2022-09-30T14:11:51.768278Z"
    }
   },
   "outputs": [],
   "source": [
    "model_fake_reg = load_model(\"model_fake_reg.h5\")"
   ]
  },
  {
   "cell_type": "code",
   "execution_count": 82,
   "metadata": {
    "ExecuteTime": {
     "end_time": "2022-09-30T14:12:40.903630Z",
     "start_time": "2022-09-30T14:12:40.897447Z"
    }
   },
   "outputs": [],
   "source": [
    "scaler_fake_reg = pickle.load(open(\"scaler_fake_reg\",\"rb\"))"
   ]
  },
  {
   "cell_type": "markdown",
   "metadata": {},
   "source": [
    "## Prediction-1"
   ]
  },
  {
   "cell_type": "code",
   "execution_count": 83,
   "metadata": {
    "ExecuteTime": {
     "end_time": "2022-09-30T14:12:46.114202Z",
     "start_time": "2022-09-30T14:12:46.104532Z"
    }
   },
   "outputs": [],
   "source": [
    "sample = [[998, 1000]]"
   ]
  },
  {
   "cell_type": "code",
   "execution_count": 84,
   "metadata": {
    "ExecuteTime": {
     "end_time": "2022-09-30T14:12:51.042957Z",
     "start_time": "2022-09-30T14:12:51.031849Z"
    }
   },
   "outputs": [],
   "source": [
    "sample_scaled = scaler_fake_reg.transform(sample)"
   ]
  },
  {
   "cell_type": "code",
   "execution_count": 85,
   "metadata": {
    "ExecuteTime": {
     "end_time": "2022-09-30T14:12:53.359667Z",
     "start_time": "2022-09-30T14:12:53.208685Z"
    }
   },
   "outputs": [
    {
     "name": "stdout",
     "output_type": "stream",
     "text": [
      "1/1 [==============================] - 0s 81ms/step\n"
     ]
    },
    {
     "data": {
      "text/plain": [
       "array([[419.3444]], dtype=float32)"
      ]
     },
     "execution_count": 85,
     "metadata": {},
     "output_type": "execute_result"
    }
   ],
   "source": [
    "model_fake_reg.predict(sample_scaled)"
   ]
  },
  {
   "cell_type": "markdown",
   "metadata": {},
   "source": [
    "## Prediction-2"
   ]
  },
  {
   "cell_type": "code",
   "execution_count": 86,
   "metadata": {
    "ExecuteTime": {
     "end_time": "2022-09-30T14:12:55.923023Z",
     "start_time": "2022-09-30T14:12:55.912705Z"
    }
   },
   "outputs": [],
   "source": [
    "my_dict = {\"Feature1\": [997, 998, 999, 1000, 1001],\n",
    "           \"Feature2\": [1000, 999, 998, 997, 996]}"
   ]
  },
  {
   "cell_type": "code",
   "execution_count": 87,
   "metadata": {
    "ExecuteTime": {
     "end_time": "2022-09-30T14:12:56.748903Z",
     "start_time": "2022-09-30T14:12:56.729674Z"
    }
   },
   "outputs": [
    {
     "data": {
      "text/html": [
       "<div>\n",
       "<style scoped>\n",
       "    .dataframe tbody tr th:only-of-type {\n",
       "        vertical-align: middle;\n",
       "    }\n",
       "\n",
       "    .dataframe tbody tr th {\n",
       "        vertical-align: top;\n",
       "    }\n",
       "\n",
       "    .dataframe thead th {\n",
       "        text-align: right;\n",
       "    }\n",
       "</style>\n",
       "<table border=\"1\" class=\"dataframe\">\n",
       "  <thead>\n",
       "    <tr style=\"text-align: right;\">\n",
       "      <th></th>\n",
       "      <th>Feature1</th>\n",
       "      <th>Feature2</th>\n",
       "    </tr>\n",
       "  </thead>\n",
       "  <tbody>\n",
       "    <tr>\n",
       "      <th>0</th>\n",
       "      <td>997</td>\n",
       "      <td>1000</td>\n",
       "    </tr>\n",
       "    <tr>\n",
       "      <th>1</th>\n",
       "      <td>998</td>\n",
       "      <td>999</td>\n",
       "    </tr>\n",
       "    <tr>\n",
       "      <th>2</th>\n",
       "      <td>999</td>\n",
       "      <td>998</td>\n",
       "    </tr>\n",
       "    <tr>\n",
       "      <th>3</th>\n",
       "      <td>1000</td>\n",
       "      <td>997</td>\n",
       "    </tr>\n",
       "    <tr>\n",
       "      <th>4</th>\n",
       "      <td>1001</td>\n",
       "      <td>996</td>\n",
       "    </tr>\n",
       "  </tbody>\n",
       "</table>\n",
       "</div>"
      ],
      "text/plain": [
       "   Feature1  Feature2\n",
       "0       997      1000\n",
       "1       998       999\n",
       "2       999       998\n",
       "3      1000       997\n",
       "4      1001       996"
      ]
     },
     "execution_count": 87,
     "metadata": {},
     "output_type": "execute_result"
    }
   ],
   "source": [
    "sample = pd.DataFrame(my_dict)\n",
    "sample"
   ]
  },
  {
   "cell_type": "code",
   "execution_count": 88,
   "metadata": {
    "ExecuteTime": {
     "end_time": "2022-09-30T14:13:00.347055Z",
     "start_time": "2022-09-30T14:13:00.336741Z"
    }
   },
   "outputs": [
    {
     "data": {
      "text/plain": [
       "array([[-0.00948799,  0.52980619],\n",
       "       [ 0.15312457,  0.35345977],\n",
       "       [ 0.31573713,  0.17711336],\n",
       "       [ 0.47834969,  0.00076694],\n",
       "       [ 0.64096225, -0.17557948]])"
      ]
     },
     "execution_count": 88,
     "metadata": {},
     "output_type": "execute_result"
    }
   ],
   "source": [
    "sample_scaled = scaler_fake_reg.transform(sample)\n",
    "sample_scaled"
   ]
  },
  {
   "cell_type": "code",
   "execution_count": 89,
   "metadata": {
    "ExecuteTime": {
     "end_time": "2022-09-30T14:13:01.509557Z",
     "start_time": "2022-09-30T14:13:01.408429Z"
    }
   },
   "outputs": [
    {
     "name": "stdout",
     "output_type": "stream",
     "text": [
      "1/1 [==============================] - 0s 25ms/step\n"
     ]
    },
    {
     "data": {
      "text/plain": [
       "array([[379.226  ],\n",
       "       [330.87784],\n",
       "       [282.52072],\n",
       "       [234.16364],\n",
       "       [185.80652]], dtype=float32)"
      ]
     },
     "execution_count": 89,
     "metadata": {},
     "output_type": "execute_result"
    }
   ],
   "source": [
    "model_fake_reg.predict(sample_scaled)"
   ]
  },
  {
   "cell_type": "markdown",
   "metadata": {},
   "source": [
    "___\n",
    "\n",
    "<p style=\"text-align: center;\"><img src=\"https://docs.google.com/uc?id=1lY0Uj5R04yMY3-ZppPWxqCr5pvBLYPnV\" class=\"img-fluid\" alt=\"CLRSWY\"></p>\n",
    "\n",
    "___"
   ]
  },
  {
   "cell_type": "code",
   "execution_count": null,
   "metadata": {},
   "outputs": [],
   "source": []
  }
 ],
 "metadata": {
  "hide_input": false,
  "interpreter": {
   "hash": "aee8b7b246df8f9039afb4144a1f6fd8d2ca17a180786b69acc140d282b71a49"
  },
  "kernelspec": {
   "display_name": "Python 3 (ipykernel)",
   "language": "python",
   "name": "python3"
  },
  "language_info": {
   "codemirror_mode": {
    "name": "ipython",
    "version": 3
   },
   "file_extension": ".py",
   "mimetype": "text/x-python",
   "name": "python",
   "nbconvert_exporter": "python",
   "pygments_lexer": "ipython3",
   "version": "3.9.12"
  },
  "toc": {
   "base_numbering": 1,
   "nav_menu": {},
   "number_sections": false,
   "sideBar": true,
   "skip_h1_title": false,
   "title_cell": "Table of Contents",
   "title_sidebar": "Contents",
   "toc_cell": false,
   "toc_position": {
    "height": "calc(100% - 180px)",
    "left": "10px",
    "top": "150px",
    "width": "300.099px"
   },
   "toc_section_display": true,
   "toc_window_display": false
  }
 },
 "nbformat": 4,
 "nbformat_minor": 4
}
