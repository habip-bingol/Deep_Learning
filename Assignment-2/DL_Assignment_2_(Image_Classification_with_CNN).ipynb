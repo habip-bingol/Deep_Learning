{
 "cells": [
  {
   "cell_type": "markdown",
   "metadata": {
    "id": "jlEZDjJjyJlT"
   },
   "source": [
    "___\n",
    "\n",
    "<p style=\"text-align: center;\"><img src=\"https://docs.google.com/uc?id=1lY0Uj5R04yMY3-ZppPWxqCr5pvBLYPnV\" class=\"img-fluid\" alt=\"CLRSWY\"></p>\n",
    "\n",
    "___"
   ]
  },
  {
   "cell_type": "markdown",
   "metadata": {
    "id": "Vv2jdJY6yJlW"
   },
   "source": [
    "<h1 style=\"text-align: center;\">Deep Learning<br><br>Assignment-2 (CNN)<br><br>Image Classification with CNN<br><h1>"
   ]
  },
  {
   "cell_type": "markdown",
   "metadata": {
    "id": "vfzmHy69yJlY"
   },
   "source": [
    "# Task and Dataset Info\n",
    "\n",
    "Welcome to second assignment of Deep learning lesson. Follow the instructions and complete the assignment.\n",
    "\n",
    "**Build an image classifier with Convolutional Neural Networks for the Fashion MNIST dataset. This data set includes 10 labels of different clothing types with 28 by 28 *grayscale* images. There is a training set of 60,000 images and 10,000 test images.**\n",
    "\n",
    "    Label\tDescription\n",
    "    0\t    T-shirt/top\n",
    "    1\t    Trouser\n",
    "    2\t    Pullover\n",
    "    3\t    Dress\n",
    "    4\t    Coat\n",
    "    5\t    Sandal\n",
    "    6\t    Shirt\n",
    "    7\t    Sneaker\n",
    "    8\t    Bag\n",
    "    9\t    Ankle boot"
   ]
  },
  {
   "cell_type": "markdown",
   "metadata": {
    "id": "bupSE6p7yJlZ"
   },
   "source": [
    "# Import Libraries"
   ]
  },
  {
   "cell_type": "code",
   "execution_count": 1,
   "metadata": {
    "ExecuteTime": {
     "end_time": "2022-10-11T20:49:55.553361Z",
     "start_time": "2022-10-11T20:49:54.433358Z"
    },
    "id": "47ar5-N6yJla"
   },
   "outputs": [],
   "source": [
    "import numpy as np \n",
    "import pandas as pd\n",
    "import matplotlib.pyplot as plt\n",
    "import seaborn as sns\n",
    "\n",
    "import warnings\n",
    "warnings.filterwarnings(\"ignore\")\n",
    "warnings.warn(\"this will not show\")\n",
    "\n",
    "plt.rcParams[\"figure.figsize\"] = (10,6)\n",
    "\n",
    "sns.set_style(\"whitegrid\")\n",
    "pd.set_option(\"display.float_format\", lambda x:\"%.3f\" % x)\n",
    "\n",
    "pd.set_option(\"display.max_column\", None)"
   ]
  },
  {
   "cell_type": "code",
   "execution_count": 3,
   "metadata": {
    "ExecuteTime": {
     "end_time": "2022-10-11T20:50:07.515776Z",
     "start_time": "2022-10-11T20:50:07.505884Z"
    },
    "colab": {
     "base_uri": "https://localhost:8080/"
    },
    "id": "Ev_FMpgVzwGj",
    "outputId": "9ba8b79c-f1bb-469a-dba6-754664825b9f"
   },
   "outputs": [],
   "source": [
    "\n",
    "# import tensorflow as tf\n",
    "\n",
    "# tf.config.list_physical_devices(\"GPU\")"
   ]
  },
  {
   "cell_type": "markdown",
   "metadata": {
    "id": "9GVi6SkIyJlb"
   },
   "source": [
    "# Recognizing and Understanding Data\n",
    "\n",
    "**TASK 1: Run the code below to download the dataset using Keras.**"
   ]
  },
  {
   "cell_type": "code",
   "execution_count": 4,
   "metadata": {
    "ExecuteTime": {
     "end_time": "2022-10-11T20:50:10.606163Z",
     "start_time": "2022-10-11T20:50:10.144115Z"
    },
    "id": "RQlR7VhoyJlc"
   },
   "outputs": [],
   "source": [
    "from tensorflow.keras.datasets import fashion_mnist\n",
    "\n",
    "(X_train, y_train), (X_test, y_test) = fashion_mnist.load_data()"
   ]
  },
  {
   "cell_type": "code",
   "execution_count": 5,
   "metadata": {
    "ExecuteTime": {
     "end_time": "2022-10-11T20:50:12.115232Z",
     "start_time": "2022-10-11T20:50:12.105201Z"
    },
    "colab": {
     "base_uri": "https://localhost:8080/"
    },
    "id": "pL3xsfag154j",
    "outputId": "27ca8672-d03d-4a58-c5a8-144cad1070dd"
   },
   "outputs": [
    {
     "name": "stdout",
     "output_type": "stream",
     "text": [
      "There are  60000 images in the training dataset\n",
      "There are  10000 images in the test dataset\n"
     ]
    }
   ],
   "source": [
    "print(\"There are \", len(X_train), \"images in the training dataset\")     \n",
    "print(\"There are \", len(X_test), \"images in the test dataset\")"
   ]
  },
  {
   "cell_type": "code",
   "execution_count": 6,
   "metadata": {
    "ExecuteTime": {
     "end_time": "2022-10-11T20:50:14.999371Z",
     "start_time": "2022-10-11T20:50:14.984952Z"
    },
    "colab": {
     "base_uri": "https://localhost:8080/"
    },
    "id": "UUjuMCnsyJld",
    "outputId": "22122afd-468b-440b-b215-c134d8adf38f"
   },
   "outputs": [
    {
     "data": {
      "text/plain": [
       "array([[[0, 0, 0, ..., 0, 0, 0],\n",
       "        [0, 0, 0, ..., 0, 0, 0],\n",
       "        [0, 0, 0, ..., 0, 0, 0],\n",
       "        ...,\n",
       "        [0, 0, 0, ..., 0, 0, 0],\n",
       "        [0, 0, 0, ..., 0, 0, 0],\n",
       "        [0, 0, 0, ..., 0, 0, 0]],\n",
       "\n",
       "       [[0, 0, 0, ..., 0, 0, 0],\n",
       "        [0, 0, 0, ..., 0, 0, 0],\n",
       "        [0, 0, 0, ..., 0, 0, 0],\n",
       "        ...,\n",
       "        [0, 0, 0, ..., 0, 0, 0],\n",
       "        [0, 0, 0, ..., 0, 0, 0],\n",
       "        [0, 0, 0, ..., 0, 0, 0]],\n",
       "\n",
       "       [[0, 0, 0, ..., 0, 0, 0],\n",
       "        [0, 0, 0, ..., 0, 0, 0],\n",
       "        [0, 0, 0, ..., 0, 0, 0],\n",
       "        ...,\n",
       "        [0, 0, 0, ..., 0, 0, 0],\n",
       "        [0, 0, 0, ..., 0, 0, 0],\n",
       "        [0, 0, 0, ..., 0, 0, 0]],\n",
       "\n",
       "       ...,\n",
       "\n",
       "       [[0, 0, 0, ..., 0, 0, 0],\n",
       "        [0, 0, 0, ..., 0, 0, 0],\n",
       "        [0, 0, 0, ..., 0, 0, 0],\n",
       "        ...,\n",
       "        [0, 0, 0, ..., 0, 0, 0],\n",
       "        [0, 0, 0, ..., 0, 0, 0],\n",
       "        [0, 0, 0, ..., 0, 0, 0]],\n",
       "\n",
       "       [[0, 0, 0, ..., 0, 0, 0],\n",
       "        [0, 0, 0, ..., 0, 0, 0],\n",
       "        [0, 0, 0, ..., 0, 0, 0],\n",
       "        ...,\n",
       "        [0, 0, 0, ..., 0, 0, 0],\n",
       "        [0, 0, 0, ..., 0, 0, 0],\n",
       "        [0, 0, 0, ..., 0, 0, 0]],\n",
       "\n",
       "       [[0, 0, 0, ..., 0, 0, 0],\n",
       "        [0, 0, 0, ..., 0, 0, 0],\n",
       "        [0, 0, 0, ..., 0, 0, 0],\n",
       "        ...,\n",
       "        [0, 0, 0, ..., 0, 0, 0],\n",
       "        [0, 0, 0, ..., 0, 0, 0],\n",
       "        [0, 0, 0, ..., 0, 0, 0]]], dtype=uint8)"
      ]
     },
     "execution_count": 6,
     "metadata": {},
     "output_type": "execute_result"
    }
   ],
   "source": [
    "X_train"
   ]
  },
  {
   "cell_type": "code",
   "execution_count": 7,
   "metadata": {
    "ExecuteTime": {
     "end_time": "2022-10-11T20:50:15.786945Z",
     "start_time": "2022-10-11T20:50:15.600432Z"
    },
    "colab": {
     "base_uri": "https://localhost:8080/",
     "height": 391
    },
    "id": "ghofl_tRyJle",
    "outputId": "a9629566-3d22-448b-81ea-68d58380a0fb"
   },
   "outputs": [
    {
     "data": {
      "text/plain": [
       "<matplotlib.image.AxesImage at 0x1af93da38d0>"
      ]
     },
     "execution_count": 7,
     "metadata": {},
     "output_type": "execute_result"
    },
    {
     "data": {
      "image/png": "[encoded data removed]",
      "text/plain": [
       "<Figure size 720x432 with 1 Axes>"
      ]
     },
     "metadata": {},
     "output_type": "display_data"
    }
   ],
   "source": [
    "plt.imshow(X_train[0])"
   ]
  },
  {
   "cell_type": "code",
   "execution_count": 8,
   "metadata": {
    "ExecuteTime": {
     "end_time": "2022-10-11T20:50:16.404869Z",
     "start_time": "2022-10-11T20:50:16.385561Z"
    },
    "colab": {
     "base_uri": "https://localhost:8080/"
    },
    "id": "g1eRGAxZ04uk",
    "outputId": "34397fdb-982e-44c9-bb7d-80442fc06d51"
   },
   "outputs": [
    {
     "data": {
      "text/plain": [
       "9"
      ]
     },
     "execution_count": 8,
     "metadata": {},
     "output_type": "execute_result"
    }
   ],
   "source": [
    "y_train[0]"
   ]
  },
  {
   "cell_type": "code",
   "execution_count": 9,
   "metadata": {
    "ExecuteTime": {
     "end_time": "2022-10-11T20:50:16.888016Z",
     "start_time": "2022-10-11T20:50:16.873708Z"
    },
    "colab": {
     "base_uri": "https://localhost:8080/"
    },
    "id": "VIUzeSAr04_d",
    "outputId": "323a6f5f-bfae-424f-dc20-47640d3f9ab4"
   },
   "outputs": [
    {
     "data": {
      "text/plain": [
       "(28, 28)"
      ]
     },
     "execution_count": 9,
     "metadata": {},
     "output_type": "execute_result"
    }
   ],
   "source": [
    "X_train[5].shape"
   ]
  },
  {
   "cell_type": "markdown",
   "metadata": {
    "id": "TUB9BrC2yJle"
   },
   "source": [
    "**TASK 2: Use matplotlib to view an image from the data set. It can be any image from the data set.**"
   ]
  },
  {
   "cell_type": "code",
   "execution_count": 10,
   "metadata": {
    "ExecuteTime": {
     "end_time": "2022-10-11T20:50:17.490733Z",
     "start_time": "2022-10-11T20:50:17.472097Z"
    },
    "id": "sv_rEBtGyJlf"
   },
   "outputs": [],
   "source": [
    "classes=[\"T-shirt/top\", \"Trouser\",\"Pullover\",\"Dress\",\"Coat\",\"Sandal\",\"Shirt\",\"Sneaker\",\"Bag\",\"Ankle boot\"]"
   ]
  },
  {
   "cell_type": "code",
   "execution_count": 11,
   "metadata": {
    "ExecuteTime": {
     "end_time": "2022-10-11T20:50:17.709335Z",
     "start_time": "2022-10-11T20:50:17.705339Z"
    },
    "colab": {
     "base_uri": "https://localhost:8080/",
     "height": 35
    },
    "id": "5nPFwl9nyJlf",
    "outputId": "fbcb5a19-9186-43aa-b44b-8c1996663e2e"
   },
   "outputs": [
    {
     "data": {
      "text/plain": [
       "'Ankle boot'"
      ]
     },
     "execution_count": 11,
     "metadata": {},
     "output_type": "execute_result"
    }
   ],
   "source": [
    "classes[y_train[0]]"
   ]
  },
  {
   "cell_type": "code",
   "execution_count": 12,
   "metadata": {
    "ExecuteTime": {
     "end_time": "2022-10-11T20:50:22.040659Z",
     "start_time": "2022-10-11T20:50:18.088451Z"
    },
    "colab": {
     "base_uri": "https://localhost:8080/",
     "height": 857
    },
    "id": "oOO5-S3MyJlf",
    "outputId": "d597ae39-e433-4220-d388-a18b50ad5fa4"
   },
   "outputs": [
    {
     "data": {
      "image/png": "[encoded data removed]",
      "text/plain": [
       "<Figure size 1440x1440 with 64 Axes>"
      ]
     },
     "metadata": {},
     "output_type": "display_data"
    }
   ],
   "source": [
    "plt.figure(figsize=(20,20))\n",
    "for i in range(64):\n",
    "  rand_index = int(np.random.randint(low=0, high=60000, size=1)) \n",
    "  plt.subplot(8,8,i+1)\n",
    "  plt.axis(\"off\")\n",
    "  plt.title(classes[int(y_train[rand_index])])\n",
    "  plt.imshow(X_train[rand_index])"
   ]
  },
  {
   "cell_type": "markdown",
   "metadata": {
    "id": "rJv19Fx4yJlg"
   },
   "source": [
    "# Data Preprocessing\n",
    "\n",
    "**TASK 3: Normalize the X train and X test data by dividing by the max value of the image arrays.**"
   ]
  },
  {
   "cell_type": "code",
   "execution_count": 13,
   "metadata": {
    "ExecuteTime": {
     "end_time": "2022-10-11T20:50:22.055863Z",
     "start_time": "2022-10-11T20:50:22.042039Z"
    },
    "colab": {
     "base_uri": "https://localhost:8080/"
    },
    "id": "mx8QZvcOyJlg",
    "outputId": "edeca25b-face-4498-8c87-9a87bf5ab7d5"
   },
   "outputs": [
    {
     "data": {
      "text/plain": [
       "0"
      ]
     },
     "execution_count": 13,
     "metadata": {},
     "output_type": "execute_result"
    }
   ],
   "source": [
    "X_train[0].min()"
   ]
  },
  {
   "cell_type": "code",
   "execution_count": 14,
   "metadata": {
    "ExecuteTime": {
     "end_time": "2022-10-11T20:50:22.070833Z",
     "start_time": "2022-10-11T20:50:22.058299Z"
    },
    "colab": {
     "base_uri": "https://localhost:8080/"
    },
    "id": "jBGPn4K-yJlh",
    "outputId": "b3c8e1fc-5db9-441c-96ad-fe4683cd50f1"
   },
   "outputs": [
    {
     "data": {
      "text/plain": [
       "255"
      ]
     },
     "execution_count": 14,
     "metadata": {},
     "output_type": "execute_result"
    }
   ],
   "source": [
    "X_train[0].max()"
   ]
  },
  {
   "cell_type": "code",
   "execution_count": 15,
   "metadata": {
    "ExecuteTime": {
     "end_time": "2022-10-11T20:50:22.195242Z",
     "start_time": "2022-10-11T20:50:22.071837Z"
    },
    "id": "DIUOqV-H4TpX"
   },
   "outputs": [],
   "source": [
    "# Normalize image pixels\n",
    "\n",
    "X_train = X_train.astype(\"float32\")\n",
    "X_test = X_test.astype(\"float32\")\n",
    "\n",
    "X_train /= 255\n",
    "X_test /= 255"
   ]
  },
  {
   "cell_type": "code",
   "execution_count": 16,
   "metadata": {
    "ExecuteTime": {
     "end_time": "2022-10-11T20:50:22.210707Z",
     "start_time": "2022-10-11T20:50:22.196241Z"
    },
    "colab": {
     "base_uri": "https://localhost:8080/"
    },
    "id": "6Y9pVfh-5dJA",
    "outputId": "ab5a524b-b9f2-4d86-8604-e9128d469df7"
   },
   "outputs": [
    {
     "data": {
      "text/plain": [
       "0.0"
      ]
     },
     "execution_count": 16,
     "metadata": {},
     "output_type": "execute_result"
    }
   ],
   "source": [
    "X_train[0].min()"
   ]
  },
  {
   "cell_type": "code",
   "execution_count": 17,
   "metadata": {
    "ExecuteTime": {
     "end_time": "2022-10-11T20:50:26.452335Z",
     "start_time": "2022-10-11T20:50:26.434777Z"
    },
    "colab": {
     "base_uri": "https://localhost:8080/"
    },
    "id": "eZiyW0Kb5fYP",
    "outputId": "16ef41ab-fbea-4919-bc7f-d2b1ee1d4a8e"
   },
   "outputs": [
    {
     "data": {
      "text/plain": [
       "1.0"
      ]
     },
     "execution_count": 17,
     "metadata": {},
     "output_type": "execute_result"
    }
   ],
   "source": [
    "X_train[0].max()"
   ]
  },
  {
   "cell_type": "code",
   "execution_count": 18,
   "metadata": {
    "ExecuteTime": {
     "end_time": "2022-10-11T20:50:26.747663Z",
     "start_time": "2022-10-11T20:50:26.600458Z"
    },
    "colab": {
     "base_uri": "https://localhost:8080/",
     "height": 391
    },
    "id": "R4u-c0ce6VD-",
    "outputId": "7840e4ad-e105-4e92-d670-2d44233d39ef"
   },
   "outputs": [
    {
     "data": {
      "text/plain": [
       "<matplotlib.image.AxesImage at 0x1af96218eb8>"
      ]
     },
     "execution_count": 18,
     "metadata": {},
     "output_type": "execute_result"
    },
    {
     "data": {
      "image/png": "[encoded data removed]",
      "text/plain": [
       "<Figure size 720x432 with 1 Axes>"
      ]
     },
     "metadata": {},
     "output_type": "display_data"
    }
   ],
   "source": [
    "plt.imshow(X_train[0])"
   ]
  },
  {
   "cell_type": "code",
   "execution_count": 19,
   "metadata": {
    "ExecuteTime": {
     "end_time": "2022-10-11T20:50:26.763735Z",
     "start_time": "2022-10-11T20:50:26.753209Z"
    },
    "colab": {
     "base_uri": "https://localhost:8080/"
    },
    "id": "6stl7WnU5tL2",
    "outputId": "533f3cf9-997d-45c6-899c-c6b1ee8978e4"
   },
   "outputs": [
    {
     "data": {
      "text/plain": [
       "array([9, 0, 0, ..., 3, 0, 5], dtype=uint8)"
      ]
     },
     "execution_count": 19,
     "metadata": {},
     "output_type": "execute_result"
    }
   ],
   "source": [
    "y_train"
   ]
  },
  {
   "cell_type": "code",
   "execution_count": 20,
   "metadata": {
    "ExecuteTime": {
     "end_time": "2022-10-11T20:50:26.920836Z",
     "start_time": "2022-10-11T20:50:26.903534Z"
    },
    "colab": {
     "base_uri": "https://localhost:8080/"
    },
    "id": "9J-A7_VL51gb",
    "outputId": "a356f80d-16c5-47ab-80f9-2fdf7a9db0bb"
   },
   "outputs": [
    {
     "data": {
      "text/plain": [
       "9    6000\n",
       "8    6000\n",
       "7    6000\n",
       "6    6000\n",
       "5    6000\n",
       "4    6000\n",
       "3    6000\n",
       "2    6000\n",
       "1    6000\n",
       "0    6000\n",
       "dtype: int64"
      ]
     },
     "execution_count": 20,
     "metadata": {},
     "output_type": "execute_result"
    }
   ],
   "source": [
    "pd.DataFrame(y_train).value_counts()"
   ]
  },
  {
   "cell_type": "markdown",
   "metadata": {
    "id": "F7BKYltAyJlh"
   },
   "source": [
    "**Task 4: Reshape the X arrays to include a 4 dimension of the single channel. Similar to what we did for the numbers MNIST data set.**"
   ]
  },
  {
   "cell_type": "code",
   "execution_count": 21,
   "metadata": {
    "ExecuteTime": {
     "end_time": "2022-10-11T20:50:27.230102Z",
     "start_time": "2022-10-11T20:50:27.224050Z"
    },
    "colab": {
     "base_uri": "https://localhost:8080/"
    },
    "id": "-D8_KN5j5jE_",
    "outputId": "7c1c93a1-dde4-4753-dad3-11317f85a718"
   },
   "outputs": [
    {
     "data": {
      "text/plain": [
       "((60000, 28, 28), (10000, 28, 28))"
      ]
     },
     "execution_count": 21,
     "metadata": {},
     "output_type": "execute_result"
    }
   ],
   "source": [
    "X_train.shape, X_test.shape"
   ]
  },
  {
   "cell_type": "code",
   "execution_count": 22,
   "metadata": {
    "ExecuteTime": {
     "end_time": "2022-10-11T20:50:27.415791Z",
     "start_time": "2022-10-11T20:50:27.400736Z"
    },
    "id": "35uMyCE4yJlh"
   },
   "outputs": [],
   "source": [
    "X_train = X_train.reshape(X_train.shape[0],28, 28, 1) \n",
    "X_test = X_test.reshape(X_test.shape[0], 28, 28, 1)"
   ]
  },
  {
   "cell_type": "code",
   "execution_count": 23,
   "metadata": {
    "ExecuteTime": {
     "end_time": "2022-10-11T20:50:27.587748Z",
     "start_time": "2022-10-11T20:50:27.580276Z"
    },
    "colab": {
     "base_uri": "https://localhost:8080/"
    },
    "id": "QxgaSkgLyJli",
    "outputId": "d533281b-c1a0-4f30-aff8-e97013147975"
   },
   "outputs": [
    {
     "data": {
      "text/plain": [
       "((60000, 28, 28, 1), (10000, 28, 28, 1))"
      ]
     },
     "execution_count": 23,
     "metadata": {},
     "output_type": "execute_result"
    }
   ],
   "source": [
    "X_train.shape, X_test.shape"
   ]
  },
  {
   "cell_type": "markdown",
   "metadata": {
    "id": "ISCwwWZMyJli"
   },
   "source": [
    "**TASK 5: Convert the y_train and y_test values to be one-hot encoded for categorical analysis by Keras.**"
   ]
  },
  {
   "cell_type": "code",
   "execution_count": 24,
   "metadata": {
    "ExecuteTime": {
     "end_time": "2022-10-11T20:50:27.896193Z",
     "start_time": "2022-10-11T20:50:27.880892Z"
    },
    "id": "8OQT1nYbyJlj"
   },
   "outputs": [],
   "source": [
    "from tensorflow.keras.utils import to_categorical"
   ]
  },
  {
   "cell_type": "code",
   "execution_count": 25,
   "metadata": {
    "ExecuteTime": {
     "end_time": "2022-10-11T20:50:28.068249Z",
     "start_time": "2022-10-11T20:50:28.057801Z"
    },
    "id": "iYcIToTGyJlj"
   },
   "outputs": [],
   "source": [
    "# gözlem hangi kategoride ise o indexteki değeri 1 diğerlerini 0 yapar.\n",
    "y_train = to_categorical(y_train, 10)\n",
    "y_test = to_categorical(y_test, 10)"
   ]
  },
  {
   "cell_type": "code",
   "execution_count": 26,
   "metadata": {
    "ExecuteTime": {
     "end_time": "2022-10-11T20:50:28.240095Z",
     "start_time": "2022-10-11T20:50:28.223429Z"
    },
    "colab": {
     "base_uri": "https://localhost:8080/"
    },
    "id": "-eanTD_3yJlk",
    "outputId": "a6813d57-adfb-49c6-e894-071742f4f76d"
   },
   "outputs": [
    {
     "data": {
      "text/plain": [
       "array([0., 0., 0., 0., 0., 0., 0., 0., 0., 1.], dtype=float32)"
      ]
     },
     "execution_count": 26,
     "metadata": {},
     "output_type": "execute_result"
    }
   ],
   "source": [
    "y_train[0]"
   ]
  },
  {
   "cell_type": "markdown",
   "metadata": {
    "id": "hcYpOGfGyJlk"
   },
   "source": [
    "# Modeling"
   ]
  },
  {
   "cell_type": "markdown",
   "metadata": {
    "id": "IFfil_GCyJlk"
   },
   "source": [
    "## Create the model\n",
    "\n",
    "**TASK 5: Use Keras to create a model consisting of at least the following layers (but feel free to experiment):**\n",
    "\n",
    "* 2D Convolutional Layer, filters=28 and kernel_size=(3,3)\n",
    "* Pooling Layer where pool_size = (2,2) strides=(1,1)\n",
    "\n",
    "* Flatten Layer\n",
    "* Dense Layer (128 Neurons, but feel free to play around with this value), RELU activation\n",
    "\n",
    "* Final Dense Layer of 10 Neurons with a softmax activation\n",
    "\n",
    "**Then compile the model with these parameters: loss='categorical_crossentropy', optimizer='rmsprop', metrics=['accuracy']**"
   ]
  },
  {
   "cell_type": "code",
   "execution_count": 27,
   "metadata": {
    "ExecuteTime": {
     "end_time": "2022-10-11T20:50:28.751720Z",
     "start_time": "2022-10-11T20:50:28.744009Z"
    },
    "id": "KD2_BQWsyJll"
   },
   "outputs": [],
   "source": [
    "from tensorflow.keras.models import Sequential\n",
    "from tensorflow.keras.layers import Dense, Conv2D, MaxPool2D, Flatten, Dropout"
   ]
  },
  {
   "cell_type": "code",
   "execution_count": 28,
   "metadata": {
    "ExecuteTime": {
     "end_time": "2022-10-11T20:50:29.062548Z",
     "start_time": "2022-10-11T20:50:28.912742Z"
    },
    "id": "eKJ3YBwbCd9m"
   },
   "outputs": [
    {
     "name": "stdout",
     "output_type": "stream",
     "text": [
      "WARNING:tensorflow:From C:\\Users\\hbpbn\\anaconda3\\envs\\myenv\\lib\\site-packages\\tensorflow_core\\python\\ops\\resource_variable_ops.py:1630: calling BaseResourceVariable.__init__ (from tensorflow.python.ops.resource_variable_ops) with constraint is deprecated and will be removed in a future version.\n",
      "Instructions for updating:\n",
      "If using Keras pass *_constraint arguments to layers.\n"
     ]
    }
   ],
   "source": [
    "model = Sequential()\n",
    "model.add(Conv2D(filters=28, kernel_size=(3,3), input_shape=(28,28,1), activation=\"relu\"))\n",
    "model.add(MaxPool2D(pool_size = (2, 2), strides = (1,1)))\n",
    "model.add(Flatten())\n",
    "model.add(Dense(128, activation=\"relu\"))\n",
    "model.add(Dense(10, activation=\"softmax\"))\n",
    "model.compile(loss=\"categorical_crossentropy\", optimizer = \"rmsprop\", metrics = [\"accuracy\"])"
   ]
  },
  {
   "cell_type": "code",
   "execution_count": 29,
   "metadata": {
    "ExecuteTime": {
     "end_time": "2022-10-11T20:50:29.078607Z",
     "start_time": "2022-10-11T20:50:29.065695Z"
    },
    "colab": {
     "base_uri": "https://localhost:8080/"
    },
    "id": "0limg1uCCfV7",
    "outputId": "e2c7d1f1-9667-4769-99d9-aa1f9b636e18"
   },
   "outputs": [
    {
     "name": "stdout",
     "output_type": "stream",
     "text": [
      "Model: \"sequential\"\n",
      "_________________________________________________________________\n",
      "Layer (type)                 Output Shape              Param #   \n",
      "=================================================================\n",
      "conv2d (Conv2D)              (None, 26, 26, 28)        280       \n",
      "_________________________________________________________________\n",
      "max_pooling2d (MaxPooling2D) (None, 25, 25, 28)        0         \n",
      "_________________________________________________________________\n",
      "flatten (Flatten)            (None, 17500)             0         \n",
      "_________________________________________________________________\n",
      "dense (Dense)                (None, 128)               2240128   \n",
      "_________________________________________________________________\n",
      "dense_1 (Dense)              (None, 10)                1290      \n",
      "=================================================================\n",
      "Total params: 2,241,698\n",
      "Trainable params: 2,241,698\n",
      "Non-trainable params: 0\n",
      "_________________________________________________________________\n"
     ]
    }
   ],
   "source": [
    "model.summary()"
   ]
  },
  {
   "cell_type": "markdown",
   "metadata": {
    "id": "TGkdbooxyJll"
   },
   "source": [
    "##  Model Training \n",
    "\n",
    "**TASK 6: Train/Fit the model to the x_train set by using EarlyStop. Amount of epochs is up to you.**"
   ]
  },
  {
   "cell_type": "code",
   "execution_count": 30,
   "metadata": {
    "ExecuteTime": {
     "end_time": "2022-10-11T20:50:29.438284Z",
     "start_time": "2022-10-11T20:50:29.424325Z"
    },
    "id": "mXod1XqiyJll"
   },
   "outputs": [],
   "source": [
    "from tensorflow.keras.callbacks import EarlyStopping"
   ]
  },
  {
   "cell_type": "code",
   "execution_count": 31,
   "metadata": {
    "ExecuteTime": {
     "end_time": "2022-10-11T20:50:29.608820Z",
     "start_time": "2022-10-11T20:50:29.592766Z"
    },
    "id": "TOteuQYNyJlm"
   },
   "outputs": [],
   "source": [
    "earlystop = EarlyStopping(monitor=\"val_accuracy\", mode=\"max\", patience=2, restore_best_weights=True)"
   ]
  },
  {
   "cell_type": "code",
   "execution_count": 32,
   "metadata": {
    "ExecuteTime": {
     "end_time": "2022-10-11T20:51:25.431547Z",
     "start_time": "2022-10-11T20:50:29.761356Z"
    },
    "colab": {
     "base_uri": "https://localhost:8080/"
    },
    "id": "8tflOge3yJlm",
    "outputId": "3e4d643d-fb35-4294-e2b3-af3bc0ca7eb6"
   },
   "outputs": [
    {
     "name": "stdout",
     "output_type": "stream",
     "text": [
      "Train on 60000 samples, validate on 10000 samples\n",
      "Epoch 1/10\n",
      "59520/60000 [============================>.] - ETA: 0s - loss: 0.3966 - acc: 0.8608WARNING:tensorflow:Early stopping conditioned on metric `val_accuracy` which is not available. Available metrics are: loss,acc,val_loss,val_acc\n",
      "60000/60000 [==============================] - 7s 110us/sample - loss: 0.3959 - acc: 0.8611 - val_loss: 0.3765 - val_acc: 0.8538\n",
      "Epoch 2/10\n",
      "59968/60000 [============================>.] - ETA: 0s - loss: 0.2524 - acc: 0.9094WARNING:tensorflow:Early stopping conditioned on metric `val_accuracy` which is not available. Available metrics are: loss,acc,val_loss,val_acc\n",
      "60000/60000 [==============================] - 5s 85us/sample - loss: 0.2523 - acc: 0.9094 - val_loss: 0.2755 - val_acc: 0.8970\n",
      "Epoch 3/10\n",
      "59520/60000 [============================>.] - ETA: 0s - loss: 0.2075 - acc: 0.9235WARNING:tensorflow:Early stopping conditioned on metric `val_accuracy` which is not available. Available metrics are: loss,acc,val_loss,val_acc\n",
      "60000/60000 [==============================] - 5s 87us/sample - loss: 0.2075 - acc: 0.9236 - val_loss: 0.3113 - val_acc: 0.8978\n",
      "Epoch 4/10\n",
      "59712/60000 [============================>.] - ETA: 0s - loss: 0.1775 - acc: 0.9365WARNING:tensorflow:Early stopping conditioned on metric `val_accuracy` which is not available. Available metrics are: loss,acc,val_loss,val_acc\n",
      "60000/60000 [==============================] - 6s 92us/sample - loss: 0.1774 - acc: 0.9365 - val_loss: 0.2704 - val_acc: 0.9075\n",
      "Epoch 5/10\n",
      "59520/60000 [============================>.] - ETA: 0s - loss: 0.1520 - acc: 0.9459WARNING:tensorflow:Early stopping conditioned on metric `val_accuracy` which is not available. Available metrics are: loss,acc,val_loss,val_acc\n",
      "60000/60000 [==============================] - 5s 91us/sample - loss: 0.1519 - acc: 0.9459 - val_loss: 0.2835 - val_acc: 0.9075\n",
      "Epoch 6/10\n",
      "59904/60000 [============================>.] - ETA: 0s - loss: 0.1321 - acc: 0.9527WARNING:tensorflow:Early stopping conditioned on metric `val_accuracy` which is not available. Available metrics are: loss,acc,val_loss,val_acc\n",
      "60000/60000 [==============================] - 5s 86us/sample - loss: 0.1321 - acc: 0.9527 - val_loss: 0.2979 - val_acc: 0.9024\n",
      "Epoch 7/10\n",
      "59712/60000 [============================>.] - ETA: 0s - loss: 0.1167 - acc: 0.9581WARNING:tensorflow:Early stopping conditioned on metric `val_accuracy` which is not available. Available metrics are: loss,acc,val_loss,val_acc\n",
      "60000/60000 [==============================] - 5s 85us/sample - loss: 0.1166 - acc: 0.9581 - val_loss: 0.2963 - val_acc: 0.9105\n",
      "Epoch 8/10\n",
      "59392/60000 [============================>.] - ETA: 0s - loss: 0.1020 - acc: 0.9631WARNING:tensorflow:Early stopping conditioned on metric `val_accuracy` which is not available. Available metrics are: loss,acc,val_loss,val_acc\n",
      "60000/60000 [==============================] - 5s 86us/sample - loss: 0.1017 - acc: 0.9632 - val_loss: 0.3137 - val_acc: 0.9085\n",
      "Epoch 9/10\n",
      "59392/60000 [============================>.] - ETA: 0s - loss: 0.0899 - acc: 0.9684WARNING:tensorflow:Early stopping conditioned on metric `val_accuracy` which is not available. Available metrics are: loss,acc,val_loss,val_acc\n",
      "60000/60000 [==============================] - 5s 84us/sample - loss: 0.0902 - acc: 0.9683 - val_loss: 0.3176 - val_acc: 0.9169\n",
      "Epoch 10/10\n",
      "59392/60000 [============================>.] - ETA: 0s - loss: 0.0781 - acc: 0.9729WARNING:tensorflow:Early stopping conditioned on metric `val_accuracy` which is not available. Available metrics are: loss,acc,val_loss,val_acc\n",
      "60000/60000 [==============================] - 5s 84us/sample - loss: 0.0780 - acc: 0.9730 - val_loss: 0.3512 - val_acc: 0.9137\n"
     ]
    },
    {
     "data": {
      "text/plain": [
       "<tensorflow.python.keras.callbacks.History at 0x1af9376d080>"
      ]
     },
     "execution_count": 32,
     "metadata": {},
     "output_type": "execute_result"
    }
   ],
   "source": [
    "model.fit(X_train, y_train, \n",
    "          batch_size=64, \n",
    "          epochs=10, \n",
    "          validation_data=[X_test, y_test],\n",
    "          callbacks=[earlystop])"
   ]
  },
  {
   "cell_type": "markdown",
   "metadata": {
    "id": "l_MUAybpyJlm"
   },
   "source": [
    "**TASK 7: Plot values of metrics you used in your model.**"
   ]
  },
  {
   "cell_type": "code",
   "execution_count": 33,
   "metadata": {
    "ExecuteTime": {
     "end_time": "2022-10-11T20:51:25.463315Z",
     "start_time": "2022-10-11T20:51:25.435381Z"
    },
    "colab": {
     "base_uri": "https://localhost:8080/",
     "height": 269
    },
    "id": "f0D_-q7ZyJlm",
    "outputId": "e4aeedf3-26b4-4154-eebd-86869f7c8f3b"
   },
   "outputs": [
    {
     "data": {
      "text/html": [
       "<div>\n",
       "<style scoped>\n",
       "    .dataframe tbody tr th:only-of-type {\n",
       "        vertical-align: middle;\n",
       "    }\n",
       "\n",
       "    .dataframe tbody tr th {\n",
       "        vertical-align: top;\n",
       "    }\n",
       "\n",
       "    .dataframe thead th {\n",
       "        text-align: right;\n",
       "    }\n",
       "</style>\n",
       "<table border=\"1\" class=\"dataframe\">\n",
       "  <thead>\n",
       "    <tr style=\"text-align: right;\">\n",
       "      <th></th>\n",
       "      <th>loss</th>\n",
       "      <th>acc</th>\n",
       "      <th>val_loss</th>\n",
       "      <th>val_acc</th>\n",
       "    </tr>\n",
       "  </thead>\n",
       "  <tbody>\n",
       "    <tr>\n",
       "      <th>0</th>\n",
       "      <td>0.396</td>\n",
       "      <td>0.861</td>\n",
       "      <td>0.377</td>\n",
       "      <td>0.854</td>\n",
       "    </tr>\n",
       "    <tr>\n",
       "      <th>1</th>\n",
       "      <td>0.252</td>\n",
       "      <td>0.909</td>\n",
       "      <td>0.276</td>\n",
       "      <td>0.897</td>\n",
       "    </tr>\n",
       "    <tr>\n",
       "      <th>2</th>\n",
       "      <td>0.208</td>\n",
       "      <td>0.924</td>\n",
       "      <td>0.311</td>\n",
       "      <td>0.898</td>\n",
       "    </tr>\n",
       "    <tr>\n",
       "      <th>3</th>\n",
       "      <td>0.177</td>\n",
       "      <td>0.937</td>\n",
       "      <td>0.270</td>\n",
       "      <td>0.908</td>\n",
       "    </tr>\n",
       "    <tr>\n",
       "      <th>4</th>\n",
       "      <td>0.152</td>\n",
       "      <td>0.946</td>\n",
       "      <td>0.284</td>\n",
       "      <td>0.908</td>\n",
       "    </tr>\n",
       "    <tr>\n",
       "      <th>5</th>\n",
       "      <td>0.132</td>\n",
       "      <td>0.953</td>\n",
       "      <td>0.298</td>\n",
       "      <td>0.902</td>\n",
       "    </tr>\n",
       "    <tr>\n",
       "      <th>6</th>\n",
       "      <td>0.117</td>\n",
       "      <td>0.958</td>\n",
       "      <td>0.296</td>\n",
       "      <td>0.911</td>\n",
       "    </tr>\n",
       "    <tr>\n",
       "      <th>7</th>\n",
       "      <td>0.102</td>\n",
       "      <td>0.963</td>\n",
       "      <td>0.314</td>\n",
       "      <td>0.909</td>\n",
       "    </tr>\n",
       "    <tr>\n",
       "      <th>8</th>\n",
       "      <td>0.090</td>\n",
       "      <td>0.968</td>\n",
       "      <td>0.318</td>\n",
       "      <td>0.917</td>\n",
       "    </tr>\n",
       "    <tr>\n",
       "      <th>9</th>\n",
       "      <td>0.078</td>\n",
       "      <td>0.973</td>\n",
       "      <td>0.351</td>\n",
       "      <td>0.914</td>\n",
       "    </tr>\n",
       "  </tbody>\n",
       "</table>\n",
       "</div>"
      ],
      "text/plain": [
       "   loss   acc  val_loss  val_acc\n",
       "0 0.396 0.861     0.377    0.854\n",
       "1 0.252 0.909     0.276    0.897\n",
       "2 0.208 0.924     0.311    0.898\n",
       "3 0.177 0.937     0.270    0.908\n",
       "4 0.152 0.946     0.284    0.908\n",
       "5 0.132 0.953     0.298    0.902\n",
       "6 0.117 0.958     0.296    0.911\n",
       "7 0.102 0.963     0.314    0.909\n",
       "8 0.090 0.968     0.318    0.917\n",
       "9 0.078 0.973     0.351    0.914"
      ]
     },
     "execution_count": 33,
     "metadata": {},
     "output_type": "execute_result"
    }
   ],
   "source": [
    "summary = pd.DataFrame(model.history.history)\n",
    "summary"
   ]
  },
  {
   "cell_type": "code",
   "execution_count": 34,
   "metadata": {
    "ExecuteTime": {
     "end_time": "2022-10-11T20:51:25.679881Z",
     "start_time": "2022-10-11T20:51:25.464473Z"
    },
    "colab": {
     "base_uri": "https://localhost:8080/",
     "height": 394
    },
    "id": "ErvXd_HkyJln",
    "outputId": "980e117a-d42c-4edf-80a8-a5c1c661c6fb"
   },
   "outputs": [
    {
     "data": {
      "text/plain": [
       "<AxesSubplot:>"
      ]
     },
     "execution_count": 34,
     "metadata": {},
     "output_type": "execute_result"
    },
    {
     "data": {
      "image/png": "[encoded data removed]",
      "text/plain": [
       "<Figure size 720x432 with 1 Axes>"
      ]
     },
     "metadata": {},
     "output_type": "display_data"
    }
   ],
   "source": [
    "summary.plot()"
   ]
  },
  {
   "cell_type": "code",
   "execution_count": 35,
   "metadata": {
    "ExecuteTime": {
     "end_time": "2022-10-11T20:51:25.821759Z",
     "start_time": "2022-10-11T20:51:25.681256Z"
    },
    "colab": {
     "base_uri": "https://localhost:8080/",
     "height": 374
    },
    "id": "bE3S7Fe_FpNz",
    "outputId": "602f8213-5787-40e6-af81-31dd7ee2c4d4"
   },
   "outputs": [
    {
     "data": {
      "image/png": "[encoded data removed]",
      "text/plain": [
       "<Figure size 720x432 with 1 Axes>"
      ]
     },
     "metadata": {},
     "output_type": "display_data"
    }
   ],
   "source": [
    "summary[[\"loss\", \"val_loss\"]].plot();"
   ]
  },
  {
   "cell_type": "code",
   "execution_count": 37,
   "metadata": {
    "ExecuteTime": {
     "end_time": "2022-10-11T20:52:00.432954Z",
     "start_time": "2022-10-11T20:52:00.233125Z"
    },
    "colab": {
     "base_uri": "https://localhost:8080/",
     "height": 374
    },
    "id": "niI3shrTFqbE",
    "outputId": "71e5da5d-0a64-4459-a1fd-2d43e6372ec3"
   },
   "outputs": [
    {
     "data": {
      "image/png": "[encoded data removed]",
      "text/plain": [
       "<Figure size 720x432 with 1 Axes>"
      ]
     },
     "metadata": {},
     "output_type": "display_data"
    }
   ],
   "source": [
    "summary[[\"acc\", \"val_acc\"]].plot();"
   ]
  },
  {
   "cell_type": "markdown",
   "metadata": {
    "id": "JBzIi92JyJlo"
   },
   "source": [
    "## Model Evaluation\n",
    "\n",
    "**TASK 8: Show the accuracy,precision,recall,f1-score the model achieved on the x_test data set. Keep in mind, there are quite a few ways to do this, but we recommend following the same procedure we showed in the MNIST lecture.**"
   ]
  },
  {
   "cell_type": "code",
   "execution_count": 38,
   "metadata": {
    "ExecuteTime": {
     "end_time": "2022-10-11T20:52:11.107587Z",
     "start_time": "2022-10-11T20:52:11.090206Z"
    },
    "id": "PPYDERIuyJlo"
   },
   "outputs": [],
   "source": [
    "from sklearn.metrics import classification_report, confusion_matrix"
   ]
  },
  {
   "cell_type": "code",
   "execution_count": 39,
   "metadata": {
    "ExecuteTime": {
     "end_time": "2022-10-11T20:52:14.099512Z",
     "start_time": "2022-10-11T20:52:13.455561Z"
    },
    "colab": {
     "base_uri": "https://localhost:8080/"
    },
    "id": "CxvpQOj8yJlo",
    "outputId": "5274df59-29f9-4487-b2a6-651c44880513"
   },
   "outputs": [
    {
     "name": "stdout",
     "output_type": "stream",
     "text": [
      "10000/10000 [==============================] - 1s 63us/sample - loss: 0.3512 - acc: 0.9137\n",
      "Test loss :  0.3511723563209176\n",
      "Test accuracy 0.91370004\n"
     ]
    }
   ],
   "source": [
    "score = model.evaluate(X_test, y_test)\n",
    "print(\"Test loss : \", score[0])\n",
    "print(\"Test accuracy\", score[1])\n"
   ]
  },
  {
   "cell_type": "code",
   "execution_count": 40,
   "metadata": {
    "ExecuteTime": {
     "end_time": "2022-10-11T20:52:18.452822Z",
     "start_time": "2022-10-11T20:52:17.760629Z"
    },
    "colab": {
     "base_uri": "https://localhost:8080/"
    },
    "id": "QExeE-UOyJlo",
    "outputId": "8e39bb16-03cc-4414-9c23-a60fffd66fca"
   },
   "outputs": [
    {
     "data": {
      "text/plain": [
       "array([[1.9922936e-07, 3.1125276e-16, 2.2465827e-09, ..., 2.1745240e-05,\n",
       "        5.8424190e-09, 9.9996650e-01],\n",
       "       [3.6992105e-13, 9.9979362e-26, 1.0000000e+00, ..., 1.3531689e-24,\n",
       "        8.6307678e-21, 7.4884357e-20],\n",
       "       [1.8619241e-14, 1.0000000e+00, 3.5963563e-18, ..., 1.5168492e-23,\n",
       "        2.0811622e-16, 9.8159338e-22],\n",
       "       ...,\n",
       "       [9.1333970e-14, 5.2623308e-23, 6.1956557e-14, ..., 8.2956759e-13,\n",
       "        1.0000000e+00, 4.1549683e-18],\n",
       "       [1.1054071e-12, 1.0000000e+00, 1.6215583e-14, ..., 3.0744701e-19,\n",
       "        6.3437410e-16, 1.2984481e-17],\n",
       "       [2.6780942e-06, 3.5380573e-08, 1.7484969e-04, ..., 2.1963775e-02,\n",
       "        5.7739409e-05, 8.6769760e-05]], dtype=float32)"
      ]
     },
     "execution_count": 40,
     "metadata": {},
     "output_type": "execute_result"
    }
   ],
   "source": [
    "pred_proba = model.predict(X_test)\n",
    "pred_proba"
   ]
  },
  {
   "cell_type": "code",
   "execution_count": 41,
   "metadata": {
    "ExecuteTime": {
     "end_time": "2022-10-11T20:52:19.262194Z",
     "start_time": "2022-10-11T20:52:19.257796Z"
    },
    "colab": {
     "base_uri": "https://localhost:8080/"
    },
    "id": "C-ZvQTk6IrGn",
    "outputId": "d1e1e1ef-a349-4c7f-b6d7-2f641964c062"
   },
   "outputs": [
    {
     "data": {
      "text/plain": [
       "(10000, 10)"
      ]
     },
     "execution_count": 41,
     "metadata": {},
     "output_type": "execute_result"
    }
   ],
   "source": [
    "pred_proba.shape"
   ]
  },
  {
   "cell_type": "code",
   "execution_count": 42,
   "metadata": {
    "ExecuteTime": {
     "end_time": "2022-10-11T20:52:21.239583Z",
     "start_time": "2022-10-11T20:52:21.224442Z"
    },
    "colab": {
     "base_uri": "https://localhost:8080/"
    },
    "id": "NYWbv0e1yJlp",
    "outputId": "3fd12ba2-5f20-44ad-aae0-e780639af5ea"
   },
   "outputs": [
    {
     "data": {
      "text/plain": [
       "array([1.9922936e-07, 3.1125276e-16, 2.2465827e-09, 7.8424595e-15,\n",
       "       2.0351096e-10, 1.0840877e-05, 6.4802111e-07, 2.1745240e-05,\n",
       "       5.8424190e-09, 9.9996650e-01], dtype=float32)"
      ]
     },
     "execution_count": 42,
     "metadata": {},
     "output_type": "execute_result"
    }
   ],
   "source": [
    "pred_proba[0]"
   ]
  },
  {
   "cell_type": "code",
   "execution_count": 43,
   "metadata": {
    "ExecuteTime": {
     "end_time": "2022-10-11T20:52:21.786592Z",
     "start_time": "2022-10-11T20:52:21.768842Z"
    },
    "colab": {
     "base_uri": "https://localhost:8080/"
    },
    "id": "xH-OW-_6H89l",
    "outputId": "14f03095-f109-42b1-fded-d4e17c128605"
   },
   "outputs": [
    {
     "data": {
      "text/plain": [
       "9"
      ]
     },
     "execution_count": 43,
     "metadata": {},
     "output_type": "execute_result"
    }
   ],
   "source": [
    "np.argmax(pred_proba[0])"
   ]
  },
  {
   "cell_type": "code",
   "execution_count": 44,
   "metadata": {
    "ExecuteTime": {
     "end_time": "2022-10-11T20:52:22.384277Z",
     "start_time": "2022-10-11T20:52:22.376992Z"
    },
    "colab": {
     "base_uri": "https://localhost:8080/"
    },
    "id": "Zwr1MBAOIBes",
    "outputId": "136cba9e-a35c-4707-cfef-6a5e9d9a4c87"
   },
   "outputs": [
    {
     "data": {
      "text/plain": [
       "array([9, 2, 1, ..., 8, 1, 5], dtype=int64)"
      ]
     },
     "execution_count": 44,
     "metadata": {},
     "output_type": "execute_result"
    }
   ],
   "source": [
    "y_pred = np.argmax(pred_proba, axis=1)\n",
    "y_pred"
   ]
  },
  {
   "cell_type": "code",
   "execution_count": 45,
   "metadata": {
    "ExecuteTime": {
     "end_time": "2022-10-11T20:52:22.892443Z",
     "start_time": "2022-10-11T20:52:22.875590Z"
    },
    "colab": {
     "base_uri": "https://localhost:8080/"
    },
    "id": "35HCyD1YI_sI",
    "outputId": "de0667fb-2b85-4b34-cc8a-9230d9702388"
   },
   "outputs": [
    {
     "data": {
      "text/plain": [
       "(10000,)"
      ]
     },
     "execution_count": 45,
     "metadata": {},
     "output_type": "execute_result"
    }
   ],
   "source": [
    "y_pred.shape"
   ]
  },
  {
   "cell_type": "code",
   "execution_count": 46,
   "metadata": {
    "ExecuteTime": {
     "end_time": "2022-10-11T20:52:23.663343Z",
     "start_time": "2022-10-11T20:52:23.641106Z"
    },
    "colab": {
     "base_uri": "https://localhost:8080/"
    },
    "id": "8htRJG5EKjV7",
    "outputId": "5f08036e-a89d-4ed4-ba95-89b7a5cb552c"
   },
   "outputs": [
    {
     "name": "stdout",
     "output_type": "stream",
     "text": [
      "Confusion Matrix\n",
      "[[896   0  17  14   4   2  65   0   2   0]\n",
      " [  2 973   1  18   0   1   4   0   1   0]\n",
      " [ 24   0 872   8  29   0  67   0   0   0]\n",
      " [ 25   0   8 929  13   0  24   0   1   0]\n",
      " [  3   0  73  31 827   1  65   0   0   0]\n",
      " [  0   0   0   0   0 988   0   9   0   3]\n",
      " [136   1  45  27  38   0 748   0   5   0]\n",
      " [  0   0   0   0   0  13   0 977   1   9]\n",
      " [  7   1   1   4   3   4   4   1 974   1]\n",
      " [  0   0   0   0   0   6   1  38   2 953]]\n"
     ]
    }
   ],
   "source": [
    "y_test_arg=np.argmax(y_test,axis=1)\n",
    "print('Confusion Matrix')\n",
    "print(confusion_matrix(y_test_arg, y_pred))"
   ]
  },
  {
   "cell_type": "code",
   "execution_count": 47,
   "metadata": {
    "ExecuteTime": {
     "end_time": "2022-10-11T20:52:26.484885Z",
     "start_time": "2022-10-11T20:52:25.879608Z"
    },
    "colab": {
     "base_uri": "https://localhost:8080/",
     "height": 609
    },
    "id": "2ASHn0BBSl3p",
    "outputId": "68287bde-bd2d-4aa1-85a1-344828e93591"
   },
   "outputs": [
    {
     "data": {
      "text/plain": [
       "<AxesSubplot:>"
      ]
     },
     "execution_count": 47,
     "metadata": {},
     "output_type": "execute_result"
    },
    {
     "data": {
      "image/png": "[encoded data removed]",
      "text/plain": [
       "<Figure size 1080x720 with 2 Axes>"
      ]
     },
     "metadata": {},
     "output_type": "display_data"
    }
   ],
   "source": [
    "plt.figure(figsize=(15,10))\n",
    "sns.heatmap(confusion_matrix(y_test_arg, y_pred), annot=True, cmap=\"Blues\", linewidths=.5, linecolor='black', fmt='g', annot_kws = {\"size\": 15})"
   ]
  },
  {
   "cell_type": "code",
   "execution_count": 48,
   "metadata": {
    "ExecuteTime": {
     "end_time": "2022-10-11T20:52:33.193229Z",
     "start_time": "2022-10-11T20:52:33.159515Z"
    },
    "colab": {
     "base_uri": "https://localhost:8080/"
    },
    "id": "_MBHzV_lIYKl",
    "outputId": "4c0cc08a-0028-4522-ae67-d929c7edd50f"
   },
   "outputs": [
    {
     "name": "stdout",
     "output_type": "stream",
     "text": [
      "              precision    recall  f1-score   support\n",
      "\n",
      "           0       0.82      0.90      0.86      1000\n",
      "           1       1.00      0.97      0.99      1000\n",
      "           2       0.86      0.87      0.86      1000\n",
      "           3       0.90      0.93      0.91      1000\n",
      "           4       0.90      0.83      0.86      1000\n",
      "           5       0.97      0.99      0.98      1000\n",
      "           6       0.76      0.75      0.76      1000\n",
      "           7       0.95      0.98      0.96      1000\n",
      "           8       0.99      0.97      0.98      1000\n",
      "           9       0.99      0.95      0.97      1000\n",
      "\n",
      "    accuracy                           0.91     10000\n",
      "   macro avg       0.91      0.91      0.91     10000\n",
      "weighted avg       0.91      0.91      0.91     10000\n",
      "\n"
     ]
    }
   ],
   "source": [
    "print(classification_report(y_test_arg, y_pred))"
   ]
  },
  {
   "cell_type": "code",
   "execution_count": 49,
   "metadata": {
    "ExecuteTime": {
     "end_time": "2022-10-11T20:52:34.574885Z",
     "start_time": "2022-10-11T20:52:34.552013Z"
    },
    "colab": {
     "base_uri": "https://localhost:8080/"
    },
    "id": "hfxJ33lJS2eQ",
    "outputId": "e9ef8da8-ca00-4983-b7a1-1b9ad37e1499"
   },
   "outputs": [
    {
     "data": {
      "text/plain": [
       "863"
      ]
     },
     "execution_count": 49,
     "metadata": {},
     "output_type": "execute_result"
    }
   ],
   "source": [
    "(y_test_arg != y_pred).sum()"
   ]
  },
  {
   "cell_type": "markdown",
   "metadata": {
    "id": "nlK0SI3wyJlp"
   },
   "source": [
    "## Prediction"
   ]
  },
  {
   "cell_type": "code",
   "execution_count": 50,
   "metadata": {
    "ExecuteTime": {
     "end_time": "2022-10-11T20:52:37.922926Z",
     "start_time": "2022-10-11T20:52:37.919833Z"
    },
    "id": "6NwY8wuCyJlp"
   },
   "outputs": [],
   "source": [
    "my_clothes = X_test[3]"
   ]
  },
  {
   "cell_type": "code",
   "execution_count": 51,
   "metadata": {
    "ExecuteTime": {
     "end_time": "2022-10-11T20:52:38.302430Z",
     "start_time": "2022-10-11T20:52:38.286676Z"
    },
    "colab": {
     "base_uri": "https://localhost:8080/"
    },
    "id": "SMHj9M7ryJlp",
    "outputId": "4189317a-7011-42a1-aa18-8be6fea144cc"
   },
   "outputs": [
    {
     "data": {
      "text/plain": [
       "(28, 28, 1)"
      ]
     },
     "execution_count": 51,
     "metadata": {},
     "output_type": "execute_result"
    }
   ],
   "source": [
    "my_clothes.shape"
   ]
  },
  {
   "cell_type": "code",
   "execution_count": 52,
   "metadata": {
    "ExecuteTime": {
     "end_time": "2022-10-11T20:52:39.499747Z",
     "start_time": "2022-10-11T20:52:39.359976Z"
    },
    "colab": {
     "base_uri": "https://localhost:8080/",
     "height": 391
    },
    "id": "17gbP_3GTr2T",
    "outputId": "45ede8fb-20f3-4180-d731-8d609053b58a"
   },
   "outputs": [
    {
     "data": {
      "text/plain": [
       "<matplotlib.image.AxesImage at 0x1afa95f6828>"
      ]
     },
     "execution_count": 52,
     "metadata": {},
     "output_type": "execute_result"
    },
    {
     "data": {
      "image/png": "[encoded data removed]",
      "text/plain": [
       "<Figure size 720x432 with 1 Axes>"
      ]
     },
     "metadata": {},
     "output_type": "display_data"
    }
   ],
   "source": [
    "plt.imshow(my_clothes.reshape(28,28))"
   ]
  },
  {
   "cell_type": "code",
   "execution_count": 53,
   "metadata": {
    "ExecuteTime": {
     "end_time": "2022-10-11T20:52:40.143818Z",
     "start_time": "2022-10-11T20:52:39.911529Z"
    },
    "colab": {
     "base_uri": "https://localhost:8080/"
    },
    "id": "1x1v9ldNT1vy",
    "outputId": "becd45f6-7652-4332-85af-aeb48a4b5baa"
   },
   "outputs": [
    {
     "data": {
      "text/plain": [
       "array([[1.9147039e-13, 1.0000000e+00, 2.0611240e-16, 8.8368523e-12,\n",
       "        4.7570831e-14, 1.5135796e-19, 2.4985707e-14, 8.1306471e-20,\n",
       "        2.4752958e-15, 1.6243093e-18]], dtype=float32)"
      ]
     },
     "execution_count": 53,
     "metadata": {},
     "output_type": "execute_result"
    }
   ],
   "source": [
    "pred_proba = model.predict(my_clothes.reshape(1,28,28,1))\n",
    "pred_proba"
   ]
  },
  {
   "cell_type": "code",
   "execution_count": 54,
   "metadata": {
    "ExecuteTime": {
     "end_time": "2022-10-11T20:52:40.654460Z",
     "start_time": "2022-10-11T20:52:40.640054Z"
    },
    "colab": {
     "base_uri": "https://localhost:8080/"
    },
    "id": "ShjNY8HuUUDj",
    "outputId": "937320a0-b48e-4749-ea3f-1275d49a2735"
   },
   "outputs": [
    {
     "data": {
      "text/plain": [
       "1"
      ]
     },
     "execution_count": 54,
     "metadata": {},
     "output_type": "execute_result"
    }
   ],
   "source": [
    "y_pred = np.argmax(pred_proba)\n",
    "y_pred"
   ]
  },
  {
   "cell_type": "code",
   "execution_count": 55,
   "metadata": {
    "ExecuteTime": {
     "end_time": "2022-10-11T20:52:41.137418Z",
     "start_time": "2022-10-11T20:52:41.008321Z"
    },
    "id": "jmuv5je2UgCh"
   },
   "outputs": [],
   "source": [
    "model.save(\"cnn_clothes_classification.h5\")"
   ]
  },
  {
   "cell_type": "code",
   "execution_count": 56,
   "metadata": {
    "ExecuteTime": {
     "end_time": "2022-10-11T20:52:42.060725Z",
     "start_time": "2022-10-11T20:52:41.342661Z"
    },
    "id": "1tPBaAT6VF3c"
   },
   "outputs": [
    {
     "name": "stdout",
     "output_type": "stream",
     "text": [
      "WARNING:tensorflow:From C:\\Users\\hbpbn\\anaconda3\\envs\\myenv\\lib\\site-packages\\tensorflow_core\\python\\ops\\init_ops.py:97: calling GlorotUniform.__init__ (from tensorflow.python.ops.init_ops) with dtype is deprecated and will be removed in a future version.\n",
      "Instructions for updating:\n",
      "Call initializer instance with the dtype argument instead of passing it to the constructor\n",
      "WARNING:tensorflow:From C:\\Users\\hbpbn\\anaconda3\\envs\\myenv\\lib\\site-packages\\tensorflow_core\\python\\ops\\init_ops.py:97: calling Zeros.__init__ (from tensorflow.python.ops.init_ops) with dtype is deprecated and will be removed in a future version.\n",
      "Instructions for updating:\n",
      "Call initializer instance with the dtype argument instead of passing it to the constructor\n"
     ]
    }
   ],
   "source": [
    "model = tf.keras.models.load_model(\"cnn_clothes_classification.h5\")"
   ]
  },
  {
   "cell_type": "code",
   "execution_count": 57,
   "metadata": {
    "ExecuteTime": {
     "end_time": "2022-10-11T20:52:44.018262Z",
     "start_time": "2022-10-11T20:52:43.952324Z"
    },
    "id": "u0RhNTrXVS7L"
   },
   "outputs": [],
   "source": [
    "pred = model.predict(np.expand_dims(X_test[24], axis=0))"
   ]
  },
  {
   "cell_type": "code",
   "execution_count": 58,
   "metadata": {
    "ExecuteTime": {
     "end_time": "2022-10-11T20:52:44.608357Z",
     "start_time": "2022-10-11T20:52:44.592099Z"
    },
    "colab": {
     "base_uri": "https://localhost:8080/"
    },
    "id": "qYpRzSYQVmMh",
    "outputId": "d64042f4-4ab3-4d26-f08e-d033102440ac"
   },
   "outputs": [
    {
     "data": {
      "text/plain": [
       "1"
      ]
     },
     "execution_count": 58,
     "metadata": {},
     "output_type": "execute_result"
    }
   ],
   "source": [
    "np.argmax(pred)"
   ]
  },
  {
   "cell_type": "code",
   "execution_count": 59,
   "metadata": {
    "ExecuteTime": {
     "end_time": "2022-10-11T20:52:45.390027Z",
     "start_time": "2022-10-11T20:52:45.231585Z"
    },
    "colab": {
     "base_uri": "https://localhost:8080/",
     "height": 391
    },
    "id": "PZBP5jzoVn9M",
    "outputId": "b25370c1-6939-40bf-c8aa-73a6d6355281"
   },
   "outputs": [
    {
     "data": {
      "text/plain": [
       "<matplotlib.image.AxesImage at 0x1afb707e160>"
      ]
     },
     "execution_count": 59,
     "metadata": {},
     "output_type": "execute_result"
    },
    {
     "data": {
      "image/png": "[encoded data removed]",
      "text/plain": [
       "<Figure size 720x432 with 1 Axes>"
      ]
     },
     "metadata": {},
     "output_type": "display_data"
    }
   ],
   "source": [
    "plt.imshow(X_test[24].reshape(28,28))"
   ]
  },
  {
   "cell_type": "markdown",
   "metadata": {
    "id": "ZnZboJTxyJlq"
   },
   "source": [
    "# End of Assignment"
   ]
  },
  {
   "cell_type": "markdown",
   "metadata": {
    "id": "PYsfVp9SyJlq"
   },
   "source": [
    "___\n",
    "\n",
    "<p style=\"text-align: center;\"><img src=\"https://docs.google.com/uc?id=1lY0Uj5R04yMY3-ZppPWxqCr5pvBLYPnV\" class=\"img-fluid\" alt=\"CLRSWY\"></p>\n",
    "\n",
    "___"
   ]
  }
 ],
 "metadata": {
  "accelerator": "GPU",
  "colab": {
   "collapsed_sections": [],
   "provenance": []
  },
  "hide_input": false,
  "kernelspec": {
   "display_name": "Python 3",
   "language": "python",
   "name": "python3"
  },
  "language_info": {
   "codemirror_mode": {
    "name": "ipython",
    "version": 3
   },
   "file_extension": ".py",
   "mimetype": "text/x-python",
   "name": "python",
   "nbconvert_exporter": "python",
   "pygments_lexer": "ipython3",
   "version": "3.6.13"
  },
  "toc": {
   "base_numbering": 1,
   "nav_menu": {},
   "number_sections": false,
   "sideBar": true,
   "skip_h1_title": false,
   "title_cell": "Table of Contents",
   "title_sidebar": "Contents",
   "toc_cell": false,
   "toc_position": {},
   "toc_section_display": true,
   "toc_window_display": false
  }
 },
 "nbformat": 4,
 "nbformat_minor": 1
}
