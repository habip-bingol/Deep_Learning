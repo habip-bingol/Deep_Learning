{
 "cells": [
  {
   "cell_type": "markdown",
   "metadata": {},
   "source": [
    "___\n",
    "\n",
    "<p style=\"text-align: center;\"><img src=\"https://docs.google.com/uc?id=1lY0Uj5R04yMY3-ZppPWxqCr5pvBLYPnV\" class=\"img-fluid\" alt=\"CLRSWY\"></p>\n",
    "\n",
    "___"
   ]
  },
  {
   "cell_type": "markdown",
   "metadata": {},
   "source": [
    "<h1 style=\"text-align: center;\">Deep Learning<br><br>Session - 2<br><br>Installing Tensorflow & Keras Syntax Basics<br><br>Fake Reg<br><h1>"
   ]
  },
  {
   "cell_type": "markdown",
   "metadata": {},
   "source": [
    "# Installing Tensorflow"
   ]
  },
  {
   "cell_type": "code",
   "execution_count": 1,
   "metadata": {
    "ExecuteTime": {
     "end_time": "2022-09-30T12:55:48.229040Z",
     "start_time": "2022-09-30T12:55:48.174020Z"
    }
   },
   "outputs": [
    {
     "name": "stdout",
     "output_type": "stream",
     "text": [
      "Python 3.9.12\n"
     ]
    }
   ],
   "source": [
    "!python --version"
   ]
  },
  {
   "cell_type": "code",
   "execution_count": 35,
   "metadata": {
    "ExecuteTime": {
     "end_time": "2022-09-30T12:56:04.421184Z",
     "start_time": "2022-09-30T12:56:04.405413Z"
    },
    "scrolled": true
   },
   "outputs": [],
   "source": [
    "# pip install tensorflow"
   ]
  },
  {
   "cell_type": "code",
   "execution_count": 3,
   "metadata": {
    "ExecuteTime": {
     "end_time": "2022-09-30T12:55:58.135950Z",
     "start_time": "2022-09-30T12:55:50.979303Z"
    }
   },
   "outputs": [
    {
     "data": {
      "text/plain": [
       "'2.10.0'"
      ]
     },
     "execution_count": 3,
     "metadata": {},
     "output_type": "execute_result"
    }
   ],
   "source": [
    "import tensorflow as tf\n",
    "tf.__version__"
   ]
  },
  {
   "cell_type": "markdown",
   "metadata": {},
   "source": [
    "# Keras Syntax Basics"
   ]
  },
  {
   "cell_type": "code",
   "execution_count": 4,
   "metadata": {
    "ExecuteTime": {
     "end_time": "2022-09-30T12:56:00.244517Z",
     "start_time": "2022-09-30T12:55:58.138487Z"
    }
   },
   "outputs": [],
   "source": [
    "import numpy as np\n",
    "import pandas as pd\n",
    "import matplotlib.pyplot as plt\n",
    "import seaborn as sns\n",
    "\n",
    "import warnings\n",
    "warnings.filterwarnings(\"ignore\")\n",
    "warnings.warn(\"this will not show\")\n",
    "\n",
    "plt.rcParams[\"figure.figsize\"] = (10,6)\n",
    "\n",
    "sns.set_style(\"whitegrid\")\n",
    "pd.set_option('display.float_format', lambda x: '%.3f' % x)\n",
    "\n",
    "# Set it None to display all rows in the dataframe\n",
    "# pd.set_option('display.max_rows', None)\n",
    "\n",
    "# Set it to None to display all columns in the dataframe\n",
    "pd.set_option('display.max_columns', None)"
   ]
  },
  {
   "cell_type": "code",
   "execution_count": 5,
   "metadata": {
    "ExecuteTime": {
     "end_time": "2022-09-30T12:56:00.259183Z",
     "start_time": "2022-09-30T12:56:00.246547Z"
    }
   },
   "outputs": [],
   "source": [
    "#from google.colab import drive\n",
    "#drive.mount('/content/drive')"
   ]
  },
  {
   "cell_type": "code",
   "execution_count": 6,
   "metadata": {
    "ExecuteTime": {
     "end_time": "2022-09-30T12:56:00.274303Z",
     "start_time": "2022-09-30T12:56:00.262524Z"
    }
   },
   "outputs": [],
   "source": [
    "#df = pd.read_csv(\"drive/MyDrive/Colab_Files/data/fake_reg.csv\")"
   ]
  },
  {
   "cell_type": "code",
   "execution_count": 7,
   "metadata": {
    "ExecuteTime": {
     "end_time": "2022-09-30T12:56:00.311011Z",
     "start_time": "2022-09-30T12:56:00.276303Z"
    }
   },
   "outputs": [],
   "source": [
    "df = pd.read_csv(\"fake_reg.csv\")"
   ]
  },
  {
   "cell_type": "code",
   "execution_count": 8,
   "metadata": {
    "ExecuteTime": {
     "end_time": "2022-09-30T12:56:00.326903Z",
     "start_time": "2022-09-30T12:56:00.314107Z"
    }
   },
   "outputs": [
    {
     "data": {
      "text/plain": [
       "(1000, 3)"
      ]
     },
     "execution_count": 8,
     "metadata": {},
     "output_type": "execute_result"
    }
   ],
   "source": [
    "df.shape"
   ]
  },
  {
   "cell_type": "markdown",
   "metadata": {},
   "source": [
    "## Exploratory Data Analysis and Visualization"
   ]
  },
  {
   "cell_type": "code",
   "execution_count": 9,
   "metadata": {
    "ExecuteTime": {
     "end_time": "2022-09-30T12:56:00.342119Z",
     "start_time": "2022-09-30T12:56:00.329547Z"
    }
   },
   "outputs": [
    {
     "data": {
      "text/html": [
       "<div>\n",
       "<style scoped>\n",
       "    .dataframe tbody tr th:only-of-type {\n",
       "        vertical-align: middle;\n",
       "    }\n",
       "\n",
       "    .dataframe tbody tr th {\n",
       "        vertical-align: top;\n",
       "    }\n",
       "\n",
       "    .dataframe thead th {\n",
       "        text-align: right;\n",
       "    }\n",
       "</style>\n",
       "<table border=\"1\" class=\"dataframe\">\n",
       "  <thead>\n",
       "    <tr style=\"text-align: right;\">\n",
       "      <th></th>\n",
       "      <th>price</th>\n",
       "      <th>feature1</th>\n",
       "      <th>feature2</th>\n",
       "    </tr>\n",
       "  </thead>\n",
       "  <tbody>\n",
       "    <tr>\n",
       "      <th>0</th>\n",
       "      <td>461.528</td>\n",
       "      <td>999.788</td>\n",
       "      <td>999.766</td>\n",
       "    </tr>\n",
       "    <tr>\n",
       "      <th>1</th>\n",
       "      <td>548.130</td>\n",
       "      <td>998.862</td>\n",
       "      <td>1001.042</td>\n",
       "    </tr>\n",
       "    <tr>\n",
       "      <th>2</th>\n",
       "      <td>410.297</td>\n",
       "      <td>1000.070</td>\n",
       "      <td>998.844</td>\n",
       "    </tr>\n",
       "    <tr>\n",
       "      <th>3</th>\n",
       "      <td>540.382</td>\n",
       "      <td>999.952</td>\n",
       "      <td>1000.441</td>\n",
       "    </tr>\n",
       "    <tr>\n",
       "      <th>4</th>\n",
       "      <td>546.025</td>\n",
       "      <td>1000.446</td>\n",
       "      <td>1000.339</td>\n",
       "    </tr>\n",
       "  </tbody>\n",
       "</table>\n",
       "</div>"
      ],
      "text/plain": [
       "    price  feature1  feature2\n",
       "0 461.528   999.788   999.766\n",
       "1 548.130   998.862  1001.042\n",
       "2 410.297  1000.070   998.844\n",
       "3 540.382   999.952  1000.441\n",
       "4 546.025  1000.446  1000.339"
      ]
     },
     "execution_count": 9,
     "metadata": {},
     "output_type": "execute_result"
    }
   ],
   "source": [
    "df.head()"
   ]
  },
  {
   "cell_type": "code",
   "execution_count": 10,
   "metadata": {
    "ExecuteTime": {
     "end_time": "2022-09-30T12:56:00.362539Z",
     "start_time": "2022-09-30T12:56:00.345245Z"
    }
   },
   "outputs": [
    {
     "name": "stdout",
     "output_type": "stream",
     "text": [
      "<class 'pandas.core.frame.DataFrame'>\n",
      "RangeIndex: 1000 entries, 0 to 999\n",
      "Data columns (total 3 columns):\n",
      " #   Column    Non-Null Count  Dtype  \n",
      "---  ------    --------------  -----  \n",
      " 0   price     1000 non-null   float64\n",
      " 1   feature1  1000 non-null   float64\n",
      " 2   feature2  1000 non-null   float64\n",
      "dtypes: float64(3)\n",
      "memory usage: 23.6 KB\n"
     ]
    }
   ],
   "source": [
    "df.info()"
   ]
  },
  {
   "cell_type": "code",
   "execution_count": 11,
   "metadata": {
    "ExecuteTime": {
     "end_time": "2022-09-30T12:56:00.387365Z",
     "start_time": "2022-09-30T12:56:00.363817Z"
    }
   },
   "outputs": [
    {
     "data": {
      "text/html": [
       "<div>\n",
       "<style scoped>\n",
       "    .dataframe tbody tr th:only-of-type {\n",
       "        vertical-align: middle;\n",
       "    }\n",
       "\n",
       "    .dataframe tbody tr th {\n",
       "        vertical-align: top;\n",
       "    }\n",
       "\n",
       "    .dataframe thead th {\n",
       "        text-align: right;\n",
       "    }\n",
       "</style>\n",
       "<table border=\"1\" class=\"dataframe\">\n",
       "  <thead>\n",
       "    <tr style=\"text-align: right;\">\n",
       "      <th></th>\n",
       "      <th>count</th>\n",
       "      <th>mean</th>\n",
       "      <th>std</th>\n",
       "      <th>min</th>\n",
       "      <th>25%</th>\n",
       "      <th>50%</th>\n",
       "      <th>75%</th>\n",
       "      <th>max</th>\n",
       "    </tr>\n",
       "  </thead>\n",
       "  <tbody>\n",
       "    <tr>\n",
       "      <th>price</th>\n",
       "      <td>1000.000</td>\n",
       "      <td>498.673</td>\n",
       "      <td>93.785</td>\n",
       "      <td>223.347</td>\n",
       "      <td>433.026</td>\n",
       "      <td>502.382</td>\n",
       "      <td>564.922</td>\n",
       "      <td>774.408</td>\n",
       "    </tr>\n",
       "    <tr>\n",
       "      <th>feature1</th>\n",
       "      <td>1000.000</td>\n",
       "      <td>1000.014</td>\n",
       "      <td>0.974</td>\n",
       "      <td>997.058</td>\n",
       "      <td>999.332</td>\n",
       "      <td>1000.010</td>\n",
       "      <td>1000.638</td>\n",
       "      <td>1003.208</td>\n",
       "    </tr>\n",
       "    <tr>\n",
       "      <th>feature2</th>\n",
       "      <td>1000.000</td>\n",
       "      <td>999.980</td>\n",
       "      <td>0.948</td>\n",
       "      <td>996.996</td>\n",
       "      <td>999.316</td>\n",
       "      <td>1000.002</td>\n",
       "      <td>1000.645</td>\n",
       "      <td>1002.666</td>\n",
       "    </tr>\n",
       "  </tbody>\n",
       "</table>\n",
       "</div>"
      ],
      "text/plain": [
       "            count     mean    std     min     25%      50%      75%      max\n",
       "price    1000.000  498.673 93.785 223.347 433.026  502.382  564.922  774.408\n",
       "feature1 1000.000 1000.014  0.974 997.058 999.332 1000.010 1000.638 1003.208\n",
       "feature2 1000.000  999.980  0.948 996.996 999.316 1000.002 1000.645 1002.666"
      ]
     },
     "execution_count": 11,
     "metadata": {},
     "output_type": "execute_result"
    }
   ],
   "source": [
    "df.describe().T"
   ]
  },
  {
   "cell_type": "code",
   "execution_count": 12,
   "metadata": {
    "ExecuteTime": {
     "end_time": "2022-09-30T12:56:02.266321Z",
     "start_time": "2022-09-30T12:56:00.387365Z"
    }
   },
   "outputs": [
    {
     "data": {
      "image/png": "[encoded data removed]",
      "text/plain": [
       "<Figure size 540x540 with 12 Axes>"
      ]
     },
     "metadata": {},
     "output_type": "display_data"
    }
   ],
   "source": [
    "sns.pairplot(df);"
   ]
  },
  {
   "cell_type": "code",
   "execution_count": 13,
   "metadata": {
    "ExecuteTime": {
     "end_time": "2022-09-30T12:56:02.282421Z",
     "start_time": "2022-09-30T12:56:02.268149Z"
    }
   },
   "outputs": [
    {
     "data": {
      "text/html": [
       "<div>\n",
       "<style scoped>\n",
       "    .dataframe tbody tr th:only-of-type {\n",
       "        vertical-align: middle;\n",
       "    }\n",
       "\n",
       "    .dataframe tbody tr th {\n",
       "        vertical-align: top;\n",
       "    }\n",
       "\n",
       "    .dataframe thead th {\n",
       "        text-align: right;\n",
       "    }\n",
       "</style>\n",
       "<table border=\"1\" class=\"dataframe\">\n",
       "  <thead>\n",
       "    <tr style=\"text-align: right;\">\n",
       "      <th></th>\n",
       "      <th>price</th>\n",
       "      <th>feature1</th>\n",
       "      <th>feature2</th>\n",
       "    </tr>\n",
       "  </thead>\n",
       "  <tbody>\n",
       "    <tr>\n",
       "      <th>price</th>\n",
       "      <td>1.000</td>\n",
       "      <td>0.444</td>\n",
       "      <td>0.908</td>\n",
       "    </tr>\n",
       "    <tr>\n",
       "      <th>feature1</th>\n",
       "      <td>0.444</td>\n",
       "      <td>1.000</td>\n",
       "      <td>0.031</td>\n",
       "    </tr>\n",
       "    <tr>\n",
       "      <th>feature2</th>\n",
       "      <td>0.908</td>\n",
       "      <td>0.031</td>\n",
       "      <td>1.000</td>\n",
       "    </tr>\n",
       "  </tbody>\n",
       "</table>\n",
       "</div>"
      ],
      "text/plain": [
       "          price  feature1  feature2\n",
       "price     1.000     0.444     0.908\n",
       "feature1  0.444     1.000     0.031\n",
       "feature2  0.908     0.031     1.000"
      ]
     },
     "execution_count": 13,
     "metadata": {},
     "output_type": "execute_result"
    }
   ],
   "source": [
    "df.corr()"
   ]
  },
  {
   "cell_type": "markdown",
   "metadata": {},
   "source": [
    "## Preprocessing of Data\n",
    "- Train | Test Split, Scalling"
   ]
  },
  {
   "cell_type": "code",
   "execution_count": 14,
   "metadata": {
    "ExecuteTime": {
     "end_time": "2022-09-30T12:56:02.553908Z",
     "start_time": "2022-09-30T12:56:02.283986Z"
    }
   },
   "outputs": [],
   "source": [
    "from sklearn.model_selection import train_test_split"
   ]
  },
  {
   "cell_type": "code",
   "execution_count": 15,
   "metadata": {
    "ExecuteTime": {
     "end_time": "2022-09-30T12:56:02.566330Z",
     "start_time": "2022-09-30T12:56:02.555952Z"
    }
   },
   "outputs": [],
   "source": [
    "# X = df[['feature1', 'feature2']].values  # convert to array\n",
    "# y = df['price'].values"
   ]
  },
  {
   "cell_type": "code",
   "execution_count": 16,
   "metadata": {
    "ExecuteTime": {
     "end_time": "2022-09-30T12:56:02.579048Z",
     "start_time": "2022-09-30T12:56:02.566865Z"
    }
   },
   "outputs": [],
   "source": [
    "X = df[['feature1', 'feature2']] \n",
    "y = df['price']"
   ]
  },
  {
   "cell_type": "code",
   "execution_count": 17,
   "metadata": {
    "ExecuteTime": {
     "end_time": "2022-09-30T12:56:02.594991Z",
     "start_time": "2022-09-30T12:56:02.579646Z"
    }
   },
   "outputs": [
    {
     "data": {
      "text/html": [
       "<div>\n",
       "<style scoped>\n",
       "    .dataframe tbody tr th:only-of-type {\n",
       "        vertical-align: middle;\n",
       "    }\n",
       "\n",
       "    .dataframe tbody tr th {\n",
       "        vertical-align: top;\n",
       "    }\n",
       "\n",
       "    .dataframe thead th {\n",
       "        text-align: right;\n",
       "    }\n",
       "</style>\n",
       "<table border=\"1\" class=\"dataframe\">\n",
       "  <thead>\n",
       "    <tr style=\"text-align: right;\">\n",
       "      <th></th>\n",
       "      <th>feature1</th>\n",
       "      <th>feature2</th>\n",
       "    </tr>\n",
       "  </thead>\n",
       "  <tbody>\n",
       "    <tr>\n",
       "      <th>0</th>\n",
       "      <td>999.788</td>\n",
       "      <td>999.766</td>\n",
       "    </tr>\n",
       "    <tr>\n",
       "      <th>1</th>\n",
       "      <td>998.862</td>\n",
       "      <td>1001.042</td>\n",
       "    </tr>\n",
       "    <tr>\n",
       "      <th>2</th>\n",
       "      <td>1000.070</td>\n",
       "      <td>998.844</td>\n",
       "    </tr>\n",
       "    <tr>\n",
       "      <th>3</th>\n",
       "      <td>999.952</td>\n",
       "      <td>1000.441</td>\n",
       "    </tr>\n",
       "    <tr>\n",
       "      <th>4</th>\n",
       "      <td>1000.446</td>\n",
       "      <td>1000.339</td>\n",
       "    </tr>\n",
       "    <tr>\n",
       "      <th>...</th>\n",
       "      <td>...</td>\n",
       "      <td>...</td>\n",
       "    </tr>\n",
       "    <tr>\n",
       "      <th>995</th>\n",
       "      <td>1000.019</td>\n",
       "      <td>999.673</td>\n",
       "    </tr>\n",
       "    <tr>\n",
       "      <th>996</th>\n",
       "      <td>998.855</td>\n",
       "      <td>1000.020</td>\n",
       "    </tr>\n",
       "    <tr>\n",
       "      <th>997</th>\n",
       "      <td>1001.452</td>\n",
       "      <td>998.848</td>\n",
       "    </tr>\n",
       "    <tr>\n",
       "      <th>998</th>\n",
       "      <td>1000.771</td>\n",
       "      <td>998.563</td>\n",
       "    </tr>\n",
       "    <tr>\n",
       "      <th>999</th>\n",
       "      <td>999.232</td>\n",
       "      <td>1001.451</td>\n",
       "    </tr>\n",
       "  </tbody>\n",
       "</table>\n",
       "<p>1000 rows × 2 columns</p>\n",
       "</div>"
      ],
      "text/plain": [
       "     feature1  feature2\n",
       "0     999.788   999.766\n",
       "1     998.862  1001.042\n",
       "2    1000.070   998.844\n",
       "3     999.952  1000.441\n",
       "4    1000.446  1000.339\n",
       "..        ...       ...\n",
       "995  1000.019   999.673\n",
       "996   998.855  1000.020\n",
       "997  1001.452   998.848\n",
       "998  1000.771   998.563\n",
       "999   999.232  1001.451\n",
       "\n",
       "[1000 rows x 2 columns]"
      ]
     },
     "execution_count": 17,
     "metadata": {},
     "output_type": "execute_result"
    }
   ],
   "source": [
    "X"
   ]
  },
  {
   "cell_type": "code",
   "execution_count": 18,
   "metadata": {
    "ExecuteTime": {
     "end_time": "2022-09-30T12:56:02.610617Z",
     "start_time": "2022-09-30T12:56:02.596401Z"
    }
   },
   "outputs": [
    {
     "data": {
      "text/plain": [
       "0     461.528\n",
       "1     548.130\n",
       "2     410.297\n",
       "3     540.382\n",
       "4     546.025\n",
       "        ...  \n",
       "995   476.526\n",
       "996   457.313\n",
       "997   456.721\n",
       "998   403.316\n",
       "999   599.367\n",
       "Name: price, Length: 1000, dtype: float64"
      ]
     },
     "execution_count": 18,
     "metadata": {},
     "output_type": "execute_result"
    }
   ],
   "source": [
    "y"
   ]
  },
  {
   "cell_type": "code",
   "execution_count": 19,
   "metadata": {
    "ExecuteTime": {
     "end_time": "2022-09-30T12:56:02.628745Z",
     "start_time": "2022-09-30T12:56:02.612527Z"
    }
   },
   "outputs": [],
   "source": [
    "X_train, X_test, y_train, y_test = train_test_split(X, y, test_size = 0.3, random_state = 42)"
   ]
  },
  {
   "cell_type": "code",
   "execution_count": 20,
   "metadata": {
    "ExecuteTime": {
     "end_time": "2022-09-30T12:56:02.643895Z",
     "start_time": "2022-09-30T12:56:02.628745Z"
    }
   },
   "outputs": [
    {
     "data": {
      "text/plain": [
       "(700, 2)"
      ]
     },
     "execution_count": 20,
     "metadata": {},
     "output_type": "execute_result"
    }
   ],
   "source": [
    "X_train.shape"
   ]
  },
  {
   "cell_type": "code",
   "execution_count": 21,
   "metadata": {
    "ExecuteTime": {
     "end_time": "2022-09-30T12:56:02.659746Z",
     "start_time": "2022-09-30T12:56:02.644455Z"
    }
   },
   "outputs": [
    {
     "data": {
      "text/plain": [
       "(300, 2)"
      ]
     },
     "execution_count": 21,
     "metadata": {},
     "output_type": "execute_result"
    }
   ],
   "source": [
    "X_test.shape"
   ]
  },
  {
   "cell_type": "code",
   "execution_count": 22,
   "metadata": {
    "ExecuteTime": {
     "end_time": "2022-09-30T12:56:02.675328Z",
     "start_time": "2022-09-30T12:56:02.660817Z"
    }
   },
   "outputs": [],
   "source": [
    "from sklearn.preprocessing import MinMaxScaler"
   ]
  },
  {
   "cell_type": "code",
   "execution_count": 23,
   "metadata": {
    "ExecuteTime": {
     "end_time": "2022-09-30T12:56:02.694997Z",
     "start_time": "2022-09-30T12:56:02.677414Z"
    }
   },
   "outputs": [],
   "source": [
    "# help(MinMaxScaler)"
   ]
  },
  {
   "cell_type": "code",
   "execution_count": 24,
   "metadata": {
    "ExecuteTime": {
     "end_time": "2022-09-30T12:56:02.710567Z",
     "start_time": "2022-09-30T12:56:02.696571Z"
    }
   },
   "outputs": [],
   "source": [
    "scaler = MinMaxScaler()"
   ]
  },
  {
   "cell_type": "code",
   "execution_count": 25,
   "metadata": {
    "ExecuteTime": {
     "end_time": "2022-09-30T12:56:02.728344Z",
     "start_time": "2022-09-30T12:56:02.712212Z"
    }
   },
   "outputs": [],
   "source": [
    "# Gradient Descent te 0 ile 1 arasında çekmek işimizi kolaylaştırır.\n",
    "scaler.fit(X_train)\n",
    "X_train = scaler.transform(X_train)\n",
    "X_test = scaler.transform(X_test)"
   ]
  },
  {
   "cell_type": "markdown",
   "metadata": {},
   "source": [
    "## Modelling"
   ]
  },
  {
   "cell_type": "code",
   "execution_count": 26,
   "metadata": {
    "ExecuteTime": {
     "end_time": "2022-09-30T12:56:02.744082Z",
     "start_time": "2022-09-30T12:56:02.728344Z"
    }
   },
   "outputs": [],
   "source": [
    "import tensorflow as tf"
   ]
  },
  {
   "cell_type": "code",
   "execution_count": 27,
   "metadata": {
    "ExecuteTime": {
     "end_time": "2022-09-30T12:56:02.759652Z",
     "start_time": "2022-09-30T12:56:02.746573Z"
    }
   },
   "outputs": [],
   "source": [
    "from tensorflow.keras.models import Sequential\n",
    "from tensorflow.keras.layers import Input,Dense, Activation"
   ]
  },
  {
   "cell_type": "code",
   "execution_count": 28,
   "metadata": {
    "ExecuteTime": {
     "end_time": "2022-09-30T12:56:02.777046Z",
     "start_time": "2022-09-30T12:56:02.762034Z"
    }
   },
   "outputs": [],
   "source": [
    "# help(Sequential)"
   ]
  },
  {
   "cell_type": "code",
   "execution_count": 29,
   "metadata": {
    "ExecuteTime": {
     "end_time": "2022-09-30T12:56:02.795699Z",
     "start_time": "2022-09-30T12:56:02.779073Z"
    }
   },
   "outputs": [],
   "source": [
    "# help(Dense)"
   ]
  },
  {
   "cell_type": "code",
   "execution_count": 30,
   "metadata": {
    "ExecuteTime": {
     "end_time": "2022-09-30T12:56:02.811650Z",
     "start_time": "2022-09-30T12:56:02.797924Z"
    }
   },
   "outputs": [
    {
     "data": {
      "text/plain": [
       "(700, 2)"
      ]
     },
     "execution_count": 30,
     "metadata": {},
     "output_type": "execute_result"
    }
   ],
   "source": [
    "X_train.shape"
   ]
  },
  {
   "cell_type": "code",
   "execution_count": 31,
   "metadata": {
    "ExecuteTime": {
     "end_time": "2022-09-30T12:56:04.263815Z",
     "start_time": "2022-09-30T12:56:02.814579Z"
    }
   },
   "outputs": [],
   "source": [
    "# First way to create model\n",
    "\n",
    "model = Sequential([Input(shape = X_train.shape[1]),\n",
    "                    Dense(units = 4, activation = \"relu\"), # first hidden layer\n",
    "                    Dense(units = 4, activation = \"relu\"), # second hidden layer\n",
    "                    Dense(units = 4, activation = \"relu\"), # third hidden layer\n",
    "                    Dense(units = 1)])# last layer katman(single neuron because it is  regression problem. default activation is linear)\n",
    "\n",
    "# Sequential: Ard arda bağlı olacak model tipimiz\n",
    "# Input içine de yazabiliriz ayrı ayrı da yazabiliriz alttaki gibi\n",
    "# Dense : Fully connected layer eklemek demek\n",
    "# units=4 : 4 nöron olacak(o layer da)\n",
    "# activation : aktivasyon fonksiyonumuz \"relu\" olacak \n",
    "# input_dim = X_train.shape[1]  /  Input(shape = X_train.shape[1] : Giriş datamın shape i (Bağımsız feature(değişken) sayısı kadar)\n"
   ]
  },
  {
   "cell_type": "code",
   "execution_count": 32,
   "metadata": {
    "ExecuteTime": {
     "end_time": "2022-09-30T12:56:04.340582Z",
     "start_time": "2022-09-30T12:56:04.267392Z"
    }
   },
   "outputs": [],
   "source": [
    "# Second way to create model (recommended)\n",
    "\n",
    "model = Sequential()\n",
    "\n",
    "# model.add(Input(shape = X_train.shape[1]))\n",
    "model.add(Dense(units = 4, activation = \"relu\", input_dim = X_train.shape[1])) # first hidden layer\n",
    "model.add(Dense(units = 4, activation = \"relu\")) # second hidden layer\n",
    "model.add(Dense(units = 4, activation = \"relu\")) # third hidden layer\n",
    "model.add(Dense(units = 1)) # last layer katman(single neuron because it is  regression problem. default activation is linear)\n",
    "\n",
    "# Bu sayıları belirlemenin net bir yolu yok bunu dataya bakarak karar vereceğiz\n",
    "# Az feature var o yüzden çok hidden layer a gerek yok. Aslında 3 hidden layer da fazla\n",
    "# Data büyükse nöronlar arttırılabilir, layerlar arttırılabilir vs"
   ]
  },
  {
   "cell_type": "code",
   "execution_count": 33,
   "metadata": {
    "ExecuteTime": {
     "end_time": "2022-09-30T12:56:04.371603Z",
     "start_time": "2022-09-30T12:56:04.342466Z"
    }
   },
   "outputs": [
    {
     "name": "stdout",
     "output_type": "stream",
     "text": [
      "Model: \"sequential_1\"\n",
      "_________________________________________________________________\n",
      " Layer (type)                Output Shape              Param #   \n",
      "=================================================================\n",
      " dense_4 (Dense)             (None, 4)                 12        \n",
      "                                                                 \n",
      " dense_5 (Dense)             (None, 4)                 20        \n",
      "                                                                 \n",
      " dense_6 (Dense)             (None, 4)                 20        \n",
      "                                                                 \n",
      " dense_7 (Dense)             (None, 1)                 5         \n",
      "                                                                 \n",
      "=================================================================\n",
      "Total params: 57\n",
      "Trainable params: 57\n",
      "Non-trainable params: 0\n",
      "_________________________________________________________________\n"
     ]
    }
   ],
   "source": [
    "model.summary()\n",
    "# birinci satır\n",
    "    # Birinci katmanda 4 nöron varmış\n",
    "    # Batch_size olmadığı için None veriyor\n",
    "    # Param = 12  .. 4 eşik ve 2(input layer) x 4(birinci hidden layer)=8 toplam 12"
   ]
  },
  {
   "cell_type": "code",
   "execution_count": 34,
   "metadata": {
    "ExecuteTime": {
     "end_time": "2022-09-30T12:56:04.402477Z",
     "start_time": "2022-09-30T12:56:04.372148Z"
    }
   },
   "outputs": [
    {
     "data": {
      "text/plain": [
       "[<tf.Variable 'dense_4/kernel:0' shape=(2, 4) dtype=float32, numpy=\n",
       " array([[ 0.2890098 ,  0.35031104, -0.58980155,  0.72489357],\n",
       "        [ 0.9090154 ,  0.20309305, -0.01033354,  0.45502043]],\n",
       "       dtype=float32)>,\n",
       " <tf.Variable 'dense_4/bias:0' shape=(4,) dtype=float32, numpy=array([0., 0., 0., 0.], dtype=float32)>,\n",
       " <tf.Variable 'dense_5/kernel:0' shape=(4, 4) dtype=float32, numpy=\n",
       " array([[ 0.2388969 , -0.36118776, -0.64190745,  0.45851415],\n",
       "        [-0.72786343,  0.01616526, -0.69745195,  0.6142772 ],\n",
       "        [ 0.12512314,  0.809328  ,  0.85862094, -0.66685027],\n",
       "        [-0.55980456, -0.13799965,  0.11924124, -0.8425007 ]],\n",
       "       dtype=float32)>,\n",
       " <tf.Variable 'dense_5/bias:0' shape=(4,) dtype=float32, numpy=array([0., 0., 0., 0.], dtype=float32)>,\n",
       " <tf.Variable 'dense_6/kernel:0' shape=(4, 4) dtype=float32, numpy=\n",
       " array([[ 0.32153565,  0.7474703 , -0.4229833 ,  0.72201806],\n",
       "        [ 0.10355544,  0.8382949 , -0.02310658, -0.5498537 ],\n",
       "        [-0.6075729 , -0.49007764,  0.05378324,  0.15621978],\n",
       "        [ 0.45032054,  0.33512157, -0.10767341, -0.6296781 ]],\n",
       "       dtype=float32)>,\n",
       " <tf.Variable 'dense_6/bias:0' shape=(4,) dtype=float32, numpy=array([0., 0., 0., 0.], dtype=float32)>,\n",
       " <tf.Variable 'dense_7/kernel:0' shape=(4, 1) dtype=float32, numpy=\n",
       " array([[-0.85930324],\n",
       "        [ 0.99966455],\n",
       "        [ 1.084918  ],\n",
       "        [-0.5426723 ]], dtype=float32)>,\n",
       " <tf.Variable 'dense_7/bias:0' shape=(1,) dtype=float32, numpy=array([0.], dtype=float32)>]"
      ]
     },
     "execution_count": 34,
     "metadata": {},
     "output_type": "execute_result"
    }
   ],
   "source": [
    "model.weights\n",
    "# Bias leri genelde ilk başta 0 alıyor\n",
    "# Weightleri random atıyor."
   ]
  },
  {
   "cell_type": "markdown",
   "metadata": {},
   "source": [
    "### Choosing an optimizer and loss\n",
    "\n",
    "Keep in mind what kind of problem you are trying to solve:\n",
    "\n",
    "    # For a multi-class classification problem\n",
    "    model.compile(optimizer='rmsprop',\n",
    "                  loss='categorical_crossentropy',\n",
    "                  metrics=['accuracy'])\n",
    "\n",
    "    # For a binary classification problem\n",
    "    model.compile(optimizer='rmsprop',\n",
    "                  loss='binary_crossentropy',\n",
    "                  metrics=['accuracy'])\n",
    "\n",
    "    # For a mean squared error regression problem\n",
    "    model.compile(optimizer='rmsprop',\n",
    "                  loss='mse')"
   ]
  },
  {
   "cell_type": "code",
   "execution_count": 47,
   "metadata": {
    "ExecuteTime": {
     "end_time": "2022-09-29T19:40:12.966056Z",
     "start_time": "2022-09-29T19:40:12.956502Z"
    }
   },
   "outputs": [],
   "source": [
    "model.compile(optimizer = \"rmsprop\", loss = \"mse\")"
   ]
  },
  {
   "cell_type": "code",
   "execution_count": 48,
   "metadata": {
    "ExecuteTime": {
     "end_time": "2022-09-29T19:40:20.666529Z",
     "start_time": "2022-09-29T19:40:13.532943Z"
    }
   },
   "outputs": [
    {
     "name": "stdout",
     "output_type": "stream",
     "text": [
      "Epoch 1/250\n",
      "22/22 [==============================] - 1s 1ms/step - loss: 256530.2344\n",
      "Epoch 2/250\n",
      "22/22 [==============================] - 0s 1ms/step - loss: 256344.8750\n",
      "Epoch 3/250\n",
      "22/22 [==============================] - 0s 1ms/step - loss: 256144.9531\n",
      "Epoch 4/250\n",
      "22/22 [==============================] - 0s 1ms/step - loss: 255917.5312\n",
      "Epoch 5/250\n",
      "22/22 [==============================] - 0s 1ms/step - loss: 255657.9375\n",
      "Epoch 6/250\n",
      "22/22 [==============================] - 0s 1ms/step - loss: 255361.1250\n",
      "Epoch 7/250\n",
      "22/22 [==============================] - 0s 1ms/step - loss: 255026.1094\n",
      "Epoch 8/250\n",
      "22/22 [==============================] - 0s 1ms/step - loss: 254651.3594\n",
      "Epoch 9/250\n",
      "22/22 [==============================] - 0s 1ms/step - loss: 254231.5469\n",
      "Epoch 10/250\n",
      "22/22 [==============================] - 0s 997us/step - loss: 253761.6406\n",
      "Epoch 11/250\n",
      "22/22 [==============================] - 0s 1ms/step - loss: 253227.0781\n",
      "Epoch 12/250\n",
      "22/22 [==============================] - 0s 1ms/step - loss: 252624.6406\n",
      "Epoch 13/250\n",
      "22/22 [==============================] - 0s 972us/step - loss: 251944.0938\n",
      "Epoch 14/250\n",
      "22/22 [==============================] - 0s 1ms/step - loss: 251180.5000\n",
      "Epoch 15/250\n",
      "22/22 [==============================] - 0s 1ms/step - loss: 250313.4219\n",
      "Epoch 16/250\n",
      "22/22 [==============================] - 0s 918us/step - loss: 249342.4062\n",
      "Epoch 17/250\n",
      "22/22 [==============================] - 0s 1ms/step - loss: 248257.0781\n",
      "Epoch 18/250\n",
      "22/22 [==============================] - 0s 979us/step - loss: 247047.2188\n",
      "Epoch 19/250\n",
      "22/22 [==============================] - 0s 903us/step - loss: 245704.4531\n",
      "Epoch 20/250\n",
      "22/22 [==============================] - 0s 1ms/step - loss: 244232.7031\n",
      "Epoch 21/250\n",
      "22/22 [==============================] - 0s 1ms/step - loss: 242624.5000\n",
      "Epoch 22/250\n",
      "22/22 [==============================] - 0s 1ms/step - loss: 240868.7500\n",
      "Epoch 23/250\n",
      "22/22 [==============================] - 0s 1ms/step - loss: 238957.9219\n",
      "Epoch 24/250\n",
      "22/22 [==============================] - 0s 1ms/step - loss: 236884.8750\n",
      "Epoch 25/250\n",
      "22/22 [==============================] - 0s 1ms/step - loss: 234638.9062\n",
      "Epoch 26/250\n",
      "22/22 [==============================] - 0s 1ms/step - loss: 232213.9688\n",
      "Epoch 27/250\n",
      "22/22 [==============================] - 0s 896us/step - loss: 229598.1719\n",
      "Epoch 28/250\n",
      "22/22 [==============================] - 0s 864us/step - loss: 226791.8438\n",
      "Epoch 29/250\n",
      "22/22 [==============================] - 0s 871us/step - loss: 223786.0625\n",
      "Epoch 30/250\n",
      "22/22 [==============================] - 0s 1ms/step - loss: 220582.0781\n",
      "Epoch 31/250\n",
      "22/22 [==============================] - 0s 983us/step - loss: 217160.0469\n",
      "Epoch 32/250\n",
      "22/22 [==============================] - 0s 990us/step - loss: 213490.9688\n",
      "Epoch 33/250\n",
      "22/22 [==============================] - 0s 1ms/step - loss: 209557.8438\n",
      "Epoch 34/250\n",
      "22/22 [==============================] - 0s 1ms/step - loss: 205396.7500\n",
      "Epoch 35/250\n",
      "22/22 [==============================] - 0s 1ms/step - loss: 200963.4219\n",
      "Epoch 36/250\n",
      "22/22 [==============================] - 0s 1ms/step - loss: 196277.8906\n",
      "Epoch 37/250\n",
      "22/22 [==============================] - 0s 986us/step - loss: 191320.0938\n",
      "Epoch 38/250\n",
      "22/22 [==============================] - 0s 1ms/step - loss: 186083.4375\n",
      "Epoch 39/250\n",
      "22/22 [==============================] - 0s 952us/step - loss: 180579.7188\n",
      "Epoch 40/250\n",
      "22/22 [==============================] - 0s 921us/step - loss: 174836.0938\n",
      "Epoch 41/250\n",
      "22/22 [==============================] - 0s 1ms/step - loss: 168819.1719\n",
      "Epoch 42/250\n",
      "22/22 [==============================] - 0s 953us/step - loss: 162542.0156\n",
      "Epoch 43/250\n",
      "22/22 [==============================] - 0s 1ms/step - loss: 156005.9062\n",
      "Epoch 44/250\n",
      "22/22 [==============================] - 0s 1ms/step - loss: 149223.5625\n",
      "Epoch 45/250\n",
      "22/22 [==============================] - 0s 1ms/step - loss: 142245.7969\n",
      "Epoch 46/250\n",
      "22/22 [==============================] - 0s 1ms/step - loss: 135019.6719\n",
      "Epoch 47/250\n",
      "22/22 [==============================] - 0s 1ms/step - loss: 127628.3984\n",
      "Epoch 48/250\n",
      "22/22 [==============================] - 0s 1ms/step - loss: 120016.7578\n",
      "Epoch 49/250\n",
      "22/22 [==============================] - 0s 2ms/step - loss: 112285.6797\n",
      "Epoch 50/250\n",
      "22/22 [==============================] - 0s 947us/step - loss: 104410.5625\n",
      "Epoch 51/250\n",
      "22/22 [==============================] - 0s 824us/step - loss: 96452.9609\n",
      "Epoch 52/250\n",
      "22/22 [==============================] - 0s 962us/step - loss: 88488.5547\n",
      "Epoch 53/250\n",
      "22/22 [==============================] - 0s 1ms/step - loss: 80438.9609\n",
      "Epoch 54/250\n",
      "22/22 [==============================] - 0s 1ms/step - loss: 72506.0625\n",
      "Epoch 55/250\n",
      "22/22 [==============================] - 0s 909us/step - loss: 64618.4062\n",
      "Epoch 56/250\n",
      "22/22 [==============================] - 0s 938us/step - loss: 56939.7266\n",
      "Epoch 57/250\n",
      "22/22 [==============================] - 0s 878us/step - loss: 49399.6328\n",
      "Epoch 58/250\n",
      "22/22 [==============================] - 0s 986us/step - loss: 42186.5117\n",
      "Epoch 59/250\n",
      "22/22 [==============================] - 0s 994us/step - loss: 35331.9922\n",
      "Epoch 60/250\n",
      "22/22 [==============================] - 0s 1ms/step - loss: 28892.3379\n",
      "Epoch 61/250\n",
      "22/22 [==============================] - 0s 1ms/step - loss: 23003.1094\n",
      "Epoch 62/250\n",
      "22/22 [==============================] - 0s 1ms/step - loss: 17742.2324\n",
      "Epoch 63/250\n",
      "22/22 [==============================] - 0s 1ms/step - loss: 13147.9189\n",
      "Epoch 64/250\n",
      "22/22 [==============================] - 0s 1ms/step - loss: 9388.1875\n",
      "Epoch 65/250\n",
      "22/22 [==============================] - 0s 1ms/step - loss: 6486.5859\n",
      "Epoch 66/250\n",
      "22/22 [==============================] - 0s 960us/step - loss: 4511.6650\n",
      "Epoch 67/250\n",
      "22/22 [==============================] - 0s 1ms/step - loss: 3451.6482\n",
      "Epoch 68/250\n",
      "22/22 [==============================] - 0s 1ms/step - loss: 3126.0415\n",
      "Epoch 69/250\n",
      "22/22 [==============================] - 0s 1ms/step - loss: 3055.8022\n",
      "Epoch 70/250\n",
      "22/22 [==============================] - 0s 1ms/step - loss: 2992.9968\n",
      "Epoch 71/250\n",
      "22/22 [==============================] - 0s 1ms/step - loss: 2938.7422\n",
      "Epoch 72/250\n",
      "22/22 [==============================] - 0s 1ms/step - loss: 2885.9451\n",
      "Epoch 73/250\n",
      "22/22 [==============================] - 0s 1ms/step - loss: 2833.1379\n",
      "Epoch 74/250\n",
      "22/22 [==============================] - 0s 1ms/step - loss: 2780.0476\n",
      "Epoch 75/250\n",
      "22/22 [==============================] - 0s 1ms/step - loss: 2729.2695\n",
      "Epoch 76/250\n",
      "22/22 [==============================] - 0s 1ms/step - loss: 2673.4453\n",
      "Epoch 77/250\n",
      "22/22 [==============================] - 0s 1ms/step - loss: 2624.8289\n",
      "Epoch 78/250\n",
      "22/22 [==============================] - 0s 1ms/step - loss: 2575.7498\n",
      "Epoch 79/250\n",
      "22/22 [==============================] - 0s 1ms/step - loss: 2524.3418\n",
      "Epoch 80/250\n",
      "22/22 [==============================] - 0s 1ms/step - loss: 2464.3567\n",
      "Epoch 81/250\n",
      "22/22 [==============================] - 0s 1ms/step - loss: 2417.6145\n",
      "Epoch 82/250\n",
      "22/22 [==============================] - 0s 931us/step - loss: 2364.3796\n",
      "Epoch 83/250\n",
      "22/22 [==============================] - 0s 946us/step - loss: 2324.7256\n",
      "Epoch 84/250\n",
      "22/22 [==============================] - 0s 1ms/step - loss: 2269.1548\n",
      "Epoch 85/250\n",
      "22/22 [==============================] - 0s 1ms/step - loss: 2216.3579\n",
      "Epoch 86/250\n",
      "22/22 [==============================] - 0s 1ms/step - loss: 2161.9338\n",
      "Epoch 87/250\n",
      "22/22 [==============================] - 0s 1ms/step - loss: 2112.4548\n",
      "Epoch 88/250\n",
      "22/22 [==============================] - 0s 1ms/step - loss: 2064.2505\n",
      "Epoch 89/250\n",
      "22/22 [==============================] - 0s 1ms/step - loss: 2018.9677\n",
      "Epoch 90/250\n",
      "22/22 [==============================] - 0s 908us/step - loss: 1974.1064\n",
      "Epoch 91/250\n",
      "22/22 [==============================] - 0s 1ms/step - loss: 1924.1346\n",
      "Epoch 92/250\n",
      "22/22 [==============================] - 0s 1ms/step - loss: 1878.8848\n",
      "Epoch 93/250\n",
      "22/22 [==============================] - 0s 1ms/step - loss: 1831.6973\n",
      "Epoch 94/250\n",
      "22/22 [==============================] - 0s 1ms/step - loss: 1781.7148\n",
      "Epoch 95/250\n",
      "22/22 [==============================] - 0s 1ms/step - loss: 1740.4568\n",
      "Epoch 96/250\n",
      "22/22 [==============================] - 0s 1ms/step - loss: 1693.8187\n",
      "Epoch 97/250\n",
      "22/22 [==============================] - 0s 1ms/step - loss: 1650.7126\n",
      "Epoch 98/250\n",
      "22/22 [==============================] - 0s 1ms/step - loss: 1604.5468\n",
      "Epoch 99/250\n",
      "22/22 [==============================] - 0s 1ms/step - loss: 1557.4264\n",
      "Epoch 100/250\n",
      "22/22 [==============================] - 0s 1ms/step - loss: 1520.6548\n",
      "Epoch 101/250\n",
      "22/22 [==============================] - 0s 1ms/step - loss: 1474.0238\n",
      "Epoch 102/250\n",
      "22/22 [==============================] - 0s 1ms/step - loss: 1427.9916\n",
      "Epoch 103/250\n",
      "22/22 [==============================] - 0s 1ms/step - loss: 1390.2482\n",
      "Epoch 104/250\n",
      "22/22 [==============================] - 0s 1ms/step - loss: 1351.5466\n",
      "Epoch 105/250\n",
      "22/22 [==============================] - 0s 1ms/step - loss: 1318.5420\n",
      "Epoch 106/250\n",
      "22/22 [==============================] - 0s 1ms/step - loss: 1274.1938\n",
      "Epoch 107/250\n",
      "22/22 [==============================] - 0s 883us/step - loss: 1241.4983\n",
      "Epoch 108/250\n",
      "22/22 [==============================] - 0s 816us/step - loss: 1200.0927\n",
      "Epoch 109/250\n",
      "22/22 [==============================] - 0s 992us/step - loss: 1161.9630\n",
      "Epoch 110/250\n",
      "22/22 [==============================] - 0s 871us/step - loss: 1125.7000\n",
      "Epoch 111/250\n",
      "22/22 [==============================] - 0s 843us/step - loss: 1091.8145\n",
      "Epoch 112/250\n",
      "22/22 [==============================] - 0s 961us/step - loss: 1056.1912\n",
      "Epoch 113/250\n",
      "22/22 [==============================] - 0s 839us/step - loss: 1017.6099\n",
      "Epoch 114/250\n",
      "22/22 [==============================] - 0s 853us/step - loss: 984.2554\n",
      "Epoch 115/250\n",
      "22/22 [==============================] - 0s 822us/step - loss: 946.6633\n",
      "Epoch 116/250\n",
      "22/22 [==============================] - 0s 762us/step - loss: 907.2182\n",
      "Epoch 117/250\n",
      "22/22 [==============================] - 0s 730us/step - loss: 872.1697\n",
      "Epoch 118/250\n",
      "22/22 [==============================] - 0s 957us/step - loss: 835.6600\n",
      "Epoch 119/250\n",
      "22/22 [==============================] - 0s 1ms/step - loss: 805.6165\n",
      "Epoch 120/250\n",
      "22/22 [==============================] - 0s 1ms/step - loss: 775.6088\n",
      "Epoch 121/250\n",
      "22/22 [==============================] - 0s 1ms/step - loss: 740.7683\n",
      "Epoch 122/250\n",
      "22/22 [==============================] - 0s 1ms/step - loss: 710.1154\n",
      "Epoch 123/250\n",
      "22/22 [==============================] - 0s 1ms/step - loss: 684.7774\n",
      "Epoch 124/250\n",
      "22/22 [==============================] - 0s 1ms/step - loss: 650.2726\n",
      "Epoch 125/250\n",
      "22/22 [==============================] - 0s 1ms/step - loss: 623.7682\n",
      "Epoch 126/250\n",
      "22/22 [==============================] - 0s 1ms/step - loss: 594.8794\n",
      "Epoch 127/250\n",
      "22/22 [==============================] - 0s 1ms/step - loss: 565.4843\n",
      "Epoch 128/250\n",
      "22/22 [==============================] - 0s 2ms/step - loss: 537.4042\n",
      "Epoch 129/250\n",
      "22/22 [==============================] - 0s 829us/step - loss: 510.1766\n",
      "Epoch 130/250\n",
      "22/22 [==============================] - 0s 863us/step - loss: 486.2599\n",
      "Epoch 131/250\n",
      "22/22 [==============================] - 0s 945us/step - loss: 459.9742\n",
      "Epoch 132/250\n",
      "22/22 [==============================] - 0s 899us/step - loss: 432.9966\n",
      "Epoch 133/250\n",
      "22/22 [==============================] - 0s 889us/step - loss: 414.6296\n",
      "Epoch 134/250\n",
      "22/22 [==============================] - 0s 918us/step - loss: 389.9752\n",
      "Epoch 135/250\n",
      "22/22 [==============================] - 0s 1ms/step - loss: 369.1560\n",
      "Epoch 136/250\n",
      "22/22 [==============================] - 0s 1ms/step - loss: 346.0526\n",
      "Epoch 137/250\n",
      "22/22 [==============================] - 0s 986us/step - loss: 326.5726\n",
      "Epoch 138/250\n",
      "22/22 [==============================] - 0s 923us/step - loss: 308.8909\n",
      "Epoch 139/250\n",
      "22/22 [==============================] - 0s 784us/step - loss: 287.7380\n",
      "Epoch 140/250\n",
      "22/22 [==============================] - 0s 864us/step - loss: 269.0788\n",
      "Epoch 141/250\n",
      "22/22 [==============================] - 0s 1ms/step - loss: 250.1806\n",
      "Epoch 142/250\n",
      "22/22 [==============================] - 0s 739us/step - loss: 229.2361\n",
      "Epoch 143/250\n",
      "22/22 [==============================] - 0s 1ms/step - loss: 215.4735\n",
      "Epoch 144/250\n",
      "22/22 [==============================] - 0s 759us/step - loss: 198.4754\n",
      "Epoch 145/250\n",
      "22/22 [==============================] - 0s 827us/step - loss: 181.0820\n",
      "Epoch 146/250\n",
      "22/22 [==============================] - 0s 792us/step - loss: 165.0383\n",
      "Epoch 147/250\n",
      "22/22 [==============================] - 0s 856us/step - loss: 152.2952\n",
      "Epoch 148/250\n",
      "22/22 [==============================] - 0s 831us/step - loss: 137.2427\n",
      "Epoch 149/250\n",
      "22/22 [==============================] - 0s 754us/step - loss: 124.6145\n",
      "Epoch 150/250\n",
      "22/22 [==============================] - 0s 926us/step - loss: 112.9733\n",
      "Epoch 151/250\n",
      "22/22 [==============================] - 0s 1ms/step - loss: 102.9325\n",
      "Epoch 152/250\n",
      "22/22 [==============================] - 0s 743us/step - loss: 92.2193\n",
      "Epoch 153/250\n",
      "22/22 [==============================] - 0s 1ms/step - loss: 84.2934\n",
      "Epoch 154/250\n",
      "22/22 [==============================] - 0s 863us/step - loss: 76.5131\n",
      "Epoch 155/250\n",
      "22/22 [==============================] - 0s 767us/step - loss: 69.6919\n",
      "Epoch 156/250\n",
      "22/22 [==============================] - 0s 843us/step - loss: 63.3972\n",
      "Epoch 157/250\n",
      "22/22 [==============================] - 0s 847us/step - loss: 57.8758\n",
      "Epoch 158/250\n",
      "22/22 [==============================] - 0s 876us/step - loss: 52.6448\n",
      "Epoch 159/250\n",
      "22/22 [==============================] - 0s 793us/step - loss: 47.9002\n",
      "Epoch 160/250\n",
      "22/22 [==============================] - 0s 752us/step - loss: 43.3956\n",
      "Epoch 161/250\n",
      "22/22 [==============================] - 0s 758us/step - loss: 39.8296\n",
      "Epoch 162/250\n",
      "22/22 [==============================] - 0s 837us/step - loss: 37.4668\n",
      "Epoch 163/250\n",
      "22/22 [==============================] - 0s 868us/step - loss: 34.7845\n",
      "Epoch 164/250\n",
      "22/22 [==============================] - 0s 882us/step - loss: 33.3246\n",
      "Epoch 165/250\n",
      "22/22 [==============================] - 0s 774us/step - loss: 31.3681\n",
      "Epoch 166/250\n",
      "22/22 [==============================] - 0s 913us/step - loss: 30.7911\n",
      "Epoch 167/250\n",
      "22/22 [==============================] - 0s 786us/step - loss: 29.4650\n",
      "Epoch 168/250\n",
      "22/22 [==============================] - 0s 1ms/step - loss: 28.2531\n",
      "Epoch 169/250\n",
      "22/22 [==============================] - 0s 759us/step - loss: 27.4786\n",
      "Epoch 170/250\n",
      "22/22 [==============================] - 0s 857us/step - loss: 26.6071\n",
      "Epoch 171/250\n",
      "22/22 [==============================] - 0s 1ms/step - loss: 26.8574\n",
      "Epoch 172/250\n",
      "22/22 [==============================] - 0s 884us/step - loss: 26.2856\n",
      "Epoch 173/250\n",
      "22/22 [==============================] - 0s 1ms/step - loss: 26.0397\n",
      "Epoch 174/250\n",
      "22/22 [==============================] - 0s 865us/step - loss: 25.3916\n",
      "Epoch 175/250\n",
      "22/22 [==============================] - 0s 993us/step - loss: 25.9421\n",
      "Epoch 176/250\n",
      "22/22 [==============================] - 0s 847us/step - loss: 25.3433\n",
      "Epoch 177/250\n",
      "22/22 [==============================] - 0s 1ms/step - loss: 25.2945\n",
      "Epoch 178/250\n",
      "22/22 [==============================] - 0s 857us/step - loss: 24.7791\n",
      "Epoch 179/250\n",
      "22/22 [==============================] - 0s 874us/step - loss: 24.8654\n",
      "Epoch 180/250\n",
      "22/22 [==============================] - 0s 825us/step - loss: 24.7031\n",
      "Epoch 181/250\n",
      "22/22 [==============================] - 0s 812us/step - loss: 24.9922\n",
      "Epoch 182/250\n",
      "22/22 [==============================] - 0s 1ms/step - loss: 24.8504\n",
      "Epoch 183/250\n",
      "22/22 [==============================] - 0s 791us/step - loss: 24.5820\n",
      "Epoch 184/250\n",
      "22/22 [==============================] - 0s 899us/step - loss: 23.8692\n",
      "Epoch 185/250\n",
      "22/22 [==============================] - 0s 941us/step - loss: 24.6928\n",
      "Epoch 186/250\n",
      "22/22 [==============================] - 0s 855us/step - loss: 24.4441\n",
      "Epoch 187/250\n",
      "22/22 [==============================] - 0s 829us/step - loss: 24.1665\n",
      "Epoch 188/250\n",
      "22/22 [==============================] - 0s 981us/step - loss: 25.0185\n",
      "Epoch 189/250\n",
      "22/22 [==============================] - 0s 1ms/step - loss: 24.3888\n",
      "Epoch 190/250\n",
      "22/22 [==============================] - 0s 884us/step - loss: 24.9102\n",
      "Epoch 191/250\n",
      "22/22 [==============================] - 0s 887us/step - loss: 25.1179\n",
      "Epoch 192/250\n"
     ]
    },
    {
     "name": "stdout",
     "output_type": "stream",
     "text": [
      "22/22 [==============================] - 0s 878us/step - loss: 24.4726\n",
      "Epoch 193/250\n",
      "22/22 [==============================] - 0s 1ms/step - loss: 24.4336\n",
      "Epoch 194/250\n",
      "22/22 [==============================] - 0s 807us/step - loss: 24.1569\n",
      "Epoch 195/250\n",
      "22/22 [==============================] - 0s 848us/step - loss: 25.1340\n",
      "Epoch 196/250\n",
      "22/22 [==============================] - 0s 796us/step - loss: 24.0051\n",
      "Epoch 197/250\n",
      "22/22 [==============================] - 0s 832us/step - loss: 24.3485\n",
      "Epoch 198/250\n",
      "22/22 [==============================] - 0s 998us/step - loss: 24.9617\n",
      "Epoch 199/250\n",
      "22/22 [==============================] - 0s 844us/step - loss: 24.5424\n",
      "Epoch 200/250\n",
      "22/22 [==============================] - 0s 1ms/step - loss: 24.8327\n",
      "Epoch 201/250\n",
      "22/22 [==============================] - 0s 782us/step - loss: 24.5357\n",
      "Epoch 202/250\n",
      "22/22 [==============================] - 0s 886us/step - loss: 24.8448\n",
      "Epoch 203/250\n",
      "22/22 [==============================] - 0s 1ms/step - loss: 25.0126\n",
      "Epoch 204/250\n",
      "22/22 [==============================] - 0s 790us/step - loss: 24.8718\n",
      "Epoch 205/250\n",
      "22/22 [==============================] - 0s 960us/step - loss: 24.3921\n",
      "Epoch 206/250\n",
      "22/22 [==============================] - 0s 828us/step - loss: 24.5482\n",
      "Epoch 207/250\n",
      "22/22 [==============================] - 0s 1ms/step - loss: 24.5236\n",
      "Epoch 208/250\n",
      "22/22 [==============================] - 0s 1ms/step - loss: 24.6866\n",
      "Epoch 209/250\n",
      "22/22 [==============================] - 0s 1ms/step - loss: 25.0032\n",
      "Epoch 210/250\n",
      "22/22 [==============================] - 0s 1ms/step - loss: 24.4713\n",
      "Epoch 211/250\n",
      "22/22 [==============================] - 0s 1ms/step - loss: 24.9295\n",
      "Epoch 212/250\n",
      "22/22 [==============================] - 0s 1ms/step - loss: 24.1768\n",
      "Epoch 213/250\n",
      "22/22 [==============================] - 0s 1ms/step - loss: 24.5342\n",
      "Epoch 214/250\n",
      "22/22 [==============================] - 0s 1ms/step - loss: 24.3558\n",
      "Epoch 215/250\n",
      "22/22 [==============================] - 0s 1ms/step - loss: 24.7227\n",
      "Epoch 216/250\n",
      "22/22 [==============================] - 0s 1ms/step - loss: 23.9625\n",
      "Epoch 217/250\n",
      "22/22 [==============================] - 0s 1ms/step - loss: 25.0245\n",
      "Epoch 218/250\n",
      "22/22 [==============================] - 0s 1ms/step - loss: 24.2382\n",
      "Epoch 219/250\n",
      "22/22 [==============================] - 0s 925us/step - loss: 24.6058\n",
      "Epoch 220/250\n",
      "22/22 [==============================] - 0s 873us/step - loss: 24.6245\n",
      "Epoch 221/250\n",
      "22/22 [==============================] - 0s 1ms/step - loss: 24.6917\n",
      "Epoch 222/250\n",
      "22/22 [==============================] - 0s 1ms/step - loss: 24.5436\n",
      "Epoch 223/250\n",
      "22/22 [==============================] - 0s 1ms/step - loss: 24.4636\n",
      "Epoch 224/250\n",
      "22/22 [==============================] - 0s 785us/step - loss: 23.8825\n",
      "Epoch 225/250\n",
      "22/22 [==============================] - 0s 939us/step - loss: 24.9311\n",
      "Epoch 226/250\n",
      "22/22 [==============================] - 0s 802us/step - loss: 24.4603\n",
      "Epoch 227/250\n",
      "22/22 [==============================] - 0s 842us/step - loss: 25.1917\n",
      "Epoch 228/250\n",
      "22/22 [==============================] - 0s 1ms/step - loss: 24.7003\n",
      "Epoch 229/250\n",
      "22/22 [==============================] - 0s 1ms/step - loss: 25.0882\n",
      "Epoch 230/250\n",
      "22/22 [==============================] - 0s 2ms/step - loss: 24.8549\n",
      "Epoch 231/250\n",
      "22/22 [==============================] - 0s 759us/step - loss: 24.8018\n",
      "Epoch 232/250\n",
      "22/22 [==============================] - 0s 1ms/step - loss: 24.3002\n",
      "Epoch 233/250\n",
      "22/22 [==============================] - 0s 860us/step - loss: 24.3214\n",
      "Epoch 234/250\n",
      "22/22 [==============================] - 0s 925us/step - loss: 24.6406\n",
      "Epoch 235/250\n",
      "22/22 [==============================] - 0s 1ms/step - loss: 24.2073\n",
      "Epoch 236/250\n",
      "22/22 [==============================] - 0s 1ms/step - loss: 25.4130\n",
      "Epoch 237/250\n",
      "22/22 [==============================] - 0s 1ms/step - loss: 24.6644\n",
      "Epoch 238/250\n",
      "22/22 [==============================] - 0s 842us/step - loss: 24.5365\n",
      "Epoch 239/250\n",
      "22/22 [==============================] - 0s 954us/step - loss: 24.8287\n",
      "Epoch 240/250\n",
      "22/22 [==============================] - 0s 756us/step - loss: 24.9456\n",
      "Epoch 241/250\n",
      "22/22 [==============================] - 0s 848us/step - loss: 24.6686\n",
      "Epoch 242/250\n",
      "22/22 [==============================] - 0s 1ms/step - loss: 24.9543\n",
      "Epoch 243/250\n",
      "22/22 [==============================] - 0s 1ms/step - loss: 25.5942\n",
      "Epoch 244/250\n",
      "22/22 [==============================] - 0s 864us/step - loss: 23.9277\n",
      "Epoch 245/250\n",
      "22/22 [==============================] - 0s 874us/step - loss: 24.7971\n",
      "Epoch 246/250\n",
      "22/22 [==============================] - 0s 1ms/step - loss: 24.6527\n",
      "Epoch 247/250\n",
      "22/22 [==============================] - 0s 904us/step - loss: 24.7810\n",
      "Epoch 248/250\n",
      "22/22 [==============================] - 0s 1ms/step - loss: 24.1968\n",
      "Epoch 249/250\n",
      "22/22 [==============================] - 0s 829us/step - loss: 24.9664\n",
      "Epoch 250/250\n",
      "22/22 [==============================] - 0s 1ms/step - loss: 24.9307\n"
     ]
    },
    {
     "data": {
      "text/plain": [
       "<keras.callbacks.History at 0x19b5c2b01c0>"
      ]
     },
     "execution_count": 48,
     "metadata": {},
     "output_type": "execute_result"
    }
   ],
   "source": [
    "model.fit(x = X_train, y = y_train, batch_size = 32, epochs = 250)\n",
    "\n",
    "# Her bir batch de 32 tane satır alacak\n",
    "# 700(train datası satır sayısı)/32 = 21*32 + 28 satır(22. batch)  --> Toplam 22 iterasyon \n",
    "# Her epoch da 22 iterasyon yapacak sonra\n",
    "# 22 iterasyonun ortalamasını alıyor sonuç veriyor ve update ediyor\n",
    "\n",
    "# ÖNEMLİ NOT: Hatanın tekrar düzelmesi için tekrar çalıştırabiliriz ama \"fit\" den itibaren çalıştırırsak\n",
    "# .. önceden çıkardığı sonuçlar üzerinden gider. Bu sağlıklı değil(local minimuma yakalanmış olabiliriz ve oradan çıkamayız).\n",
    "# .. Bunun için \"Sequential\" kısmından itibaren modeli yeniden (belki tekrar tekrar) çalıştırmalıyız. \n",
    "\n",
    "# Batch_size ları 2 nin üssü olacak şekilde  seçmekte fayda var çünkü daha hızlı çalışıyor(Başka rakamlarda verebiliriz ama çok büyük datalarda sıkıntı olabilir)"
   ]
  },
  {
   "cell_type": "code",
   "execution_count": 49,
   "metadata": {
    "ExecuteTime": {
     "end_time": "2022-09-29T19:40:26.227184Z",
     "start_time": "2022-09-29T19:40:26.212857Z"
    },
    "scrolled": false
   },
   "outputs": [
    {
     "data": {
      "text/plain": [
       "[<tf.Variable 'dense_8/kernel:0' shape=(2, 4) dtype=float32, numpy=\n",
       " array([[ 0.9490966 , -0.97440004,  1.1158096 ,  1.8047752 ],\n",
       "        [ 3.3754156 , -0.01765823,  2.1093533 ,  2.181277  ]],\n",
       "       dtype=float32)>,\n",
       " <tf.Variable 'dense_8/bias:0' shape=(4,) dtype=float32, numpy=array([0.5527998 , 0.        , 0.5347122 , 0.56234795], dtype=float32)>,\n",
       " <tf.Variable 'dense_9/kernel:0' shape=(4, 4) dtype=float32, numpy=\n",
       " array([[ 1.0898811 ,  2.7142925 ,  2.0226836 ,  2.0589762 ],\n",
       "        [-0.35851038,  0.40446693, -0.5942812 ,  0.02834034],\n",
       "        [ 1.8412869 ,  1.1839907 ,  1.8512759 ,  0.6084813 ],\n",
       "        [ 1.5705086 ,  1.991397  ,  2.0245924 ,  1.8579587 ]],\n",
       "       dtype=float32)>,\n",
       " <tf.Variable 'dense_9/bias:0' shape=(4,) dtype=float32, numpy=array([0.33687735, 0.5230086 , 0.5473541 , 0.17820919], dtype=float32)>,\n",
       " <tf.Variable 'dense_10/kernel:0' shape=(4, 4) dtype=float32, numpy=\n",
       " array([[ 1.9364583 ,  1.4646263 ,  0.90577465,  0.49955896],\n",
       "        [ 2.3303182 ,  0.1949036 ,  1.6517272 , -1.2060784 ],\n",
       "        [ 2.469588  ,  1.2766511 ,  1.1902126 ,  0.5341016 ],\n",
       "        [ 1.2062541 ,  1.3518507 ,  1.747388  ,  0.39373153]],\n",
       "       dtype=float32)>,\n",
       " <tf.Variable 'dense_10/bias:0' shape=(4,) dtype=float32, numpy=array([ 0.5232592 , -0.21300195,  0.5284626 ,  0.74336034], dtype=float32)>,\n",
       " <tf.Variable 'dense_11/kernel:0' shape=(4, 1) dtype=float32, numpy=\n",
       " array([[ 2.4399388 ],\n",
       "        [ 0.94726604],\n",
       "        [ 2.2186704 ],\n",
       "        [-2.513727  ]], dtype=float32)>,\n",
       " <tf.Variable 'dense_11/bias:0' shape=(1,) dtype=float32, numpy=array([0.5145456], dtype=float32)>]"
      ]
     },
     "execution_count": 49,
     "metadata": {},
     "output_type": "execute_result"
    }
   ],
   "source": [
    "model.weights\n",
    "# Eğitim bittikten sonra initial a göre;\n",
    "# Biasler değişti\n",
    "# Weightler değişti"
   ]
  },
  {
   "cell_type": "code",
   "execution_count": 50,
   "metadata": {
    "ExecuteTime": {
     "end_time": "2022-09-29T19:40:27.195891Z",
     "start_time": "2022-09-29T19:40:27.182340Z"
    }
   },
   "outputs": [
    {
     "data": {
      "text/plain": [
       "{'loss': [256530.234375,\n",
       "  256344.875,\n",
       "  256144.953125,\n",
       "  255917.53125,\n",
       "  255657.9375,\n",
       "  255361.125,\n",
       "  255026.109375,\n",
       "  254651.359375,\n",
       "  254231.546875,\n",
       "  253761.640625,\n",
       "  253227.078125,\n",
       "  252624.640625,\n",
       "  251944.09375,\n",
       "  251180.5,\n",
       "  250313.421875,\n",
       "  249342.40625,\n",
       "  248257.078125,\n",
       "  247047.21875,\n",
       "  245704.453125,\n",
       "  244232.703125,\n",
       "  242624.5,\n",
       "  240868.75,\n",
       "  238957.921875,\n",
       "  236884.875,\n",
       "  234638.90625,\n",
       "  232213.96875,\n",
       "  229598.171875,\n",
       "  226791.84375,\n",
       "  223786.0625,\n",
       "  220582.078125,\n",
       "  217160.046875,\n",
       "  213490.96875,\n",
       "  209557.84375,\n",
       "  205396.75,\n",
       "  200963.421875,\n",
       "  196277.890625,\n",
       "  191320.09375,\n",
       "  186083.4375,\n",
       "  180579.71875,\n",
       "  174836.09375,\n",
       "  168819.171875,\n",
       "  162542.015625,\n",
       "  156005.90625,\n",
       "  149223.5625,\n",
       "  142245.796875,\n",
       "  135019.671875,\n",
       "  127628.3984375,\n",
       "  120016.7578125,\n",
       "  112285.6796875,\n",
       "  104410.5625,\n",
       "  96452.9609375,\n",
       "  88488.5546875,\n",
       "  80438.9609375,\n",
       "  72506.0625,\n",
       "  64618.40625,\n",
       "  56939.7265625,\n",
       "  49399.6328125,\n",
       "  42186.51171875,\n",
       "  35331.9921875,\n",
       "  28892.337890625,\n",
       "  23003.109375,\n",
       "  17742.232421875,\n",
       "  13147.9189453125,\n",
       "  9388.1875,\n",
       "  6486.5859375,\n",
       "  4511.6650390625,\n",
       "  3451.648193359375,\n",
       "  3126.04150390625,\n",
       "  3055.80224609375,\n",
       "  2992.996826171875,\n",
       "  2938.7421875,\n",
       "  2885.945068359375,\n",
       "  2833.137939453125,\n",
       "  2780.047607421875,\n",
       "  2729.26953125,\n",
       "  2673.4453125,\n",
       "  2624.828857421875,\n",
       "  2575.749755859375,\n",
       "  2524.341796875,\n",
       "  2464.356689453125,\n",
       "  2417.614501953125,\n",
       "  2364.379638671875,\n",
       "  2324.7255859375,\n",
       "  2269.15478515625,\n",
       "  2216.35791015625,\n",
       "  2161.933837890625,\n",
       "  2112.454833984375,\n",
       "  2064.25048828125,\n",
       "  2018.9676513671875,\n",
       "  1974.1064453125,\n",
       "  1924.1346435546875,\n",
       "  1878.884765625,\n",
       "  1831.697265625,\n",
       "  1781.71484375,\n",
       "  1740.456787109375,\n",
       "  1693.8187255859375,\n",
       "  1650.712646484375,\n",
       "  1604.5467529296875,\n",
       "  1557.4263916015625,\n",
       "  1520.65478515625,\n",
       "  1474.0238037109375,\n",
       "  1427.9915771484375,\n",
       "  1390.2481689453125,\n",
       "  1351.546630859375,\n",
       "  1318.5419921875,\n",
       "  1274.19384765625,\n",
       "  1241.498291015625,\n",
       "  1200.0926513671875,\n",
       "  1161.9630126953125,\n",
       "  1125.699951171875,\n",
       "  1091.814453125,\n",
       "  1056.191162109375,\n",
       "  1017.6099243164062,\n",
       "  984.2554321289062,\n",
       "  946.663330078125,\n",
       "  907.2182006835938,\n",
       "  872.1697387695312,\n",
       "  835.6599731445312,\n",
       "  805.616455078125,\n",
       "  775.6087646484375,\n",
       "  740.768310546875,\n",
       "  710.1154174804688,\n",
       "  684.7774047851562,\n",
       "  650.2726440429688,\n",
       "  623.7681884765625,\n",
       "  594.87939453125,\n",
       "  565.4842529296875,\n",
       "  537.4041748046875,\n",
       "  510.17657470703125,\n",
       "  486.2599182128906,\n",
       "  459.9741516113281,\n",
       "  432.9965515136719,\n",
       "  414.629638671875,\n",
       "  389.9752197265625,\n",
       "  369.156005859375,\n",
       "  346.05255126953125,\n",
       "  326.57257080078125,\n",
       "  308.8908996582031,\n",
       "  287.73797607421875,\n",
       "  269.0787658691406,\n",
       "  250.18055725097656,\n",
       "  229.23611450195312,\n",
       "  215.4734649658203,\n",
       "  198.47535705566406,\n",
       "  181.0819854736328,\n",
       "  165.0382537841797,\n",
       "  152.29522705078125,\n",
       "  137.2427215576172,\n",
       "  124.61449432373047,\n",
       "  112.9732894897461,\n",
       "  102.93253326416016,\n",
       "  92.21931457519531,\n",
       "  84.2933578491211,\n",
       "  76.51307678222656,\n",
       "  69.69185638427734,\n",
       "  63.397220611572266,\n",
       "  57.87575149536133,\n",
       "  52.64484786987305,\n",
       "  47.900177001953125,\n",
       "  43.395626068115234,\n",
       "  39.82963562011719,\n",
       "  37.46681213378906,\n",
       "  34.78451919555664,\n",
       "  33.324581146240234,\n",
       "  31.368099212646484,\n",
       "  30.7911376953125,\n",
       "  29.46500587463379,\n",
       "  28.253055572509766,\n",
       "  27.478559494018555,\n",
       "  26.607072830200195,\n",
       "  26.857440948486328,\n",
       "  26.285594940185547,\n",
       "  26.039735794067383,\n",
       "  25.391624450683594,\n",
       "  25.942081451416016,\n",
       "  25.343345642089844,\n",
       "  25.294513702392578,\n",
       "  24.779144287109375,\n",
       "  24.865446090698242,\n",
       "  24.703052520751953,\n",
       "  24.992223739624023,\n",
       "  24.850379943847656,\n",
       "  24.582019805908203,\n",
       "  23.869157791137695,\n",
       "  24.692834854125977,\n",
       "  24.44413185119629,\n",
       "  24.166522979736328,\n",
       "  25.018531799316406,\n",
       "  24.38876724243164,\n",
       "  24.910240173339844,\n",
       "  25.11785125732422,\n",
       "  24.472620010375977,\n",
       "  24.433618545532227,\n",
       "  24.1568546295166,\n",
       "  25.133953094482422,\n",
       "  24.005142211914062,\n",
       "  24.34847640991211,\n",
       "  24.961729049682617,\n",
       "  24.54237174987793,\n",
       "  24.83266830444336,\n",
       "  24.535686492919922,\n",
       "  24.84480094909668,\n",
       "  25.01262855529785,\n",
       "  24.871763229370117,\n",
       "  24.392053604125977,\n",
       "  24.548202514648438,\n",
       "  24.523632049560547,\n",
       "  24.686601638793945,\n",
       "  25.003189086914062,\n",
       "  24.47134017944336,\n",
       "  24.929534912109375,\n",
       "  24.176755905151367,\n",
       "  24.53423500061035,\n",
       "  24.355789184570312,\n",
       "  24.722742080688477,\n",
       "  23.96251678466797,\n",
       "  25.024456024169922,\n",
       "  24.23822593688965,\n",
       "  24.605806350708008,\n",
       "  24.6245059967041,\n",
       "  24.691743850708008,\n",
       "  24.543607711791992,\n",
       "  24.46356773376465,\n",
       "  23.88254165649414,\n",
       "  24.931123733520508,\n",
       "  24.460296630859375,\n",
       "  25.191741943359375,\n",
       "  24.700273513793945,\n",
       "  25.08817481994629,\n",
       "  24.854915618896484,\n",
       "  24.80179214477539,\n",
       "  24.30022621154785,\n",
       "  24.32135581970215,\n",
       "  24.640575408935547,\n",
       "  24.207334518432617,\n",
       "  25.413026809692383,\n",
       "  24.66439437866211,\n",
       "  24.536508560180664,\n",
       "  24.828662872314453,\n",
       "  24.945642471313477,\n",
       "  24.668560028076172,\n",
       "  24.95431137084961,\n",
       "  25.594209671020508,\n",
       "  23.927705764770508,\n",
       "  24.797075271606445,\n",
       "  24.65265655517578,\n",
       "  24.780977249145508,\n",
       "  24.196826934814453,\n",
       "  24.96638298034668,\n",
       "  24.93065071105957]}"
      ]
     },
     "execution_count": 50,
     "metadata": {},
     "output_type": "execute_result"
    }
   ],
   "source": [
    "model.history.history\n",
    "# Her bir epoch daki loss ları gösteriyor"
   ]
  },
  {
   "cell_type": "code",
   "execution_count": 51,
   "metadata": {
    "ExecuteTime": {
     "end_time": "2022-09-29T19:40:28.703502Z",
     "start_time": "2022-09-29T19:40:28.680347Z"
    }
   },
   "outputs": [
    {
     "data": {
      "text/html": [
       "<div>\n",
       "<style scoped>\n",
       "    .dataframe tbody tr th:only-of-type {\n",
       "        vertical-align: middle;\n",
       "    }\n",
       "\n",
       "    .dataframe tbody tr th {\n",
       "        vertical-align: top;\n",
       "    }\n",
       "\n",
       "    .dataframe thead th {\n",
       "        text-align: right;\n",
       "    }\n",
       "</style>\n",
       "<table border=\"1\" class=\"dataframe\">\n",
       "  <thead>\n",
       "    <tr style=\"text-align: right;\">\n",
       "      <th></th>\n",
       "      <th>loss</th>\n",
       "    </tr>\n",
       "  </thead>\n",
       "  <tbody>\n",
       "    <tr>\n",
       "      <th>0</th>\n",
       "      <td>256530.234</td>\n",
       "    </tr>\n",
       "    <tr>\n",
       "      <th>1</th>\n",
       "      <td>256344.875</td>\n",
       "    </tr>\n",
       "    <tr>\n",
       "      <th>2</th>\n",
       "      <td>256144.953</td>\n",
       "    </tr>\n",
       "    <tr>\n",
       "      <th>3</th>\n",
       "      <td>255917.531</td>\n",
       "    </tr>\n",
       "    <tr>\n",
       "      <th>4</th>\n",
       "      <td>255657.938</td>\n",
       "    </tr>\n",
       "    <tr>\n",
       "      <th>...</th>\n",
       "      <td>...</td>\n",
       "    </tr>\n",
       "    <tr>\n",
       "      <th>245</th>\n",
       "      <td>24.653</td>\n",
       "    </tr>\n",
       "    <tr>\n",
       "      <th>246</th>\n",
       "      <td>24.781</td>\n",
       "    </tr>\n",
       "    <tr>\n",
       "      <th>247</th>\n",
       "      <td>24.197</td>\n",
       "    </tr>\n",
       "    <tr>\n",
       "      <th>248</th>\n",
       "      <td>24.966</td>\n",
       "    </tr>\n",
       "    <tr>\n",
       "      <th>249</th>\n",
       "      <td>24.931</td>\n",
       "    </tr>\n",
       "  </tbody>\n",
       "</table>\n",
       "<p>250 rows × 1 columns</p>\n",
       "</div>"
      ],
      "text/plain": [
       "          loss\n",
       "0   256530.234\n",
       "1   256344.875\n",
       "2   256144.953\n",
       "3   255917.531\n",
       "4   255657.938\n",
       "..         ...\n",
       "245     24.653\n",
       "246     24.781\n",
       "247     24.197\n",
       "248     24.966\n",
       "249     24.931\n",
       "\n",
       "[250 rows x 1 columns]"
      ]
     },
     "execution_count": 51,
     "metadata": {},
     "output_type": "execute_result"
    }
   ],
   "source": [
    "pd.DataFrame(model.history.history)"
   ]
  },
  {
   "cell_type": "code",
   "execution_count": 52,
   "metadata": {
    "ExecuteTime": {
     "end_time": "2022-09-29T19:40:31.980412Z",
     "start_time": "2022-09-29T19:40:31.803832Z"
    }
   },
   "outputs": [
    {
     "data": {
      "text/plain": [
       "<AxesSubplot:>"
      ]
     },
     "execution_count": 52,
     "metadata": {},
     "output_type": "execute_result"
    },
    {
     "data": {
      "image/png": "[encoded data removed]",
      "text/plain": [
       "<Figure size 720x432 with 1 Axes>"
      ]
     },
     "metadata": {},
     "output_type": "display_data"
    }
   ],
   "source": [
    "loss_df = pd.DataFrame(model.history.history)\n",
    "loss_df.plot()"
   ]
  },
  {
   "cell_type": "code",
   "execution_count": 53,
   "metadata": {
    "ExecuteTime": {
     "end_time": "2022-09-29T19:40:36.243915Z",
     "start_time": "2022-09-29T19:40:36.076778Z"
    }
   },
   "outputs": [
    {
     "data": {
      "text/plain": [
       "(0.0, 3000.0)"
      ]
     },
     "execution_count": 53,
     "metadata": {},
     "output_type": "execute_result"
    },
    {
     "data": {
      "image/png": "[encoded data removed]",
      "text/plain": [
       "<Figure size 720x432 with 1 Axes>"
      ]
     },
     "metadata": {},
     "output_type": "display_data"
    }
   ],
   "source": [
    "fig, ax= plt.subplots()\n",
    "ax.plot(loss_df)\n",
    "ax.set_xlabel(\"epoch\")\n",
    "ax.set_ylabel(\"loss\")\n",
    "ax.set_title(\"loss - epoch graph\")\n",
    "ax.set_xlim([0, 250]) # focusing on the given x values\n",
    "ax.set_ylim([0, 3000]) # focusing on the given y values"
   ]
  },
  {
   "cell_type": "markdown",
   "metadata": {},
   "source": [
    "## Model Performance"
   ]
  },
  {
   "cell_type": "code",
   "execution_count": 54,
   "metadata": {
    "ExecuteTime": {
     "end_time": "2022-09-29T19:40:43.791234Z",
     "start_time": "2022-09-29T19:40:43.782232Z"
    }
   },
   "outputs": [],
   "source": [
    "from sklearn.metrics import mean_squared_error, mean_absolute_error, r2_score"
   ]
  },
  {
   "cell_type": "code",
   "execution_count": 55,
   "metadata": {
    "ExecuteTime": {
     "end_time": "2022-09-29T19:40:44.462580Z",
     "start_time": "2022-09-29T19:40:44.229505Z"
    }
   },
   "outputs": [
    {
     "data": {
      "text/plain": [
       "23.978286743164062"
      ]
     },
     "execution_count": 55,
     "metadata": {},
     "output_type": "execute_result"
    }
   ],
   "source": [
    "model.evaluate(X_train, y_train, verbose=0) # En son elde ettiği MSE değerini gösteriyor(Train için)"
   ]
  },
  {
   "cell_type": "code",
   "execution_count": 56,
   "metadata": {
    "ExecuteTime": {
     "end_time": "2022-09-29T19:40:45.625813Z",
     "start_time": "2022-09-29T19:40:45.532300Z"
    }
   },
   "outputs": [
    {
     "data": {
      "text/plain": [
       "24.966468811035156"
      ]
     },
     "execution_count": 56,
     "metadata": {},
     "output_type": "execute_result"
    }
   ],
   "source": [
    "model.evaluate(X_test, y_test, verbose=0) # En son elde ettiği MSE değerini gösteriyor(Test için)"
   ]
  },
  {
   "cell_type": "code",
   "execution_count": 57,
   "metadata": {
    "ExecuteTime": {
     "end_time": "2022-09-29T19:40:48.587791Z",
     "start_time": "2022-09-29T19:40:48.372520Z"
    }
   },
   "outputs": [
    {
     "name": "stdout",
     "output_type": "stream",
     "text": [
      "10/10 [==============================] - 0s 1ms/step\n"
     ]
    },
    {
     "data": {
      "text/plain": [
       "(300, 1)"
      ]
     },
     "execution_count": 57,
     "metadata": {},
     "output_type": "execute_result"
    }
   ],
   "source": [
    "y_pred = model.predict(X_test)\n",
    "y_pred.shape"
   ]
  },
  {
   "cell_type": "code",
   "execution_count": 58,
   "metadata": {
    "ExecuteTime": {
     "end_time": "2022-09-29T19:40:57.490168Z",
     "start_time": "2022-09-29T19:40:57.483367Z"
    }
   },
   "outputs": [
    {
     "data": {
      "text/plain": [
       "(300,)"
      ]
     },
     "execution_count": 58,
     "metadata": {},
     "output_type": "execute_result"
    }
   ],
   "source": [
    "y_test.shape"
   ]
  },
  {
   "cell_type": "code",
   "execution_count": 59,
   "metadata": {
    "ExecuteTime": {
     "end_time": "2022-09-29T19:40:58.530936Z",
     "start_time": "2022-09-29T19:40:58.524610Z"
    }
   },
   "outputs": [
    {
     "data": {
      "text/plain": [
       "(300,)"
      ]
     },
     "execution_count": 59,
     "metadata": {},
     "output_type": "execute_result"
    }
   ],
   "source": [
    "y_pred.reshape(-1,).shape"
   ]
  },
  {
   "cell_type": "code",
   "execution_count": 60,
   "metadata": {
    "ExecuteTime": {
     "end_time": "2022-09-29T19:40:59.989266Z",
     "start_time": "2022-09-29T19:40:59.966403Z"
    }
   },
   "outputs": [
    {
     "data": {
      "text/html": [
       "<div>\n",
       "<style scoped>\n",
       "    .dataframe tbody tr th:only-of-type {\n",
       "        vertical-align: middle;\n",
       "    }\n",
       "\n",
       "    .dataframe tbody tr th {\n",
       "        vertical-align: top;\n",
       "    }\n",
       "\n",
       "    .dataframe thead th {\n",
       "        text-align: right;\n",
       "    }\n",
       "</style>\n",
       "<table border=\"1\" class=\"dataframe\">\n",
       "  <thead>\n",
       "    <tr style=\"text-align: right;\">\n",
       "      <th></th>\n",
       "      <th>Actual</th>\n",
       "      <th>Pred</th>\n",
       "    </tr>\n",
       "  </thead>\n",
       "  <tbody>\n",
       "    <tr>\n",
       "      <th>328</th>\n",
       "      <td>621.119</td>\n",
       "      <td>618.443</td>\n",
       "    </tr>\n",
       "    <tr>\n",
       "      <th>649</th>\n",
       "      <td>467.669</td>\n",
       "      <td>468.435</td>\n",
       "    </tr>\n",
       "    <tr>\n",
       "      <th>925</th>\n",
       "      <td>503.050</td>\n",
       "      <td>510.651</td>\n",
       "    </tr>\n",
       "    <tr>\n",
       "      <th>7</th>\n",
       "      <td>417.570</td>\n",
       "      <td>416.725</td>\n",
       "    </tr>\n",
       "    <tr>\n",
       "      <th>298</th>\n",
       "      <td>511.367</td>\n",
       "      <td>512.101</td>\n",
       "    </tr>\n",
       "    <tr>\n",
       "      <th>687</th>\n",
       "      <td>507.443</td>\n",
       "      <td>501.704</td>\n",
       "    </tr>\n",
       "    <tr>\n",
       "      <th>63</th>\n",
       "      <td>537.607</td>\n",
       "      <td>536.167</td>\n",
       "    </tr>\n",
       "    <tr>\n",
       "      <th>49</th>\n",
       "      <td>514.882</td>\n",
       "      <td>511.112</td>\n",
       "    </tr>\n",
       "    <tr>\n",
       "      <th>81</th>\n",
       "      <td>468.357</td>\n",
       "      <td>469.942</td>\n",
       "    </tr>\n",
       "    <tr>\n",
       "      <th>868</th>\n",
       "      <td>320.228</td>\n",
       "      <td>313.751</td>\n",
       "    </tr>\n",
       "  </tbody>\n",
       "</table>\n",
       "</div>"
      ],
      "text/plain": [
       "     Actual    Pred\n",
       "328 621.119 618.443\n",
       "649 467.669 468.435\n",
       "925 503.050 510.651\n",
       "7   417.570 416.725\n",
       "298 511.367 512.101\n",
       "687 507.443 501.704\n",
       "63  537.607 536.167\n",
       "49  514.882 511.112\n",
       "81  468.357 469.942\n",
       "868 320.228 313.751"
      ]
     },
     "execution_count": 60,
     "metadata": {},
     "output_type": "execute_result"
    }
   ],
   "source": [
    "my_dict = {\"Actual\" : y_test, \"Pred\" : y_pred.reshape(-1,)}\n",
    "compare = pd.DataFrame(my_dict)\n",
    "compare.sample(10)"
   ]
  },
  {
   "cell_type": "code",
   "execution_count": 61,
   "metadata": {
    "ExecuteTime": {
     "end_time": "2022-09-29T19:41:03.287367Z",
     "start_time": "2022-09-29T19:41:03.132379Z"
    }
   },
   "outputs": [
    {
     "data": {
      "text/plain": [
       "<AxesSubplot:xlabel='Actual', ylabel='Pred'>"
      ]
     },
     "execution_count": 61,
     "metadata": {},
     "output_type": "execute_result"
    },
    {
     "data": {
      "image/png": "[encoded data removed]",
      "text/plain": [
       "<Figure size 720x432 with 1 Axes>"
      ]
     },
     "metadata": {},
     "output_type": "display_data"
    }
   ],
   "source": [
    "sns.scatterplot(x = 'Actual', y = 'Pred', data = compare)"
   ]
  },
  {
   "cell_type": "code",
   "execution_count": 62,
   "metadata": {
    "ExecuteTime": {
     "end_time": "2022-09-29T19:41:34.600355Z",
     "start_time": "2022-09-29T19:41:34.582661Z"
    }
   },
   "outputs": [],
   "source": [
    "def eval_metric(actual, pred):\n",
    "    mae = mean_absolute_error(actual, pred)\n",
    "    mse = mean_squared_error(actual, pred)\n",
    "    rmse = np.sqrt(mean_squared_error(actual, pred))\n",
    "    score = r2_score(actual, pred)\n",
    "    return print(\"r2_score:\", score, \"\\nmae:\", mae, \"\\nmse:\", mse, \"\\nrmse:\", rmse)"
   ]
  },
  {
   "cell_type": "code",
   "execution_count": 63,
   "metadata": {
    "ExecuteTime": {
     "end_time": "2022-09-29T19:41:36.920306Z",
     "start_time": "2022-09-29T19:41:36.908060Z"
    }
   },
   "outputs": [
    {
     "name": "stdout",
     "output_type": "stream",
     "text": [
      "r2_score: 0.9971603279228788 \n",
      "mae: 4.0000975438754836 \n",
      "mse: 24.96648682143802 \n",
      "rmse: 4.996647558257238\n"
     ]
    }
   ],
   "source": [
    "eval_metric(y_test, y_pred)"
   ]
  },
  {
   "cell_type": "markdown",
   "metadata": {},
   "source": [
    "## Final Model and Model Deployment"
   ]
  },
  {
   "cell_type": "markdown",
   "metadata": {},
   "source": [
    "### Final Model Training"
   ]
  },
  {
   "cell_type": "code",
   "execution_count": 64,
   "metadata": {
    "ExecuteTime": {
     "end_time": "2022-09-29T19:41:46.165732Z",
     "start_time": "2022-09-29T19:41:46.155188Z"
    }
   },
   "outputs": [],
   "source": [
    "scaler = MinMaxScaler().fit(X)"
   ]
  },
  {
   "cell_type": "code",
   "execution_count": 65,
   "metadata": {
    "ExecuteTime": {
     "end_time": "2022-09-29T19:41:47.672823Z",
     "start_time": "2022-09-29T19:41:47.667497Z"
    }
   },
   "outputs": [],
   "source": [
    "import pickle\n",
    "pickle.dump(scaler, open(\"scaler_fake_reg\", 'wb'))"
   ]
  },
  {
   "cell_type": "code",
   "execution_count": 66,
   "metadata": {
    "ExecuteTime": {
     "end_time": "2022-09-29T19:42:03.702843Z",
     "start_time": "2022-09-29T19:42:03.684131Z"
    }
   },
   "outputs": [],
   "source": [
    "X_scaled = scaler.transform(X)"
   ]
  },
  {
   "cell_type": "code",
   "execution_count": 67,
   "metadata": {
    "ExecuteTime": {
     "end_time": "2022-09-29T19:42:15.603343Z",
     "start_time": "2022-09-29T19:42:04.251528Z"
    }
   },
   "outputs": [
    {
     "name": "stdout",
     "output_type": "stream",
     "text": [
      "Epoch 1/250\n",
      "32/32 [==============================] - 1s 1ms/step - loss: 258112.5625\n",
      "Epoch 2/250\n",
      "32/32 [==============================] - 0s 1ms/step - loss: 257617.0469\n",
      "Epoch 3/250\n",
      "32/32 [==============================] - 0s 1ms/step - loss: 257180.6094\n",
      "Epoch 4/250\n",
      "32/32 [==============================] - 0s 2ms/step - loss: 256884.5938\n",
      "Epoch 5/250\n",
      "32/32 [==============================] - 0s 946us/step - loss: 256604.2500\n",
      "Epoch 6/250\n",
      "32/32 [==============================] - 0s 973us/step - loss: 256295.2188\n",
      "Epoch 7/250\n",
      "32/32 [==============================] - 0s 1ms/step - loss: 255939.9219\n",
      "Epoch 8/250\n",
      "32/32 [==============================] - 0s 845us/step - loss: 255541.8750\n",
      "Epoch 9/250\n",
      "32/32 [==============================] - 0s 919us/step - loss: 255088.2812\n",
      "Epoch 10/250\n",
      "32/32 [==============================] - 0s 1ms/step - loss: 254572.7969\n",
      "Epoch 11/250\n",
      "32/32 [==============================] - 0s 1ms/step - loss: 253991.8750\n",
      "Epoch 12/250\n",
      "32/32 [==============================] - 0s 1ms/step - loss: 253338.1875\n",
      "Epoch 13/250\n",
      "32/32 [==============================] - 0s 1ms/step - loss: 252605.7500\n",
      "Epoch 14/250\n",
      "32/32 [==============================] - 0s 2ms/step - loss: 251791.4844\n",
      "Epoch 15/250\n",
      "32/32 [==============================] - 0s 2ms/step - loss: 250885.2188\n",
      "Epoch 16/250\n",
      "32/32 [==============================] - 0s 1ms/step - loss: 249885.6406\n",
      "Epoch 17/250\n",
      "32/32 [==============================] - 0s 1ms/step - loss: 248785.3125\n",
      "Epoch 18/250\n",
      "32/32 [==============================] - 0s 1ms/step - loss: 247577.3594\n",
      "Epoch 19/250\n",
      "32/32 [==============================] - 0s 1ms/step - loss: 246252.6094\n",
      "Epoch 20/250\n",
      "32/32 [==============================] - 0s 1ms/step - loss: 244811.2812\n",
      "Epoch 21/250\n",
      "32/32 [==============================] - 0s 1ms/step - loss: 243251.5469\n",
      "Epoch 22/250\n",
      "32/32 [==============================] - 0s 1ms/step - loss: 241551.4219\n",
      "Epoch 23/250\n",
      "32/32 [==============================] - 0s 1ms/step - loss: 239721.6406\n",
      "Epoch 24/250\n",
      "32/32 [==============================] - 0s 1ms/step - loss: 237737.7500\n",
      "Epoch 25/250\n",
      "32/32 [==============================] - 0s 1ms/step - loss: 235606.7812\n",
      "Epoch 26/250\n",
      "32/32 [==============================] - 0s 1ms/step - loss: 233316.5312\n",
      "Epoch 27/250\n",
      "32/32 [==============================] - 0s 2ms/step - loss: 230871.9688\n",
      "Epoch 28/250\n",
      "32/32 [==============================] - 0s 2ms/step - loss: 228258.0625\n",
      "Epoch 29/250\n",
      "32/32 [==============================] - 0s 2ms/step - loss: 225472.7344\n",
      "Epoch 30/250\n",
      "32/32 [==============================] - 0s 2ms/step - loss: 222505.2500\n",
      "Epoch 31/250\n",
      "32/32 [==============================] - 0s 1ms/step - loss: 219357.9062\n",
      "Epoch 32/250\n",
      "32/32 [==============================] - 0s 1ms/step - loss: 216022.9062\n",
      "Epoch 33/250\n",
      "32/32 [==============================] - 0s 1ms/step - loss: 212494.0938\n",
      "Epoch 34/250\n",
      "32/32 [==============================] - 0s 1ms/step - loss: 208783.9062\n",
      "Epoch 35/250\n",
      "32/32 [==============================] - 0s 1ms/step - loss: 204874.1406\n",
      "Epoch 36/250\n",
      "32/32 [==============================] - 0s 1ms/step - loss: 200752.9688\n",
      "Epoch 37/250\n",
      "32/32 [==============================] - 0s 2ms/step - loss: 196436.2656\n",
      "Epoch 38/250\n",
      "32/32 [==============================] - 0s 1ms/step - loss: 191907.0781\n",
      "Epoch 39/250\n",
      "32/32 [==============================] - 0s 2ms/step - loss: 187206.6719\n",
      "Epoch 40/250\n",
      "32/32 [==============================] - 0s 1ms/step - loss: 182283.3906\n",
      "Epoch 41/250\n",
      "32/32 [==============================] - 0s 2ms/step - loss: 177137.0312\n",
      "Epoch 42/250\n",
      "32/32 [==============================] - 0s 1ms/step - loss: 171793.7812\n",
      "Epoch 43/250\n",
      "32/32 [==============================] - 0s 1ms/step - loss: 166298.3906\n",
      "Epoch 44/250\n",
      "32/32 [==============================] - 0s 1ms/step - loss: 160570.6562\n",
      "Epoch 45/250\n",
      "32/32 [==============================] - 0s 1ms/step - loss: 154684.4688\n",
      "Epoch 46/250\n",
      "32/32 [==============================] - 0s 2ms/step - loss: 148643.5000\n",
      "Epoch 47/250\n",
      "32/32 [==============================] - 0s 1ms/step - loss: 142392.1406\n",
      "Epoch 48/250\n",
      "32/32 [==============================] - 0s 1ms/step - loss: 135942.9375\n",
      "Epoch 49/250\n",
      "32/32 [==============================] - 0s 1ms/step - loss: 129399.0469\n",
      "Epoch 50/250\n",
      "32/32 [==============================] - 0s 1ms/step - loss: 122711.2656\n",
      "Epoch 51/250\n",
      "32/32 [==============================] - 0s 1ms/step - loss: 115963.2188\n",
      "Epoch 52/250\n",
      "32/32 [==============================] - 0s 1ms/step - loss: 109050.6172\n",
      "Epoch 53/250\n",
      "32/32 [==============================] - 0s 1ms/step - loss: 102076.4688\n",
      "Epoch 54/250\n",
      "32/32 [==============================] - 0s 1ms/step - loss: 95077.3594\n",
      "Epoch 55/250\n",
      "32/32 [==============================] - 0s 1ms/step - loss: 88034.9297\n",
      "Epoch 56/250\n",
      "32/32 [==============================] - 0s 1ms/step - loss: 81004.6641\n",
      "Epoch 57/250\n",
      "32/32 [==============================] - 0s 1ms/step - loss: 73979.3125\n",
      "Epoch 58/250\n",
      "32/32 [==============================] - 0s 1ms/step - loss: 67058.6562\n",
      "Epoch 59/250\n",
      "32/32 [==============================] - 0s 1ms/step - loss: 60185.0234\n",
      "Epoch 60/250\n",
      "32/32 [==============================] - 0s 1ms/step - loss: 53448.7305\n",
      "Epoch 61/250\n",
      "32/32 [==============================] - 0s 1ms/step - loss: 46889.4102\n",
      "Epoch 62/250\n",
      "32/32 [==============================] - 0s 1ms/step - loss: 40598.0586\n",
      "Epoch 63/250\n",
      "32/32 [==============================] - 0s 1ms/step - loss: 34621.4297\n",
      "Epoch 64/250\n",
      "32/32 [==============================] - 0s 1ms/step - loss: 28932.0723\n",
      "Epoch 65/250\n",
      "32/32 [==============================] - 0s 1ms/step - loss: 23597.2695\n",
      "Epoch 66/250\n",
      "32/32 [==============================] - 0s 1ms/step - loss: 18785.4883\n",
      "Epoch 67/250\n",
      "32/32 [==============================] - 0s 1ms/step - loss: 14444.1787\n",
      "Epoch 68/250\n",
      "32/32 [==============================] - 0s 1ms/step - loss: 10683.3623\n",
      "Epoch 69/250\n",
      "32/32 [==============================] - 0s 1ms/step - loss: 7575.6592\n",
      "Epoch 70/250\n",
      "32/32 [==============================] - 0s 1ms/step - loss: 5153.0317\n",
      "Epoch 71/250\n",
      "32/32 [==============================] - 0s 1ms/step - loss: 3490.6030\n",
      "Epoch 72/250\n",
      "32/32 [==============================] - 0s 2ms/step - loss: 2529.2361\n",
      "Epoch 73/250\n",
      "32/32 [==============================] - 0s 1ms/step - loss: 2212.2695\n",
      "Epoch 74/250\n",
      "32/32 [==============================] - 0s 1ms/step - loss: 2140.7996\n",
      "Epoch 75/250\n",
      "32/32 [==============================] - 0s 1ms/step - loss: 2104.4309\n",
      "Epoch 76/250\n",
      "32/32 [==============================] - 0s 1ms/step - loss: 2060.6511\n",
      "Epoch 77/250\n",
      "32/32 [==============================] - 0s 1ms/step - loss: 2016.4310\n",
      "Epoch 78/250\n",
      "32/32 [==============================] - 0s 2ms/step - loss: 1972.7025\n",
      "Epoch 79/250\n",
      "32/32 [==============================] - 0s 1ms/step - loss: 1928.2517\n",
      "Epoch 80/250\n",
      "32/32 [==============================] - 0s 1ms/step - loss: 1888.1128\n",
      "Epoch 81/250\n",
      "32/32 [==============================] - 0s 1ms/step - loss: 1844.3937\n",
      "Epoch 82/250\n",
      "32/32 [==============================] - 0s 2ms/step - loss: 1798.0979\n",
      "Epoch 83/250\n",
      "32/32 [==============================] - 0s 2ms/step - loss: 1759.5909\n",
      "Epoch 84/250\n",
      "32/32 [==============================] - 0s 2ms/step - loss: 1717.1340\n",
      "Epoch 85/250\n",
      "32/32 [==============================] - 0s 2ms/step - loss: 1674.2639\n",
      "Epoch 86/250\n",
      "32/32 [==============================] - 0s 2ms/step - loss: 1636.2236\n",
      "Epoch 87/250\n",
      "32/32 [==============================] - 0s 1ms/step - loss: 1597.5632\n",
      "Epoch 88/250\n",
      "32/32 [==============================] - 0s 1ms/step - loss: 1555.8602\n",
      "Epoch 89/250\n",
      "32/32 [==============================] - 0s 2ms/step - loss: 1520.3162\n",
      "Epoch 90/250\n",
      "32/32 [==============================] - 0s 1ms/step - loss: 1484.2231\n",
      "Epoch 91/250\n",
      "32/32 [==============================] - 0s 1ms/step - loss: 1448.1771\n",
      "Epoch 92/250\n",
      "32/32 [==============================] - 0s 1ms/step - loss: 1410.2356\n",
      "Epoch 93/250\n",
      "32/32 [==============================] - 0s 1ms/step - loss: 1379.8042\n",
      "Epoch 94/250\n",
      "32/32 [==============================] - 0s 903us/step - loss: 1345.3148\n",
      "Epoch 95/250\n",
      "32/32 [==============================] - 0s 1ms/step - loss: 1310.2080\n",
      "Epoch 96/250\n",
      "32/32 [==============================] - 0s 1ms/step - loss: 1276.3064\n",
      "Epoch 97/250\n"
     ]
    },
    {
     "name": "stdout",
     "output_type": "stream",
     "text": [
      "32/32 [==============================] - 0s 1ms/step - loss: 1242.0090\n",
      "Epoch 98/250\n",
      "32/32 [==============================] - 0s 1ms/step - loss: 1208.6273\n",
      "Epoch 99/250\n",
      "32/32 [==============================] - 0s 1ms/step - loss: 1174.7639\n",
      "Epoch 100/250\n",
      "32/32 [==============================] - 0s 1ms/step - loss: 1138.2230\n",
      "Epoch 101/250\n",
      "32/32 [==============================] - 0s 1ms/step - loss: 1104.2823\n",
      "Epoch 102/250\n",
      "32/32 [==============================] - 0s 1ms/step - loss: 1069.5413\n",
      "Epoch 103/250\n",
      "32/32 [==============================] - 0s 1ms/step - loss: 1028.0413\n",
      "Epoch 104/250\n",
      "32/32 [==============================] - 0s 1ms/step - loss: 1002.7615\n",
      "Epoch 105/250\n",
      "32/32 [==============================] - 0s 871us/step - loss: 972.9771\n",
      "Epoch 106/250\n",
      "32/32 [==============================] - 0s 1ms/step - loss: 942.1335\n",
      "Epoch 107/250\n",
      "32/32 [==============================] - 0s 1ms/step - loss: 913.1647\n",
      "Epoch 108/250\n",
      "32/32 [==============================] - 0s 865us/step - loss: 882.3784\n",
      "Epoch 109/250\n",
      "32/32 [==============================] - 0s 893us/step - loss: 850.4096\n",
      "Epoch 110/250\n",
      "32/32 [==============================] - 0s 861us/step - loss: 819.5298\n",
      "Epoch 111/250\n",
      "32/32 [==============================] - 0s 1ms/step - loss: 790.5700\n",
      "Epoch 112/250\n",
      "32/32 [==============================] - 0s 839us/step - loss: 763.3000\n",
      "Epoch 113/250\n",
      "32/32 [==============================] - 0s 917us/step - loss: 735.3503\n",
      "Epoch 114/250\n",
      "32/32 [==============================] - 0s 789us/step - loss: 705.6424\n",
      "Epoch 115/250\n",
      "32/32 [==============================] - 0s 779us/step - loss: 679.0667\n",
      "Epoch 116/250\n",
      "32/32 [==============================] - 0s 775us/step - loss: 653.7716\n",
      "Epoch 117/250\n",
      "32/32 [==============================] - 0s 903us/step - loss: 629.1980\n",
      "Epoch 118/250\n",
      "32/32 [==============================] - 0s 880us/step - loss: 604.3671\n",
      "Epoch 119/250\n",
      "32/32 [==============================] - 0s 841us/step - loss: 577.4118\n",
      "Epoch 120/250\n",
      "32/32 [==============================] - 0s 839us/step - loss: 549.6730\n",
      "Epoch 121/250\n",
      "32/32 [==============================] - 0s 946us/step - loss: 527.2115\n",
      "Epoch 122/250\n",
      "32/32 [==============================] - 0s 897us/step - loss: 502.7042\n",
      "Epoch 123/250\n",
      "32/32 [==============================] - 0s 971us/step - loss: 479.8562\n",
      "Epoch 124/250\n",
      "32/32 [==============================] - 0s 922us/step - loss: 458.1147\n",
      "Epoch 125/250\n",
      "32/32 [==============================] - 0s 834us/step - loss: 438.5588\n",
      "Epoch 126/250\n",
      "32/32 [==============================] - 0s 757us/step - loss: 417.7323\n",
      "Epoch 127/250\n",
      "32/32 [==============================] - 0s 964us/step - loss: 397.3581\n",
      "Epoch 128/250\n",
      "32/32 [==============================] - 0s 1ms/step - loss: 375.0303\n",
      "Epoch 129/250\n",
      "32/32 [==============================] - 0s 984us/step - loss: 352.8463\n",
      "Epoch 130/250\n",
      "32/32 [==============================] - 0s 785us/step - loss: 331.8036\n",
      "Epoch 131/250\n",
      "32/32 [==============================] - 0s 937us/step - loss: 315.2364\n",
      "Epoch 132/250\n",
      "32/32 [==============================] - 0s 923us/step - loss: 298.9305\n",
      "Epoch 133/250\n",
      "32/32 [==============================] - 0s 904us/step - loss: 280.7509\n",
      "Epoch 134/250\n",
      "32/32 [==============================] - 0s 901us/step - loss: 262.9606\n",
      "Epoch 135/250\n",
      "32/32 [==============================] - 0s 900us/step - loss: 244.3047\n",
      "Epoch 136/250\n",
      "32/32 [==============================] - 0s 2ms/step - loss: 225.4662\n",
      "Epoch 137/250\n",
      "32/32 [==============================] - 0s 890us/step - loss: 211.2243\n",
      "Epoch 138/250\n",
      "32/32 [==============================] - 0s 883us/step - loss: 197.1894\n",
      "Epoch 139/250\n",
      "32/32 [==============================] - 0s 863us/step - loss: 183.7278\n",
      "Epoch 140/250\n",
      "32/32 [==============================] - 0s 946us/step - loss: 171.4648\n",
      "Epoch 141/250\n",
      "32/32 [==============================] - 0s 884us/step - loss: 158.8063\n",
      "Epoch 142/250\n",
      "32/32 [==============================] - 0s 866us/step - loss: 145.7923\n",
      "Epoch 143/250\n",
      "32/32 [==============================] - 0s 846us/step - loss: 133.7533\n",
      "Epoch 144/250\n",
      "32/32 [==============================] - 0s 852us/step - loss: 123.2209\n",
      "Epoch 145/250\n",
      "32/32 [==============================] - 0s 854us/step - loss: 112.3714\n",
      "Epoch 146/250\n",
      "32/32 [==============================] - 0s 830us/step - loss: 102.8145\n",
      "Epoch 147/250\n",
      "32/32 [==============================] - 0s 896us/step - loss: 94.7518\n",
      "Epoch 148/250\n",
      "32/32 [==============================] - 0s 1ms/step - loss: 87.6157\n",
      "Epoch 149/250\n",
      "32/32 [==============================] - 0s 793us/step - loss: 80.6898\n",
      "Epoch 150/250\n",
      "32/32 [==============================] - 0s 1ms/step - loss: 73.9460\n",
      "Epoch 151/250\n",
      "32/32 [==============================] - 0s 900us/step - loss: 68.2419\n",
      "Epoch 152/250\n",
      "32/32 [==============================] - 0s 812us/step - loss: 62.8168\n",
      "Epoch 153/250\n",
      "32/32 [==============================] - 0s 887us/step - loss: 57.2085\n",
      "Epoch 154/250\n",
      "32/32 [==============================] - 0s 915us/step - loss: 52.4586\n",
      "Epoch 155/250\n",
      "32/32 [==============================] - 0s 804us/step - loss: 47.5644\n",
      "Epoch 156/250\n",
      "32/32 [==============================] - 0s 816us/step - loss: 44.7589\n",
      "Epoch 157/250\n",
      "32/32 [==============================] - 0s 853us/step - loss: 41.4694\n",
      "Epoch 158/250\n",
      "32/32 [==============================] - 0s 1ms/step - loss: 38.2067\n",
      "Epoch 159/250\n",
      "32/32 [==============================] - 0s 1ms/step - loss: 35.0666\n",
      "Epoch 160/250\n",
      "32/32 [==============================] - 0s 1ms/step - loss: 33.1973\n",
      "Epoch 161/250\n",
      "32/32 [==============================] - 0s 1ms/step - loss: 31.7564\n",
      "Epoch 162/250\n",
      "32/32 [==============================] - 0s 1ms/step - loss: 30.4350\n",
      "Epoch 163/250\n",
      "32/32 [==============================] - 0s 1ms/step - loss: 29.1381\n",
      "Epoch 164/250\n",
      "32/32 [==============================] - 0s 1ms/step - loss: 28.0049\n",
      "Epoch 165/250\n",
      "32/32 [==============================] - 0s 1ms/step - loss: 27.4829\n",
      "Epoch 166/250\n",
      "32/32 [==============================] - 0s 1ms/step - loss: 26.8726\n",
      "Epoch 167/250\n",
      "32/32 [==============================] - 0s 2ms/step - loss: 26.1280\n",
      "Epoch 168/250\n",
      "32/32 [==============================] - 0s 1ms/step - loss: 25.7996\n",
      "Epoch 169/250\n",
      "32/32 [==============================] - 0s 1ms/step - loss: 25.7356\n",
      "Epoch 170/250\n",
      "32/32 [==============================] - 0s 1ms/step - loss: 25.3475\n",
      "Epoch 171/250\n",
      "32/32 [==============================] - 0s 1ms/step - loss: 25.1145\n",
      "Epoch 172/250\n",
      "32/32 [==============================] - 0s 1ms/step - loss: 25.2104\n",
      "Epoch 173/250\n",
      "32/32 [==============================] - 0s 929us/step - loss: 24.7166\n",
      "Epoch 174/250\n",
      "32/32 [==============================] - 0s 862us/step - loss: 24.8129\n",
      "Epoch 175/250\n",
      "32/32 [==============================] - 0s 871us/step - loss: 24.7323\n",
      "Epoch 176/250\n",
      "32/32 [==============================] - 0s 915us/step - loss: 24.5554\n",
      "Epoch 177/250\n",
      "32/32 [==============================] - 0s 1ms/step - loss: 24.4863\n",
      "Epoch 178/250\n",
      "32/32 [==============================] - 0s 906us/step - loss: 24.5959\n",
      "Epoch 179/250\n",
      "32/32 [==============================] - 0s 990us/step - loss: 24.6095\n",
      "Epoch 180/250\n",
      "32/32 [==============================] - 0s 1ms/step - loss: 24.7254\n",
      "Epoch 181/250\n",
      "32/32 [==============================] - 0s 1ms/step - loss: 24.5492\n",
      "Epoch 182/250\n",
      "32/32 [==============================] - 0s 1ms/step - loss: 24.8000\n",
      "Epoch 183/250\n",
      "32/32 [==============================] - 0s 1ms/step - loss: 24.6317\n",
      "Epoch 184/250\n",
      "32/32 [==============================] - 0s 864us/step - loss: 24.6162\n",
      "Epoch 185/250\n",
      "32/32 [==============================] - 0s 888us/step - loss: 24.3133\n",
      "Epoch 186/250\n",
      "32/32 [==============================] - 0s 982us/step - loss: 24.3298\n",
      "Epoch 187/250\n",
      "32/32 [==============================] - 0s 1ms/step - loss: 24.7854\n",
      "Epoch 188/250\n",
      "32/32 [==============================] - 0s 1ms/step - loss: 24.5461\n",
      "Epoch 189/250\n",
      "32/32 [==============================] - 0s 1ms/step - loss: 24.4630\n",
      "Epoch 190/250\n",
      "32/32 [==============================] - 0s 1ms/step - loss: 24.7204\n",
      "Epoch 191/250\n",
      "32/32 [==============================] - 0s 1ms/step - loss: 24.5262\n",
      "Epoch 192/250\n",
      "32/32 [==============================] - 0s 1ms/step - loss: 24.5364\n",
      "Epoch 193/250\n",
      "32/32 [==============================] - 0s 1ms/step - loss: 24.4065\n",
      "Epoch 194/250\n",
      "32/32 [==============================] - 0s 1ms/step - loss: 24.6424\n",
      "Epoch 195/250\n",
      "32/32 [==============================] - 0s 1ms/step - loss: 24.4271\n",
      "Epoch 196/250\n",
      "32/32 [==============================] - 0s 1ms/step - loss: 24.2095\n",
      "Epoch 197/250\n",
      "32/32 [==============================] - 0s 2ms/step - loss: 24.4755\n",
      "Epoch 198/250\n",
      "32/32 [==============================] - 0s 1ms/step - loss: 24.8301\n",
      "Epoch 199/250\n",
      "32/32 [==============================] - 0s 1ms/step - loss: 24.7423\n",
      "Epoch 200/250\n",
      "32/32 [==============================] - 0s 1ms/step - loss: 24.6683\n",
      "Epoch 201/250\n",
      "32/32 [==============================] - 0s 1ms/step - loss: 24.2473\n",
      "Epoch 202/250\n",
      "32/32 [==============================] - 0s 1ms/step - loss: 24.3990\n",
      "Epoch 203/250\n",
      "32/32 [==============================] - 0s 1ms/step - loss: 24.6232\n",
      "Epoch 204/250\n",
      "32/32 [==============================] - 0s 1ms/step - loss: 24.4576\n",
      "Epoch 205/250\n",
      "32/32 [==============================] - 0s 1ms/step - loss: 24.6239\n",
      "Epoch 206/250\n",
      "32/32 [==============================] - 0s 1ms/step - loss: 24.6184\n",
      "Epoch 207/250\n",
      "32/32 [==============================] - 0s 1ms/step - loss: 24.4902\n",
      "Epoch 208/250\n",
      "32/32 [==============================] - 0s 1ms/step - loss: 24.5771\n",
      "Epoch 209/250\n",
      "32/32 [==============================] - 0s 1ms/step - loss: 24.2918\n",
      "Epoch 210/250\n",
      "32/32 [==============================] - 0s 1ms/step - loss: 24.5674\n",
      "Epoch 211/250\n",
      "32/32 [==============================] - 0s 1ms/step - loss: 24.4299\n",
      "Epoch 212/250\n",
      "32/32 [==============================] - 0s 882us/step - loss: 24.2704\n",
      "Epoch 213/250\n",
      "32/32 [==============================] - 0s 1ms/step - loss: 24.2231\n",
      "Epoch 214/250\n",
      "32/32 [==============================] - 0s 1ms/step - loss: 24.6054\n",
      "Epoch 215/250\n",
      "32/32 [==============================] - 0s 1ms/step - loss: 24.5714\n",
      "Epoch 216/250\n",
      "32/32 [==============================] - 0s 1ms/step - loss: 24.3683\n",
      "Epoch 217/250\n",
      "32/32 [==============================] - 0s 1ms/step - loss: 24.7995\n",
      "Epoch 218/250\n",
      "32/32 [==============================] - 0s 1ms/step - loss: 24.5794\n",
      "Epoch 219/250\n",
      "32/32 [==============================] - 0s 1ms/step - loss: 24.4363\n",
      "Epoch 220/250\n",
      "32/32 [==============================] - 0s 1ms/step - loss: 24.5762\n",
      "Epoch 221/250\n",
      "32/32 [==============================] - 0s 1ms/step - loss: 24.3583\n",
      "Epoch 222/250\n",
      "32/32 [==============================] - 0s 1ms/step - loss: 24.6762\n",
      "Epoch 223/250\n",
      "32/32 [==============================] - 0s 1ms/step - loss: 24.2180\n",
      "Epoch 224/250\n",
      "32/32 [==============================] - 0s 1ms/step - loss: 24.5265\n",
      "Epoch 225/250\n",
      "32/32 [==============================] - 0s 1ms/step - loss: 24.1290\n",
      "Epoch 226/250\n",
      "32/32 [==============================] - 0s 1ms/step - loss: 24.7264\n",
      "Epoch 227/250\n",
      "32/32 [==============================] - 0s 1ms/step - loss: 24.4907\n",
      "Epoch 228/250\n",
      "32/32 [==============================] - 0s 1ms/step - loss: 24.4978\n",
      "Epoch 229/250\n",
      "32/32 [==============================] - 0s 2ms/step - loss: 24.5908\n",
      "Epoch 230/250\n",
      "32/32 [==============================] - 0s 2ms/step - loss: 24.4630\n",
      "Epoch 231/250\n",
      "32/32 [==============================] - 0s 1ms/step - loss: 24.6707\n",
      "Epoch 232/250\n",
      "32/32 [==============================] - 0s 2ms/step - loss: 24.6751\n",
      "Epoch 233/250\n",
      "32/32 [==============================] - 0s 2ms/step - loss: 24.6170\n",
      "Epoch 234/250\n",
      "32/32 [==============================] - 0s 2ms/step - loss: 24.4285\n",
      "Epoch 235/250\n",
      "32/32 [==============================] - 0s 2ms/step - loss: 24.5761\n",
      "Epoch 236/250\n",
      "32/32 [==============================] - 0s 1ms/step - loss: 24.5666\n",
      "Epoch 237/250\n",
      "32/32 [==============================] - 0s 1ms/step - loss: 24.6126\n",
      "Epoch 238/250\n",
      "32/32 [==============================] - 0s 1ms/step - loss: 24.4930\n",
      "Epoch 239/250\n",
      "32/32 [==============================] - 0s 1ms/step - loss: 24.7576\n",
      "Epoch 240/250\n",
      "32/32 [==============================] - 0s 1ms/step - loss: 24.5733\n",
      "Epoch 241/250\n",
      "32/32 [==============================] - 0s 1ms/step - loss: 24.5870\n",
      "Epoch 242/250\n",
      "32/32 [==============================] - 0s 2ms/step - loss: 24.6455\n",
      "Epoch 243/250\n",
      "32/32 [==============================] - 0s 2ms/step - loss: 24.6559\n",
      "Epoch 244/250\n",
      "32/32 [==============================] - 0s 1ms/step - loss: 24.5531\n",
      "Epoch 245/250\n",
      "32/32 [==============================] - 0s 2ms/step - loss: 24.4045\n",
      "Epoch 246/250\n",
      "32/32 [==============================] - 0s 2ms/step - loss: 24.7099\n",
      "Epoch 247/250\n",
      "32/32 [==============================] - 0s 1ms/step - loss: 24.7127\n",
      "Epoch 248/250\n",
      "32/32 [==============================] - 0s 1ms/step - loss: 24.5791\n",
      "Epoch 249/250\n",
      "32/32 [==============================] - 0s 1ms/step - loss: 24.5201\n",
      "Epoch 250/250\n",
      "32/32 [==============================] - 0s 1ms/step - loss: 24.6534\n"
     ]
    },
    {
     "data": {
      "text/plain": [
       "<keras.callbacks.History at 0x19b663cf6a0>"
      ]
     },
     "execution_count": 67,
     "metadata": {},
     "output_type": "execute_result"
    }
   ],
   "source": [
    "final_model = Sequential()\n",
    "\n",
    "final_model.add(Dense(units = 4, activation = \"relu\"))     # input_dim = 2 or input_dim = X_train.shape[1]\n",
    "final_model.add(Dense(units = 4, activation = \"relu\"))\n",
    "final_model.add(Dense(units = 4, activation = \"relu\"))\n",
    "final_model.add(Dense(1))\n",
    "\n",
    "final_model.compile(optimizer = \"rmsprop\", loss = \"mse\")\n",
    "\n",
    "final_model.fit(x = X_scaled, y = y, batch_size = 32, epochs = 250)\n",
    "\n",
    "# input_dim = 2 or input_dim = X_train.shape[1] : Bunu kullanmazsam final_model.summary() dediğimde hata verir\n",
    "# .. ama fit yapıp sonra final_model.summary() yaparsam hata vermez çünkü fit kısmında \"X_scaled\" dan input size ı görüyor\n",
    "# .. o yüzden input_dim = 2 or input_dim = X_train.shape[1] yazmadık"
   ]
  },
  {
   "cell_type": "code",
   "execution_count": 68,
   "metadata": {
    "ExecuteTime": {
     "end_time": "2022-09-29T19:42:34.996032Z",
     "start_time": "2022-09-29T19:42:34.981305Z"
    }
   },
   "outputs": [
    {
     "name": "stdout",
     "output_type": "stream",
     "text": [
      "Model: \"sequential_3\"\n",
      "_________________________________________________________________\n",
      " Layer (type)                Output Shape              Param #   \n",
      "=================================================================\n",
      " dense_12 (Dense)            (None, 4)                 12        \n",
      "                                                                 \n",
      " dense_13 (Dense)            (None, 4)                 20        \n",
      "                                                                 \n",
      " dense_14 (Dense)            (None, 4)                 20        \n",
      "                                                                 \n",
      " dense_15 (Dense)            (None, 1)                 5         \n",
      "                                                                 \n",
      "=================================================================\n",
      "Total params: 57\n",
      "Trainable params: 57\n",
      "Non-trainable params: 0\n",
      "_________________________________________________________________\n"
     ]
    }
   ],
   "source": [
    "final_model.summary()"
   ]
  },
  {
   "cell_type": "markdown",
   "metadata": {},
   "source": [
    "### Saving a Model"
   ]
  },
  {
   "cell_type": "markdown",
   "metadata": {},
   "source": [
    "You can save a TensorFlow/Keras model using [`model.save()`](https://www.tensorflow.org/tutorials/keras/save_and_load#save_the_entire_model).\n",
    "\n",
    "Keras saves models by inspecting their architectures. This technique saves everything:\n",
    "\n",
    "- The weight values\n",
    "- The model's architecture\n",
    "- The model's training configuration (what you pass to the .compile() method)\n",
    "- The optimizer and its state, if any (this enables you to restart training where you left off)\n",
    "\n",
    "There are two ways to save a model in TensorFlow:\n",
    "1. The [SavedModel format](https://www.tensorflow.org/tutorials/keras/save_and_load#savedmodel_format) (default).\n",
    "2. The [HDF5 format](https://www.tensorflow.org/tutorials/keras/save_and_load#hdf5_format).\n",
    "\n"
   ]
  },
  {
   "cell_type": "code",
   "execution_count": 69,
   "metadata": {
    "ExecuteTime": {
     "end_time": "2022-09-29T19:42:37.411846Z",
     "start_time": "2022-09-29T19:42:37.341109Z"
    }
   },
   "outputs": [],
   "source": [
    "final_model.save('model_fake_reg.h5')  # creates a HDF5 file 'my_model.h5'\n",
    "\n",
    "# Peki ne kaydediyor? Alttakileri\n",
    "\"\"\"\n",
    "The weight values\n",
    "The model's architecture\n",
    "The model's training configuration (what you pass to the .compile() method)\n",
    "The optimizer and its state, if any (this enables you to restart training where you left off)\n",
    "\"\"\""
   ]
  },
  {
   "cell_type": "code",
   "execution_count": 70,
   "metadata": {
    "ExecuteTime": {
     "end_time": "2022-09-29T19:42:39.068325Z",
     "start_time": "2022-09-29T19:42:39.054458Z"
    }
   },
   "outputs": [],
   "source": [
    "#final_model.save(\"model_fake_reg\") "
   ]
  },
  {
   "cell_type": "markdown",
   "metadata": {},
   "source": [
    "### Loading Model"
   ]
  },
  {
   "cell_type": "code",
   "execution_count": 71,
   "metadata": {
    "ExecuteTime": {
     "end_time": "2022-09-29T19:42:39.453657Z",
     "start_time": "2022-09-29T19:42:39.443895Z"
    }
   },
   "outputs": [],
   "source": [
    "from tensorflow.keras.models import load_model"
   ]
  },
  {
   "cell_type": "code",
   "execution_count": 72,
   "metadata": {
    "ExecuteTime": {
     "end_time": "2022-09-29T19:42:39.932533Z",
     "start_time": "2022-09-29T19:42:39.828096Z"
    }
   },
   "outputs": [],
   "source": [
    "model_fake_reg = load_model('model_fake_reg.h5') # h5 yazmazsak default format var bir tane o formatta kaydediyor"
   ]
  },
  {
   "cell_type": "code",
   "execution_count": 73,
   "metadata": {
    "ExecuteTime": {
     "end_time": "2022-09-29T19:42:40.025464Z",
     "start_time": "2022-09-29T19:42:40.012273Z"
    }
   },
   "outputs": [],
   "source": [
    "scaler_fake_reg = pickle.load(open(\"scaler_fake_reg\", \"rb\")) # Scaler pickle ile yapılıyordu. Bunu pickle ile aldık"
   ]
  },
  {
   "cell_type": "markdown",
   "metadata": {},
   "source": [
    "## Prediction-1"
   ]
  },
  {
   "cell_type": "code",
   "execution_count": 74,
   "metadata": {
    "ExecuteTime": {
     "end_time": "2022-09-29T19:42:40.805018Z",
     "start_time": "2022-09-29T19:42:40.792283Z"
    }
   },
   "outputs": [],
   "source": [
    "sample = [[998, 1000]]"
   ]
  },
  {
   "cell_type": "code",
   "execution_count": 75,
   "metadata": {
    "ExecuteTime": {
     "end_time": "2022-09-29T19:42:40.976426Z",
     "start_time": "2022-09-29T19:42:40.966597Z"
    }
   },
   "outputs": [],
   "source": [
    "sample_scaled = scaler_fake_reg.transform(sample)"
   ]
  },
  {
   "cell_type": "code",
   "execution_count": 76,
   "metadata": {
    "ExecuteTime": {
     "end_time": "2022-09-29T19:42:41.269070Z",
     "start_time": "2022-09-29T19:42:41.108586Z"
    }
   },
   "outputs": [
    {
     "name": "stdout",
     "output_type": "stream",
     "text": [
      "1/1 [==============================] - 0s 96ms/step\n"
     ]
    },
    {
     "data": {
      "text/plain": [
       "array([[419.32352]], dtype=float32)"
      ]
     },
     "execution_count": 76,
     "metadata": {},
     "output_type": "execute_result"
    }
   ],
   "source": [
    "model_fake_reg.predict(sample_scaled)"
   ]
  },
  {
   "cell_type": "markdown",
   "metadata": {},
   "source": [
    "## Prediction-2"
   ]
  },
  {
   "cell_type": "code",
   "execution_count": 77,
   "metadata": {
    "ExecuteTime": {
     "end_time": "2022-09-29T19:42:41.500422Z",
     "start_time": "2022-09-29T19:42:41.492175Z"
    }
   },
   "outputs": [],
   "source": [
    "my_dict = {\"Feature1\": [997, 998, 999, 1000, 1001],\n",
    "           \"Feature2\": [1000, 999, 998, 997, 996]}"
   ]
  },
  {
   "cell_type": "code",
   "execution_count": 78,
   "metadata": {
    "ExecuteTime": {
     "end_time": "2022-09-29T19:42:41.718246Z",
     "start_time": "2022-09-29T19:42:41.694089Z"
    }
   },
   "outputs": [
    {
     "data": {
      "text/html": [
       "<div>\n",
       "<style scoped>\n",
       "    .dataframe tbody tr th:only-of-type {\n",
       "        vertical-align: middle;\n",
       "    }\n",
       "\n",
       "    .dataframe tbody tr th {\n",
       "        vertical-align: top;\n",
       "    }\n",
       "\n",
       "    .dataframe thead th {\n",
       "        text-align: right;\n",
       "    }\n",
       "</style>\n",
       "<table border=\"1\" class=\"dataframe\">\n",
       "  <thead>\n",
       "    <tr style=\"text-align: right;\">\n",
       "      <th></th>\n",
       "      <th>Feature1</th>\n",
       "      <th>Feature2</th>\n",
       "    </tr>\n",
       "  </thead>\n",
       "  <tbody>\n",
       "    <tr>\n",
       "      <th>0</th>\n",
       "      <td>997</td>\n",
       "      <td>1000</td>\n",
       "    </tr>\n",
       "    <tr>\n",
       "      <th>1</th>\n",
       "      <td>998</td>\n",
       "      <td>999</td>\n",
       "    </tr>\n",
       "    <tr>\n",
       "      <th>2</th>\n",
       "      <td>999</td>\n",
       "      <td>998</td>\n",
       "    </tr>\n",
       "    <tr>\n",
       "      <th>3</th>\n",
       "      <td>1000</td>\n",
       "      <td>997</td>\n",
       "    </tr>\n",
       "    <tr>\n",
       "      <th>4</th>\n",
       "      <td>1001</td>\n",
       "      <td>996</td>\n",
       "    </tr>\n",
       "  </tbody>\n",
       "</table>\n",
       "</div>"
      ],
      "text/plain": [
       "   Feature1  Feature2\n",
       "0       997      1000\n",
       "1       998       999\n",
       "2       999       998\n",
       "3      1000       997\n",
       "4      1001       996"
      ]
     },
     "execution_count": 78,
     "metadata": {},
     "output_type": "execute_result"
    }
   ],
   "source": [
    "sample = pd.DataFrame(my_dict)\n",
    "sample"
   ]
  },
  {
   "cell_type": "code",
   "execution_count": 79,
   "metadata": {
    "ExecuteTime": {
     "end_time": "2022-09-29T19:42:41.874541Z",
     "start_time": "2022-09-29T19:42:41.859613Z"
    }
   },
   "outputs": [
    {
     "data": {
      "text/plain": [
       "array([[-0.00948799,  0.52980619],\n",
       "       [ 0.15312457,  0.35345977],\n",
       "       [ 0.31573713,  0.17711336],\n",
       "       [ 0.47834969,  0.00076694],\n",
       "       [ 0.64096225, -0.17557948]])"
      ]
     },
     "execution_count": 79,
     "metadata": {},
     "output_type": "execute_result"
    }
   ],
   "source": [
    "sample_scaled = scaler_fake_reg.transform(sample)\n",
    "sample_scaled"
   ]
  },
  {
   "cell_type": "code",
   "execution_count": 80,
   "metadata": {
    "ExecuteTime": {
     "end_time": "2022-09-29T19:42:42.154173Z",
     "start_time": "2022-09-29T19:42:42.053190Z"
    }
   },
   "outputs": [
    {
     "name": "stdout",
     "output_type": "stream",
     "text": [
      "1/1 [==============================] - 0s 29ms/step\n"
     ]
    },
    {
     "data": {
      "text/plain": [
       "array([[379.23328],\n",
       "       [330.85687],\n",
       "       [282.48044],\n",
       "       [234.10402],\n",
       "       [185.72758]], dtype=float32)"
      ]
     },
     "execution_count": 80,
     "metadata": {},
     "output_type": "execute_result"
    }
   ],
   "source": [
    "model_fake_reg.predict(sample_scaled)"
   ]
  },
  {
   "cell_type": "markdown",
   "metadata": {},
   "source": [
    "___\n",
    "\n",
    "<p style=\"text-align: center;\"><img src=\"https://docs.google.com/uc?id=1lY0Uj5R04yMY3-ZppPWxqCr5pvBLYPnV\" class=\"img-fluid\" alt=\"CLRSWY\"></p>\n",
    "\n",
    "___"
   ]
  },
  {
   "cell_type": "code",
   "execution_count": null,
   "metadata": {},
   "outputs": [],
   "source": []
  }
 ],
 "metadata": {
  "hide_input": false,
  "interpreter": {
   "hash": "aee8b7b246df8f9039afb4144a1f6fd8d2ca17a180786b69acc140d282b71a49"
  },
  "kernelspec": {
   "display_name": "Python 3 (ipykernel)",
   "language": "python",
   "name": "python3"
  },
  "language_info": {
   "codemirror_mode": {
    "name": "ipython",
    "version": 3
   },
   "file_extension": ".py",
   "mimetype": "text/x-python",
   "name": "python",
   "nbconvert_exporter": "python",
   "pygments_lexer": "ipython3",
   "version": "3.9.12"
  },
  "toc": {
   "base_numbering": 1,
   "nav_menu": {},
   "number_sections": false,
   "sideBar": true,
   "skip_h1_title": false,
   "title_cell": "Table of Contents",
   "title_sidebar": "Contents",
   "toc_cell": false,
   "toc_position": {
    "height": "calc(100% - 180px)",
    "left": "10px",
    "top": "150px",
    "width": "300.099px"
   },
   "toc_section_display": true,
   "toc_window_display": false
  }
 },
 "nbformat": 4,
 "nbformat_minor": 4
}
